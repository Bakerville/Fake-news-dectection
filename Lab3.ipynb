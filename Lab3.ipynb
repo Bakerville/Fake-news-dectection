{
 "cells": [
  {
   "cell_type": "markdown",
   "id": "1cf30641",
   "metadata": {},
   "source": [
    "# Đồ án 3: Fake news detection"
   ]
  },
  {
   "cell_type": "markdown",
   "id": "9b06ead3",
   "metadata": {},
   "source": [
    "### 1. Đọc tập dữ liệu"
   ]
  },
  {
   "cell_type": "markdown",
   "id": "484f07a6",
   "metadata": {},
   "source": [
    "Thư viện"
   ]
  },
  {
   "cell_type": "code",
   "execution_count": 1,
   "id": "6bbf1430",
   "metadata": {},
   "outputs": [],
   "source": [
    "import pandas as pd \n",
    "import re\n",
    "\n",
    "#!pip install underthesea\n",
    "from underthesea import sent_tokenize\n",
    "from underthesea import classify\n",
    "from underthesea import word_tokenize"
   ]
  },
  {
   "cell_type": "code",
   "execution_count": 2,
   "id": "209a7a26",
   "metadata": {},
   "outputs": [],
   "source": [
    "import matplotlib.pyplot as plt\n",
    "import seaborn as sns # seaborn là thư viện được xây trên matplotlib, \n",
    "                      # giúp việc visualization đỡ khổ hơn\n",
    "import pandas as pd\n",
    "import numpy as np\n",
    "from sklearn.metrics import classification_report\n",
    "from sklearn.model_selection import train_test_split\n",
    "from sklearn.preprocessing import OneHotEncoder, StandardScaler\n",
    "from sklearn.metrics import accuracy_score\n",
    "from sklearn.model_selection import cross_val_score\n",
    "from sklearn.tree import DecisionTreeClassifier\n",
    "from sklearn import set_config\n",
    "set_config(display='diagram')"
   ]
  },
  {
   "cell_type": "markdown",
   "id": "bf585616",
   "metadata": {},
   "source": [
    "#### Sử dụng Underthesea - Vietnamese NLP Toolkit"
   ]
  },
  {
   "cell_type": "markdown",
   "id": "9740320b",
   "metadata": {},
   "source": [
    "#### 1.1. Bộ dữ liệu có bao nhiêu dòng và bao nhiêu cột?"
   ]
  },
  {
   "cell_type": "code",
   "execution_count": 3,
   "id": "34e7c801",
   "metadata": {},
   "outputs": [
    {
     "data": {
      "text/html": [
       "<div>\n",
       "<style scoped>\n",
       "    .dataframe tbody tr th:only-of-type {\n",
       "        vertical-align: middle;\n",
       "    }\n",
       "\n",
       "    .dataframe tbody tr th {\n",
       "        vertical-align: top;\n",
       "    }\n",
       "\n",
       "    .dataframe thead th {\n",
       "        text-align: right;\n",
       "    }\n",
       "</style>\n",
       "<table border=\"1\" class=\"dataframe\">\n",
       "  <thead>\n",
       "    <tr style=\"text-align: right;\">\n",
       "      <th></th>\n",
       "      <th>text</th>\n",
       "      <th>domain</th>\n",
       "      <th>label</th>\n",
       "    </tr>\n",
       "  </thead>\n",
       "  <tbody>\n",
       "    <tr>\n",
       "      <th>0</th>\n",
       "      <td>Thủ tướng Abe cúi đầu xin lỗi vì hành động phi thể thao của tuyển Nhật\\nTheo Sankei Sports, sáng nay Thủ tướng Nhật Bản Shinzo Abe công ...</td>\n",
       "      <td>binhluan.biz</td>\n",
       "      <td>1</td>\n",
       "    </tr>\n",
       "    <tr>\n",
       "      <th>1</th>\n",
       "      <td>Thủ tướng Nhật cúi đầu xin lỗi vì tinh thần phi thể thao của đội bóng\\nSáng 19/6, Thủ tướng Nhật Bản Shinzo Abe công khai gửi lời xin lỗ...</td>\n",
       "      <td>www.ipick.vn</td>\n",
       "      <td>1</td>\n",
       "    </tr>\n",
       "    <tr>\n",
       "      <th>2</th>\n",
       "      <td>Choáng! Cơ trưởng đeo khăn quàng quẩy banh nóc trên sân khấu trường!!!\\nXót xa hình ảnh thầy trò lội bùn băng rừng đến trường ở Nghệ An\\...</td>\n",
       "      <td>tintucqpvn.net</td>\n",
       "      <td>1</td>\n",
       "    </tr>\n",
       "    <tr>\n",
       "      <th>3</th>\n",
       "      <td>Chưa bao giờ nhạc Kpop lại dễ hát đến thế!!!\\nGiáo sư Nguyễn Lân Dũng: ‘Con tôi thành đạt nhờ cách đánh vần ‘ô vuông tam giác’\\nGS.Nguyễ...</td>\n",
       "      <td>tintucqpvn.net</td>\n",
       "      <td>1</td>\n",
       "    </tr>\n",
       "    <tr>\n",
       "      <th>4</th>\n",
       "      <td>Đại học Hutech sẽ áp dụng cải cách \"Tiếq Việt\" vào năm học 2018?\\nMới đây, ông Phạm Ngọc Thanh, Phó giám đốc Sở GD – ĐT Tp. Hồ Chí Minh ...</td>\n",
       "      <td>www.gioitreviet.net</td>\n",
       "      <td>1</td>\n",
       "    </tr>\n",
       "    <tr>\n",
       "      <th>5</th>\n",
       "      <td>Cười vỡ bụng khi tiếng CẢI CÁCH \"vuông tròn\" xâm nhập chợ búa, các mẹ sử dụng chuyên nghiệp\\nNhững ngày qua, các phụ huynh liên tục chia...</td>\n",
       "      <td>giadinhtiepthi.com</td>\n",
       "      <td>1</td>\n",
       "    </tr>\n",
       "    <tr>\n",
       "      <th>6</th>\n",
       "      <td>Chia sẻ thẳng thắn vụ việc 25000 USD và cải cách giáo dục, rốt cục là “sân si” hay là “ganh tị”\\nNhững ngày qua, trên mạng xã hội các ph...</td>\n",
       "      <td>giadinhtiepthi.com</td>\n",
       "      <td>1</td>\n",
       "    </tr>\n",
       "    <tr>\n",
       "      <th>7</th>\n",
       "      <td>Hại não với Vọng Cổ mang tên Vuông Tròn Tam Giác!\\nChương trình công nghệ giáo dục: Hãy tôn trọng sự khác biệt !\\nTrong “cơn bão” tranh ...</td>\n",
       "      <td>tintucqpvn.net</td>\n",
       "      <td>1</td>\n",
       "    </tr>\n",
       "    <tr>\n",
       "      <th>8</th>\n",
       "      <td>Kinh hoàng bé gái bị chó nhà tấn công, cắn vào khắp người gây phẫn nộ\\n“Sẽ cấm tiệt, không cho mang chó vào phố đi bộ hồ Gươm”\\n“Chúng t...</td>\n",
       "      <td>tintucqpvn.net</td>\n",
       "      <td>1</td>\n",
       "    </tr>\n",
       "    <tr>\n",
       "      <th>9</th>\n",
       "      <td>Bức vẽ giúp bạn đánh giá mức độ stress của bản thân\\nNhìn bức tranh, bạn có thể thấy vòng tròn đang chuyển động một cách chậm rãi. Người...</td>\n",
       "      <td>suckhoe.vnexpress.net</td>\n",
       "      <td>1</td>\n",
       "    </tr>\n",
       "  </tbody>\n",
       "</table>\n",
       "</div>"
      ],
      "text/plain": [
       "                                                                                                                                          text  \\\n",
       "0  Thủ tướng Abe cúi đầu xin lỗi vì hành động phi thể thao của tuyển Nhật\\nTheo Sankei Sports, sáng nay Thủ tướng Nhật Bản Shinzo Abe công ...   \n",
       "1  Thủ tướng Nhật cúi đầu xin lỗi vì tinh thần phi thể thao của đội bóng\\nSáng 19/6, Thủ tướng Nhật Bản Shinzo Abe công khai gửi lời xin lỗ...   \n",
       "2  Choáng! Cơ trưởng đeo khăn quàng quẩy banh nóc trên sân khấu trường!!!\\nXót xa hình ảnh thầy trò lội bùn băng rừng đến trường ở Nghệ An\\...   \n",
       "3  Chưa bao giờ nhạc Kpop lại dễ hát đến thế!!!\\nGiáo sư Nguyễn Lân Dũng: ‘Con tôi thành đạt nhờ cách đánh vần ‘ô vuông tam giác’\\nGS.Nguyễ...   \n",
       "4  Đại học Hutech sẽ áp dụng cải cách \"Tiếq Việt\" vào năm học 2018?\\nMới đây, ông Phạm Ngọc Thanh, Phó giám đốc Sở GD – ĐT Tp. Hồ Chí Minh ...   \n",
       "5  Cười vỡ bụng khi tiếng CẢI CÁCH \"vuông tròn\" xâm nhập chợ búa, các mẹ sử dụng chuyên nghiệp\\nNhững ngày qua, các phụ huynh liên tục chia...   \n",
       "6  Chia sẻ thẳng thắn vụ việc 25000 USD và cải cách giáo dục, rốt cục là “sân si” hay là “ganh tị”\\nNhững ngày qua, trên mạng xã hội các ph...   \n",
       "7  Hại não với Vọng Cổ mang tên Vuông Tròn Tam Giác!\\nChương trình công nghệ giáo dục: Hãy tôn trọng sự khác biệt !\\nTrong “cơn bão” tranh ...   \n",
       "8  Kinh hoàng bé gái bị chó nhà tấn công, cắn vào khắp người gây phẫn nộ\\n“Sẽ cấm tiệt, không cho mang chó vào phố đi bộ hồ Gươm”\\n“Chúng t...   \n",
       "9  Bức vẽ giúp bạn đánh giá mức độ stress của bản thân\\nNhìn bức tranh, bạn có thể thấy vòng tròn đang chuyển động một cách chậm rãi. Người...   \n",
       "\n",
       "                  domain  label  \n",
       "0           binhluan.biz      1  \n",
       "1           www.ipick.vn      1  \n",
       "2         tintucqpvn.net      1  \n",
       "3         tintucqpvn.net      1  \n",
       "4    www.gioitreviet.net      1  \n",
       "5     giadinhtiepthi.com      1  \n",
       "6     giadinhtiepthi.com      1  \n",
       "7         tintucqpvn.net      1  \n",
       "8         tintucqpvn.net      1  \n",
       "9  suckhoe.vnexpress.net      1  "
      ]
     },
     "execution_count": 3,
     "metadata": {},
     "output_type": "execute_result"
    }
   ],
   "source": [
    "pd.set_option(\"max_colwidth\", 140)\n",
    "\n",
    "res = pd.read_csv(\"vn_news_223_tdlfr.csv\" , sep =',',encoding = 'utf-8')\n",
    "vnnews_df = pd.DataFrame(data=res)\n",
    "vnnews_df.head(10)"
   ]
  },
  {
   "cell_type": "code",
   "execution_count": 4,
   "id": "a097052a",
   "metadata": {},
   "outputs": [
    {
     "name": "stdout",
     "output_type": "stream",
     "text": [
      "223 3\n"
     ]
    }
   ],
   "source": [
    "num_rows = vnnews_df.shape[0]\n",
    "num_cols = vnnews_df.shape[1]\n",
    "print(num_rows, num_cols)"
   ]
  },
  {
   "cell_type": "markdown",
   "id": "2f46cc9a",
   "metadata": {},
   "source": [
    "#### Bộ dữ liệu có 223 dòng và 3 cột"
   ]
  },
  {
   "cell_type": "markdown",
   "id": "02fd5052",
   "metadata": {},
   "source": [
    "#### 1.2 Dữ liệu có bị trùng lắp không?"
   ]
  },
  {
   "cell_type": "code",
   "execution_count": 5,
   "id": "a0fe926b",
   "metadata": {},
   "outputs": [
    {
     "name": "stdout",
     "output_type": "stream",
     "text": [
      "2\n"
     ]
    }
   ],
   "source": [
    "count_duplicated = vnnews_df.duplicated(keep = False).sum()\n",
    "print(count_duplicated)"
   ]
  },
  {
   "cell_type": "markdown",
   "id": "435162a9",
   "metadata": {},
   "source": [
    "Như vậy, có 2 dòng dữ liệu bị trùng. Ta sẽ xóa đi dữ liệu bị trùng"
   ]
  },
  {
   "cell_type": "code",
   "execution_count": 6,
   "id": "4d0353be",
   "metadata": {
    "scrolled": true
   },
   "outputs": [
    {
     "data": {
      "text/html": [
       "<div>\n",
       "<style scoped>\n",
       "    .dataframe tbody tr th:only-of-type {\n",
       "        vertical-align: middle;\n",
       "    }\n",
       "\n",
       "    .dataframe tbody tr th {\n",
       "        vertical-align: top;\n",
       "    }\n",
       "\n",
       "    .dataframe thead th {\n",
       "        text-align: right;\n",
       "    }\n",
       "</style>\n",
       "<table border=\"1\" class=\"dataframe\">\n",
       "  <thead>\n",
       "    <tr style=\"text-align: right;\">\n",
       "      <th></th>\n",
       "      <th>text</th>\n",
       "      <th>domain</th>\n",
       "      <th>label</th>\n",
       "    </tr>\n",
       "  </thead>\n",
       "  <tbody>\n",
       "    <tr>\n",
       "      <th>0</th>\n",
       "      <td>Thủ tướng Abe cúi đầu xin lỗi vì hành động phi thể thao của tuyển Nhật\\nTheo Sankei Sports, sáng nay Thủ tướng Nhật Bản Shinzo Abe công ...</td>\n",
       "      <td>binhluan.biz</td>\n",
       "      <td>1</td>\n",
       "    </tr>\n",
       "    <tr>\n",
       "      <th>1</th>\n",
       "      <td>Thủ tướng Nhật cúi đầu xin lỗi vì tinh thần phi thể thao của đội bóng\\nSáng 19/6, Thủ tướng Nhật Bản Shinzo Abe công khai gửi lời xin lỗ...</td>\n",
       "      <td>www.ipick.vn</td>\n",
       "      <td>1</td>\n",
       "    </tr>\n",
       "    <tr>\n",
       "      <th>2</th>\n",
       "      <td>Choáng! Cơ trưởng đeo khăn quàng quẩy banh nóc trên sân khấu trường!!!\\nXót xa hình ảnh thầy trò lội bùn băng rừng đến trường ở Nghệ An\\...</td>\n",
       "      <td>tintucqpvn.net</td>\n",
       "      <td>1</td>\n",
       "    </tr>\n",
       "    <tr>\n",
       "      <th>3</th>\n",
       "      <td>Chưa bao giờ nhạc Kpop lại dễ hát đến thế!!!\\nGiáo sư Nguyễn Lân Dũng: ‘Con tôi thành đạt nhờ cách đánh vần ‘ô vuông tam giác’\\nGS.Nguyễ...</td>\n",
       "      <td>tintucqpvn.net</td>\n",
       "      <td>1</td>\n",
       "    </tr>\n",
       "    <tr>\n",
       "      <th>4</th>\n",
       "      <td>Đại học Hutech sẽ áp dụng cải cách \"Tiếq Việt\" vào năm học 2018?\\nMới đây, ông Phạm Ngọc Thanh, Phó giám đốc Sở GD – ĐT Tp. Hồ Chí Minh ...</td>\n",
       "      <td>www.gioitreviet.net</td>\n",
       "      <td>1</td>\n",
       "    </tr>\n",
       "    <tr>\n",
       "      <th>...</th>\n",
       "      <td>...</td>\n",
       "      <td>...</td>\n",
       "      <td>...</td>\n",
       "    </tr>\n",
       "    <tr>\n",
       "      <th>218</th>\n",
       "      <td>“Siêu máy bay” A350 sẽ chở CĐV Việt Nam đi Malaysia cổ vũ chung kết lượt đi\\n\"Siêu máy bay\" A350-900 của Vietnam Airlines sẽ chở CĐV Việ...</td>\n",
       "      <td>dantri.com.vn</td>\n",
       "      <td>0</td>\n",
       "    </tr>\n",
       "    <tr>\n",
       "      <th>219</th>\n",
       "      <td>Thưởng 20.000 USD cho đội tuyển cờ vua Việt Nam tại Olympiad 2018\\nMột lần nữa, Cờ vua Việt Nam lại khẳng định đẳng cấp trên đấu trường ...</td>\n",
       "      <td>dantri.com.vn</td>\n",
       "      <td>0</td>\n",
       "    </tr>\n",
       "    <tr>\n",
       "      <th>220</th>\n",
       "      <td>Trường Sơn giành HCV tại giải cờ vua đồng đội thế giới 2018\\nHạng 7 chung cuộc cũng là hạng cao nhất của cờ vua Việt Nam tại các kỳ Olym...</td>\n",
       "      <td>dantri.com.vn</td>\n",
       "      <td>0</td>\n",
       "    </tr>\n",
       "    <tr>\n",
       "      <th>221</th>\n",
       "      <td>Chuyện về chàng sinh viên Luật - Kiện tướng Lê Tuấn Minh\\nHôm nay, chúng tôi liên lạc vào số máy của Lê Tuấn Minh thì mẹ cậu bắt máy. Hỏ...</td>\n",
       "      <td>dantri.com.vn</td>\n",
       "      <td>0</td>\n",
       "    </tr>\n",
       "    <tr>\n",
       "      <th>222</th>\n",
       "      <td>Tiền đạo Malaysia: “Tôi đã có cách vượt qua hàng thủ đội tuyển Việt Nam”\\nỞ trận đấu vòng bảng AFF Cup 2018, Norshahrul Idlan Talaha đã ...</td>\n",
       "      <td>dantri.com.vn</td>\n",
       "      <td>0</td>\n",
       "    </tr>\n",
       "  </tbody>\n",
       "</table>\n",
       "<p>222 rows × 3 columns</p>\n",
       "</div>"
      ],
      "text/plain": [
       "                                                                                                                                            text  \\\n",
       "0    Thủ tướng Abe cúi đầu xin lỗi vì hành động phi thể thao của tuyển Nhật\\nTheo Sankei Sports, sáng nay Thủ tướng Nhật Bản Shinzo Abe công ...   \n",
       "1    Thủ tướng Nhật cúi đầu xin lỗi vì tinh thần phi thể thao của đội bóng\\nSáng 19/6, Thủ tướng Nhật Bản Shinzo Abe công khai gửi lời xin lỗ...   \n",
       "2    Choáng! Cơ trưởng đeo khăn quàng quẩy banh nóc trên sân khấu trường!!!\\nXót xa hình ảnh thầy trò lội bùn băng rừng đến trường ở Nghệ An\\...   \n",
       "3    Chưa bao giờ nhạc Kpop lại dễ hát đến thế!!!\\nGiáo sư Nguyễn Lân Dũng: ‘Con tôi thành đạt nhờ cách đánh vần ‘ô vuông tam giác’\\nGS.Nguyễ...   \n",
       "4    Đại học Hutech sẽ áp dụng cải cách \"Tiếq Việt\" vào năm học 2018?\\nMới đây, ông Phạm Ngọc Thanh, Phó giám đốc Sở GD – ĐT Tp. Hồ Chí Minh ...   \n",
       "..                                                                                                                                           ...   \n",
       "218  “Siêu máy bay” A350 sẽ chở CĐV Việt Nam đi Malaysia cổ vũ chung kết lượt đi\\n\"Siêu máy bay\" A350-900 của Vietnam Airlines sẽ chở CĐV Việ...   \n",
       "219  Thưởng 20.000 USD cho đội tuyển cờ vua Việt Nam tại Olympiad 2018\\nMột lần nữa, Cờ vua Việt Nam lại khẳng định đẳng cấp trên đấu trường ...   \n",
       "220  Trường Sơn giành HCV tại giải cờ vua đồng đội thế giới 2018\\nHạng 7 chung cuộc cũng là hạng cao nhất của cờ vua Việt Nam tại các kỳ Olym...   \n",
       "221  Chuyện về chàng sinh viên Luật - Kiện tướng Lê Tuấn Minh\\nHôm nay, chúng tôi liên lạc vào số máy của Lê Tuấn Minh thì mẹ cậu bắt máy. Hỏ...   \n",
       "222  Tiền đạo Malaysia: “Tôi đã có cách vượt qua hàng thủ đội tuyển Việt Nam”\\nỞ trận đấu vòng bảng AFF Cup 2018, Norshahrul Idlan Talaha đã ...   \n",
       "\n",
       "                  domain  label  \n",
       "0           binhluan.biz      1  \n",
       "1           www.ipick.vn      1  \n",
       "2         tintucqpvn.net      1  \n",
       "3         tintucqpvn.net      1  \n",
       "4    www.gioitreviet.net      1  \n",
       "..                   ...    ...  \n",
       "218        dantri.com.vn      0  \n",
       "219        dantri.com.vn      0  \n",
       "220        dantri.com.vn      0  \n",
       "221        dantri.com.vn      0  \n",
       "222        dantri.com.vn      0  \n",
       "\n",
       "[222 rows x 3 columns]"
      ]
     },
     "execution_count": 6,
     "metadata": {},
     "output_type": "execute_result"
    }
   ],
   "source": [
    "# pd.set_option(\"max_colwidth\", 140)\n",
    "vnnews_df = vnnews_df.drop_duplicates()\n",
    "vnnews_df"
   ]
  },
  {
   "cell_type": "markdown",
   "id": "b4375e37",
   "metadata": {},
   "source": [
    "#### 1.3. Kiểu dữ liệu"
   ]
  },
  {
   "cell_type": "code",
   "execution_count": 7,
   "id": "1b4afc2d",
   "metadata": {},
   "outputs": [
    {
     "data": {
      "text/plain": [
       "text      object\n",
       "domain    object\n",
       "label      int64\n",
       "dtype: object"
      ]
     },
     "execution_count": 7,
     "metadata": {},
     "output_type": "execute_result"
    }
   ],
   "source": [
    "vnnews_df.dtypes"
   ]
  },
  {
   "cell_type": "markdown",
   "id": "bce36759",
   "metadata": {},
   "source": [
    "Ta chuyển cột `text` và `domain` sang kiểu string"
   ]
  },
  {
   "cell_type": "code",
   "execution_count": 8,
   "id": "e7071dfe",
   "metadata": {},
   "outputs": [],
   "source": [
    "vnnews_df['text'] = vnnews_df['text'].astype(str)\n",
    "vnnews_df['domain'] = vnnews_df['domain'].astype(str)"
   ]
  },
  {
   "cell_type": "markdown",
   "id": "c977f63a",
   "metadata": {},
   "source": [
    "### 2. Tiền xử lý văn bản"
   ]
  },
  {
   "cell_type": "code",
   "execution_count": 9,
   "id": "73596263",
   "metadata": {
    "scrolled": true
   },
   "outputs": [
    {
     "data": {
      "text/html": [
       "<div>\n",
       "<style scoped>\n",
       "    .dataframe tbody tr th:only-of-type {\n",
       "        vertical-align: middle;\n",
       "    }\n",
       "\n",
       "    .dataframe tbody tr th {\n",
       "        vertical-align: top;\n",
       "    }\n",
       "\n",
       "    .dataframe thead th {\n",
       "        text-align: right;\n",
       "    }\n",
       "</style>\n",
       "<table border=\"1\" class=\"dataframe\">\n",
       "  <thead>\n",
       "    <tr style=\"text-align: right;\">\n",
       "      <th></th>\n",
       "      <th>text</th>\n",
       "      <th>domain</th>\n",
       "      <th>label</th>\n",
       "    </tr>\n",
       "  </thead>\n",
       "  <tbody>\n",
       "    <tr>\n",
       "      <th>0</th>\n",
       "      <td>Thủ tướng Abe cúi đầu xin lỗi vì hành động phi thể thao của tuyển Nhật\\nTheo Sankei Sports, sáng nay Thủ tướng Nhật Bản Shinzo Abe công ...</td>\n",
       "      <td>binhluan.biz</td>\n",
       "      <td>1</td>\n",
       "    </tr>\n",
       "    <tr>\n",
       "      <th>1</th>\n",
       "      <td>Thủ tướng Nhật cúi đầu xin lỗi vì tinh thần phi thể thao của đội bóng\\nSáng 19/6, Thủ tướng Nhật Bản Shinzo Abe công khai gửi lời xin lỗ...</td>\n",
       "      <td>www.ipick.vn</td>\n",
       "      <td>1</td>\n",
       "    </tr>\n",
       "    <tr>\n",
       "      <th>2</th>\n",
       "      <td>Choáng! Cơ trưởng đeo khăn quàng quẩy banh nóc trên sân khấu trường!!!\\nXót xa hình ảnh thầy trò lội bùn băng rừng đến trường ở Nghệ An\\...</td>\n",
       "      <td>tintucqpvn.net</td>\n",
       "      <td>1</td>\n",
       "    </tr>\n",
       "  </tbody>\n",
       "</table>\n",
       "</div>"
      ],
      "text/plain": [
       "                                                                                                                                          text  \\\n",
       "0  Thủ tướng Abe cúi đầu xin lỗi vì hành động phi thể thao của tuyển Nhật\\nTheo Sankei Sports, sáng nay Thủ tướng Nhật Bản Shinzo Abe công ...   \n",
       "1  Thủ tướng Nhật cúi đầu xin lỗi vì tinh thần phi thể thao của đội bóng\\nSáng 19/6, Thủ tướng Nhật Bản Shinzo Abe công khai gửi lời xin lỗ...   \n",
       "2  Choáng! Cơ trưởng đeo khăn quàng quẩy banh nóc trên sân khấu trường!!!\\nXót xa hình ảnh thầy trò lội bùn băng rừng đến trường ở Nghệ An\\...   \n",
       "\n",
       "           domain  label  \n",
       "0    binhluan.biz      1  \n",
       "1    www.ipick.vn      1  \n",
       "2  tintucqpvn.net      1  "
      ]
     },
     "execution_count": 9,
     "metadata": {},
     "output_type": "execute_result"
    }
   ],
   "source": [
    "vnnews_df.head(3)"
   ]
  },
  {
   "cell_type": "markdown",
   "id": "c9e3f75c",
   "metadata": {},
   "source": [
    "Trong những mẫu tin còn chứa ký tự xuống dòng \"\\n\""
   ]
  },
  {
   "cell_type": "markdown",
   "id": "e1b117d4",
   "metadata": {},
   "source": [
    "#### 2.1. Loại bỏ ký tự xuống dòng \"\\n\", thay thế bằng dấu chấm \".\""
   ]
  },
  {
   "cell_type": "code",
   "execution_count": 10,
   "id": "f088b9be",
   "metadata": {
    "scrolled": true
   },
   "outputs": [
    {
     "data": {
      "text/html": [
       "<div>\n",
       "<style scoped>\n",
       "    .dataframe tbody tr th:only-of-type {\n",
       "        vertical-align: middle;\n",
       "    }\n",
       "\n",
       "    .dataframe tbody tr th {\n",
       "        vertical-align: top;\n",
       "    }\n",
       "\n",
       "    .dataframe thead th {\n",
       "        text-align: right;\n",
       "    }\n",
       "</style>\n",
       "<table border=\"1\" class=\"dataframe\">\n",
       "  <thead>\n",
       "    <tr style=\"text-align: right;\">\n",
       "      <th></th>\n",
       "      <th>text</th>\n",
       "      <th>domain</th>\n",
       "      <th>label</th>\n",
       "    </tr>\n",
       "  </thead>\n",
       "  <tbody>\n",
       "    <tr>\n",
       "      <th>0</th>\n",
       "      <td>Thủ tướng Abe cúi đầu xin lỗi vì hành động phi thể thao của tuyển Nhật. Theo Sankei Sports, sáng nay Thủ tướng Nhật Bản Shinzo Abe công ...</td>\n",
       "      <td>binhluan.biz</td>\n",
       "      <td>1</td>\n",
       "    </tr>\n",
       "    <tr>\n",
       "      <th>1</th>\n",
       "      <td>Thủ tướng Nhật cúi đầu xin lỗi vì tinh thần phi thể thao của đội bóng. Sáng 19/6, Thủ tướng Nhật Bản Shinzo Abe công khai gửi lời xin lỗ...</td>\n",
       "      <td>www.ipick.vn</td>\n",
       "      <td>1</td>\n",
       "    </tr>\n",
       "    <tr>\n",
       "      <th>2</th>\n",
       "      <td>Choáng! Cơ trưởng đeo khăn quàng quẩy banh nóc trên sân khấu trường!!!. Xót xa hình ảnh thầy trò lội bùn băng rừng đến trường ở Nghệ An....</td>\n",
       "      <td>tintucqpvn.net</td>\n",
       "      <td>1</td>\n",
       "    </tr>\n",
       "    <tr>\n",
       "      <th>3</th>\n",
       "      <td>Chưa bao giờ nhạc Kpop lại dễ hát đến thế!!!. Giáo sư Nguyễn Lân Dũng: ‘Con tôi thành đạt nhờ cách đánh vần ‘ô vuông tam giác’. GS.Nguyễ...</td>\n",
       "      <td>tintucqpvn.net</td>\n",
       "      <td>1</td>\n",
       "    </tr>\n",
       "    <tr>\n",
       "      <th>4</th>\n",
       "      <td>Đại học Hutech sẽ áp dụng cải cách \"Tiếq Việt\" vào năm học 2018?. Mới đây, ông Phạm Ngọc Thanh, Phó giám đốc Sở GD – ĐT Tp. Hồ Chí Minh ...</td>\n",
       "      <td>www.gioitreviet.net</td>\n",
       "      <td>1</td>\n",
       "    </tr>\n",
       "    <tr>\n",
       "      <th>...</th>\n",
       "      <td>...</td>\n",
       "      <td>...</td>\n",
       "      <td>...</td>\n",
       "    </tr>\n",
       "    <tr>\n",
       "      <th>218</th>\n",
       "      <td>“Siêu máy bay” A350 sẽ chở CĐV Việt Nam đi Malaysia cổ vũ chung kết lượt đi. \"Siêu máy bay\" A350-900 của Vietnam Airlines sẽ chở CĐV Việ...</td>\n",
       "      <td>dantri.com.vn</td>\n",
       "      <td>0</td>\n",
       "    </tr>\n",
       "    <tr>\n",
       "      <th>219</th>\n",
       "      <td>Thưởng 20.000 USD cho đội tuyển cờ vua Việt Nam tại Olympiad 2018. Một lần nữa, Cờ vua Việt Nam lại khẳng định đẳng cấp trên đấu trường ...</td>\n",
       "      <td>dantri.com.vn</td>\n",
       "      <td>0</td>\n",
       "    </tr>\n",
       "    <tr>\n",
       "      <th>220</th>\n",
       "      <td>Trường Sơn giành HCV tại giải cờ vua đồng đội thế giới 2018. Hạng 7 chung cuộc cũng là hạng cao nhất của cờ vua Việt Nam tại các kỳ Olym...</td>\n",
       "      <td>dantri.com.vn</td>\n",
       "      <td>0</td>\n",
       "    </tr>\n",
       "    <tr>\n",
       "      <th>221</th>\n",
       "      <td>Chuyện về chàng sinh viên Luật - Kiện tướng Lê Tuấn Minh. Hôm nay, chúng tôi liên lạc vào số máy của Lê Tuấn Minh thì mẹ cậu bắt máy. Hỏ...</td>\n",
       "      <td>dantri.com.vn</td>\n",
       "      <td>0</td>\n",
       "    </tr>\n",
       "    <tr>\n",
       "      <th>222</th>\n",
       "      <td>Tiền đạo Malaysia: “Tôi đã có cách vượt qua hàng thủ đội tuyển Việt Nam”. Ở trận đấu vòng bảng AFF Cup 2018, Norshahrul Idlan Talaha đã ...</td>\n",
       "      <td>dantri.com.vn</td>\n",
       "      <td>0</td>\n",
       "    </tr>\n",
       "  </tbody>\n",
       "</table>\n",
       "<p>222 rows × 3 columns</p>\n",
       "</div>"
      ],
      "text/plain": [
       "                                                                                                                                            text  \\\n",
       "0    Thủ tướng Abe cúi đầu xin lỗi vì hành động phi thể thao của tuyển Nhật. Theo Sankei Sports, sáng nay Thủ tướng Nhật Bản Shinzo Abe công ...   \n",
       "1    Thủ tướng Nhật cúi đầu xin lỗi vì tinh thần phi thể thao của đội bóng. Sáng 19/6, Thủ tướng Nhật Bản Shinzo Abe công khai gửi lời xin lỗ...   \n",
       "2    Choáng! Cơ trưởng đeo khăn quàng quẩy banh nóc trên sân khấu trường!!!. Xót xa hình ảnh thầy trò lội bùn băng rừng đến trường ở Nghệ An....   \n",
       "3    Chưa bao giờ nhạc Kpop lại dễ hát đến thế!!!. Giáo sư Nguyễn Lân Dũng: ‘Con tôi thành đạt nhờ cách đánh vần ‘ô vuông tam giác’. GS.Nguyễ...   \n",
       "4    Đại học Hutech sẽ áp dụng cải cách \"Tiếq Việt\" vào năm học 2018?. Mới đây, ông Phạm Ngọc Thanh, Phó giám đốc Sở GD – ĐT Tp. Hồ Chí Minh ...   \n",
       "..                                                                                                                                           ...   \n",
       "218  “Siêu máy bay” A350 sẽ chở CĐV Việt Nam đi Malaysia cổ vũ chung kết lượt đi. \"Siêu máy bay\" A350-900 của Vietnam Airlines sẽ chở CĐV Việ...   \n",
       "219  Thưởng 20.000 USD cho đội tuyển cờ vua Việt Nam tại Olympiad 2018. Một lần nữa, Cờ vua Việt Nam lại khẳng định đẳng cấp trên đấu trường ...   \n",
       "220  Trường Sơn giành HCV tại giải cờ vua đồng đội thế giới 2018. Hạng 7 chung cuộc cũng là hạng cao nhất của cờ vua Việt Nam tại các kỳ Olym...   \n",
       "221  Chuyện về chàng sinh viên Luật - Kiện tướng Lê Tuấn Minh. Hôm nay, chúng tôi liên lạc vào số máy của Lê Tuấn Minh thì mẹ cậu bắt máy. Hỏ...   \n",
       "222  Tiền đạo Malaysia: “Tôi đã có cách vượt qua hàng thủ đội tuyển Việt Nam”. Ở trận đấu vòng bảng AFF Cup 2018, Norshahrul Idlan Talaha đã ...   \n",
       "\n",
       "                  domain  label  \n",
       "0           binhluan.biz      1  \n",
       "1           www.ipick.vn      1  \n",
       "2         tintucqpvn.net      1  \n",
       "3         tintucqpvn.net      1  \n",
       "4    www.gioitreviet.net      1  \n",
       "..                   ...    ...  \n",
       "218        dantri.com.vn      0  \n",
       "219        dantri.com.vn      0  \n",
       "220        dantri.com.vn      0  \n",
       "221        dantri.com.vn      0  \n",
       "222        dantri.com.vn      0  \n",
       "\n",
       "[222 rows x 3 columns]"
      ]
     },
     "execution_count": 10,
     "metadata": {},
     "output_type": "execute_result"
    }
   ],
   "source": [
    "def remove_trailing_newline(x):\n",
    "    return x.replace(\"\\n\", \". \")\n",
    "vnnews_df['text'] = vnnews_df['text'].apply(remove_trailing_newline)\n",
    "vnnews_df"
   ]
  },
  {
   "cell_type": "markdown",
   "id": "89e6dbf1",
   "metadata": {},
   "source": [
    "#### 2.2. Classify "
   ]
  },
  {
   "cell_type": "markdown",
   "id": "a7a43e76",
   "metadata": {},
   "source": [
    "Một dòng dữ liệu là một mẫu tin. Ta sẽ tìm hiểu xem mẫu tin đó thuộc về lĩnh vực nào"
   ]
  },
  {
   "cell_type": "code",
   "execution_count": 11,
   "id": "072c6812",
   "metadata": {
    "scrolled": true
   },
   "outputs": [],
   "source": [
    "def fieldify(text):\n",
    "    return ' '.join(classify(text))\n",
    "field_df = vnnews_df['text'].apply(fieldify)"
   ]
  },
  {
   "cell_type": "markdown",
   "id": "f3538cb2",
   "metadata": {},
   "source": [
    "Thêm cột `field` vào dataframes"
   ]
  },
  {
   "cell_type": "code",
   "execution_count": 12,
   "id": "50cc27e1",
   "metadata": {
    "scrolled": false
   },
   "outputs": [
    {
     "data": {
      "text/html": [
       "<div>\n",
       "<style scoped>\n",
       "    .dataframe tbody tr th:only-of-type {\n",
       "        vertical-align: middle;\n",
       "    }\n",
       "\n",
       "    .dataframe tbody tr th {\n",
       "        vertical-align: top;\n",
       "    }\n",
       "\n",
       "    .dataframe thead th {\n",
       "        text-align: right;\n",
       "    }\n",
       "</style>\n",
       "<table border=\"1\" class=\"dataframe\">\n",
       "  <thead>\n",
       "    <tr style=\"text-align: right;\">\n",
       "      <th></th>\n",
       "      <th>text</th>\n",
       "      <th>domain</th>\n",
       "      <th>label</th>\n",
       "      <th>field</th>\n",
       "    </tr>\n",
       "  </thead>\n",
       "  <tbody>\n",
       "    <tr>\n",
       "      <th>0</th>\n",
       "      <td>Thủ tướng Abe cúi đầu xin lỗi vì hành động phi thể thao của tuyển Nhật. Theo Sankei Sports, sáng nay Thủ tướng Nhật Bản Shinzo Abe công ...</td>\n",
       "      <td>binhluan.biz</td>\n",
       "      <td>1</td>\n",
       "      <td>the_thao</td>\n",
       "    </tr>\n",
       "    <tr>\n",
       "      <th>1</th>\n",
       "      <td>Thủ tướng Nhật cúi đầu xin lỗi vì tinh thần phi thể thao của đội bóng. Sáng 19/6, Thủ tướng Nhật Bản Shinzo Abe công khai gửi lời xin lỗ...</td>\n",
       "      <td>www.ipick.vn</td>\n",
       "      <td>1</td>\n",
       "      <td>the_thao</td>\n",
       "    </tr>\n",
       "    <tr>\n",
       "      <th>2</th>\n",
       "      <td>Choáng! Cơ trưởng đeo khăn quàng quẩy banh nóc trên sân khấu trường!!!. Xót xa hình ảnh thầy trò lội bùn băng rừng đến trường ở Nghệ An....</td>\n",
       "      <td>tintucqpvn.net</td>\n",
       "      <td>1</td>\n",
       "      <td>chinh_tri_xa_hoi</td>\n",
       "    </tr>\n",
       "    <tr>\n",
       "      <th>3</th>\n",
       "      <td>Chưa bao giờ nhạc Kpop lại dễ hát đến thế!!!. Giáo sư Nguyễn Lân Dũng: ‘Con tôi thành đạt nhờ cách đánh vần ‘ô vuông tam giác’. GS.Nguyễ...</td>\n",
       "      <td>tintucqpvn.net</td>\n",
       "      <td>1</td>\n",
       "      <td>chinh_tri_xa_hoi</td>\n",
       "    </tr>\n",
       "    <tr>\n",
       "      <th>4</th>\n",
       "      <td>Đại học Hutech sẽ áp dụng cải cách \"Tiếq Việt\" vào năm học 2018?. Mới đây, ông Phạm Ngọc Thanh, Phó giám đốc Sở GD – ĐT Tp. Hồ Chí Minh ...</td>\n",
       "      <td>www.gioitreviet.net</td>\n",
       "      <td>1</td>\n",
       "      <td>chinh_tri_xa_hoi</td>\n",
       "    </tr>\n",
       "    <tr>\n",
       "      <th>...</th>\n",
       "      <td>...</td>\n",
       "      <td>...</td>\n",
       "      <td>...</td>\n",
       "      <td>...</td>\n",
       "    </tr>\n",
       "    <tr>\n",
       "      <th>218</th>\n",
       "      <td>“Siêu máy bay” A350 sẽ chở CĐV Việt Nam đi Malaysia cổ vũ chung kết lượt đi. \"Siêu máy bay\" A350-900 của Vietnam Airlines sẽ chở CĐV Việ...</td>\n",
       "      <td>dantri.com.vn</td>\n",
       "      <td>0</td>\n",
       "      <td>chinh_tri_xa_hoi</td>\n",
       "    </tr>\n",
       "    <tr>\n",
       "      <th>219</th>\n",
       "      <td>Thưởng 20.000 USD cho đội tuyển cờ vua Việt Nam tại Olympiad 2018. Một lần nữa, Cờ vua Việt Nam lại khẳng định đẳng cấp trên đấu trường ...</td>\n",
       "      <td>dantri.com.vn</td>\n",
       "      <td>0</td>\n",
       "      <td>the_thao</td>\n",
       "    </tr>\n",
       "    <tr>\n",
       "      <th>220</th>\n",
       "      <td>Trường Sơn giành HCV tại giải cờ vua đồng đội thế giới 2018. Hạng 7 chung cuộc cũng là hạng cao nhất của cờ vua Việt Nam tại các kỳ Olym...</td>\n",
       "      <td>dantri.com.vn</td>\n",
       "      <td>0</td>\n",
       "      <td>the_thao</td>\n",
       "    </tr>\n",
       "    <tr>\n",
       "      <th>221</th>\n",
       "      <td>Chuyện về chàng sinh viên Luật - Kiện tướng Lê Tuấn Minh. Hôm nay, chúng tôi liên lạc vào số máy của Lê Tuấn Minh thì mẹ cậu bắt máy. Hỏ...</td>\n",
       "      <td>dantri.com.vn</td>\n",
       "      <td>0</td>\n",
       "      <td>the_thao</td>\n",
       "    </tr>\n",
       "    <tr>\n",
       "      <th>222</th>\n",
       "      <td>Tiền đạo Malaysia: “Tôi đã có cách vượt qua hàng thủ đội tuyển Việt Nam”. Ở trận đấu vòng bảng AFF Cup 2018, Norshahrul Idlan Talaha đã ...</td>\n",
       "      <td>dantri.com.vn</td>\n",
       "      <td>0</td>\n",
       "      <td>the_thao</td>\n",
       "    </tr>\n",
       "  </tbody>\n",
       "</table>\n",
       "<p>222 rows × 4 columns</p>\n",
       "</div>"
      ],
      "text/plain": [
       "                                                                                                                                            text  \\\n",
       "0    Thủ tướng Abe cúi đầu xin lỗi vì hành động phi thể thao của tuyển Nhật. Theo Sankei Sports, sáng nay Thủ tướng Nhật Bản Shinzo Abe công ...   \n",
       "1    Thủ tướng Nhật cúi đầu xin lỗi vì tinh thần phi thể thao của đội bóng. Sáng 19/6, Thủ tướng Nhật Bản Shinzo Abe công khai gửi lời xin lỗ...   \n",
       "2    Choáng! Cơ trưởng đeo khăn quàng quẩy banh nóc trên sân khấu trường!!!. Xót xa hình ảnh thầy trò lội bùn băng rừng đến trường ở Nghệ An....   \n",
       "3    Chưa bao giờ nhạc Kpop lại dễ hát đến thế!!!. Giáo sư Nguyễn Lân Dũng: ‘Con tôi thành đạt nhờ cách đánh vần ‘ô vuông tam giác’. GS.Nguyễ...   \n",
       "4    Đại học Hutech sẽ áp dụng cải cách \"Tiếq Việt\" vào năm học 2018?. Mới đây, ông Phạm Ngọc Thanh, Phó giám đốc Sở GD – ĐT Tp. Hồ Chí Minh ...   \n",
       "..                                                                                                                                           ...   \n",
       "218  “Siêu máy bay” A350 sẽ chở CĐV Việt Nam đi Malaysia cổ vũ chung kết lượt đi. \"Siêu máy bay\" A350-900 của Vietnam Airlines sẽ chở CĐV Việ...   \n",
       "219  Thưởng 20.000 USD cho đội tuyển cờ vua Việt Nam tại Olympiad 2018. Một lần nữa, Cờ vua Việt Nam lại khẳng định đẳng cấp trên đấu trường ...   \n",
       "220  Trường Sơn giành HCV tại giải cờ vua đồng đội thế giới 2018. Hạng 7 chung cuộc cũng là hạng cao nhất của cờ vua Việt Nam tại các kỳ Olym...   \n",
       "221  Chuyện về chàng sinh viên Luật - Kiện tướng Lê Tuấn Minh. Hôm nay, chúng tôi liên lạc vào số máy của Lê Tuấn Minh thì mẹ cậu bắt máy. Hỏ...   \n",
       "222  Tiền đạo Malaysia: “Tôi đã có cách vượt qua hàng thủ đội tuyển Việt Nam”. Ở trận đấu vòng bảng AFF Cup 2018, Norshahrul Idlan Talaha đã ...   \n",
       "\n",
       "                  domain  label             field  \n",
       "0           binhluan.biz      1          the_thao  \n",
       "1           www.ipick.vn      1          the_thao  \n",
       "2         tintucqpvn.net      1  chinh_tri_xa_hoi  \n",
       "3         tintucqpvn.net      1  chinh_tri_xa_hoi  \n",
       "4    www.gioitreviet.net      1  chinh_tri_xa_hoi  \n",
       "..                   ...    ...               ...  \n",
       "218        dantri.com.vn      0  chinh_tri_xa_hoi  \n",
       "219        dantri.com.vn      0          the_thao  \n",
       "220        dantri.com.vn      0          the_thao  \n",
       "221        dantri.com.vn      0          the_thao  \n",
       "222        dantri.com.vn      0          the_thao  \n",
       "\n",
       "[222 rows x 4 columns]"
      ]
     },
     "execution_count": 12,
     "metadata": {},
     "output_type": "execute_result"
    }
   ],
   "source": [
    "vnnews_df['field']= field_df\n",
    "vnnews_df"
   ]
  },
  {
   "cell_type": "markdown",
   "id": "47ddcc9a",
   "metadata": {},
   "source": [
    "Có 10 lĩnh vực trong bộ dữ liệu:"
   ]
  },
  {
   "cell_type": "code",
   "execution_count": 13,
   "id": "331ed66a",
   "metadata": {},
   "outputs": [
    {
     "data": {
      "text/plain": [
       "array(['the_thao', 'chinh_tri_xa_hoi', 'van_hoa', 'khoa_hoc', 'suc_khoe',\n",
       "       'phap_luat', 'kinh_doanh', 'doi_song', 'vi_tinh', 'the_gioi'],\n",
       "      dtype=object)"
      ]
     },
     "execution_count": 13,
     "metadata": {},
     "output_type": "execute_result"
    }
   ],
   "source": [
    "vnnews_df['field'].unique()"
   ]
  },
  {
   "cell_type": "markdown",
   "id": "8e545d28",
   "metadata": {},
   "source": [
    "Trong đó:\n",
    "- the_thao: Thể thao\n",
    "- chinh_tri_xa_hoi:  Chính trị Xã hội\n",
    "- van_hoa: Văn hóa\n",
    "- khoa_hoc: Khoa học\n",
    "- suc_khoe: Sức khỏe\n",
    "- phap_luat: Pháp luật\n",
    "- kinh_doanh: Kinh doanh\n",
    "- doi_song: Đời sống\n",
    "- vi_tinh: Vi tính\n",
    "- the_gioi: Thế giới"
   ]
  },
  {
   "cell_type": "markdown",
   "id": "176c2f2f",
   "metadata": {},
   "source": [
    "#### 2.3. Tách câu "
   ]
  },
  {
   "cell_type": "markdown",
   "id": "79ad31ce",
   "metadata": {},
   "source": [
    "Với mỗi mẫu tin, ta sẽ tách riêng từng câu để dễ xử lý"
   ]
  },
  {
   "cell_type": "code",
   "execution_count": 14,
   "id": "21d56f16",
   "metadata": {},
   "outputs": [],
   "source": [
    "def sentencing(text):\n",
    "    return sent_tokenize(text)\n",
    "vnnews_df['text'] = vnnews_df['text'].apply(sentencing)"
   ]
  },
  {
   "cell_type": "code",
   "execution_count": 15,
   "id": "822089f7",
   "metadata": {
    "scrolled": false
   },
   "outputs": [
    {
     "data": {
      "text/html": [
       "<div>\n",
       "<style scoped>\n",
       "    .dataframe tbody tr th:only-of-type {\n",
       "        vertical-align: middle;\n",
       "    }\n",
       "\n",
       "    .dataframe tbody tr th {\n",
       "        vertical-align: top;\n",
       "    }\n",
       "\n",
       "    .dataframe thead th {\n",
       "        text-align: right;\n",
       "    }\n",
       "</style>\n",
       "<table border=\"1\" class=\"dataframe\">\n",
       "  <thead>\n",
       "    <tr style=\"text-align: right;\">\n",
       "      <th></th>\n",
       "      <th>text</th>\n",
       "      <th>domain</th>\n",
       "      <th>label</th>\n",
       "      <th>field</th>\n",
       "    </tr>\n",
       "  </thead>\n",
       "  <tbody>\n",
       "    <tr>\n",
       "      <th>0</th>\n",
       "      <td>[Thủ tướng Abe cúi đầu xin lỗi vì hành động phi thể thao của tuyển Nhật., Theo Sankei Sports, sáng nay Thủ tướng Nhật Bản Shinzo Abe công khai gửi lời xin lỗi tới Nhật hoàng và toàn bộ người dân v...</td>\n",
       "      <td>binhluan.biz</td>\n",
       "      <td>1</td>\n",
       "      <td>the_thao</td>\n",
       "    </tr>\n",
       "    <tr>\n",
       "      <th>1</th>\n",
       "      <td>[Thủ tướng Nhật cúi đầu xin lỗi vì tinh thần phi thể thao của đội bóng., Sáng 19/6, Thủ tướng Nhật Bản Shinzo Abe công khai gửi lời xin lỗi tới Nhật hoàng và toàn bộ người dân vì tinh thần thi đấu...</td>\n",
       "      <td>www.ipick.vn</td>\n",
       "      <td>1</td>\n",
       "      <td>the_thao</td>\n",
       "    </tr>\n",
       "    <tr>\n",
       "      <th>2</th>\n",
       "      <td>[Choáng!, Cơ trưởng đeo khăn quàng quẩy banh nóc trên sân khấu trường!!!., Xót xa hình ảnh thầy trò lội bùn băng rừng đến trường ở Nghệ An., Sau lũ, nhiều học sinh vùng cao và giáo viên ở Nghệ An ...</td>\n",
       "      <td>tintucqpvn.net</td>\n",
       "      <td>1</td>\n",
       "      <td>chinh_tri_xa_hoi</td>\n",
       "    </tr>\n",
       "    <tr>\n",
       "      <th>3</th>\n",
       "      <td>[Chưa bao giờ nhạc Kpop lại dễ hát đến thế!!!., Giáo sư Nguyễn Lân Dũng: ‘Con tôi thành đạt nhờ cách đánh vần ‘ô vuông tam giác’., GS.Nguyễn Lân Dũng khẳng định: Con ông, PGS.TS Nguyễn Lân Hiếu th...</td>\n",
       "      <td>tintucqpvn.net</td>\n",
       "      <td>1</td>\n",
       "      <td>chinh_tri_xa_hoi</td>\n",
       "    </tr>\n",
       "    <tr>\n",
       "      <th>4</th>\n",
       "      <td>[Đại học Hutech sẽ áp dụng cải cách \"Tiếq Việt\" vào năm học 2018?., Mới đây, ông Phạm Ngọc Thanh, Phó giám đốc Sở GD – ĐT Tp. Hồ Chí Minh chuyên trách về Hệ giáo dục Đại học tại thành phố đã lên t...</td>\n",
       "      <td>www.gioitreviet.net</td>\n",
       "      <td>1</td>\n",
       "      <td>chinh_tri_xa_hoi</td>\n",
       "    </tr>\n",
       "  </tbody>\n",
       "</table>\n",
       "</div>"
      ],
      "text/plain": [
       "                                                                                                                                                                                                      text  \\\n",
       "0  [Thủ tướng Abe cúi đầu xin lỗi vì hành động phi thể thao của tuyển Nhật., Theo Sankei Sports, sáng nay Thủ tướng Nhật Bản Shinzo Abe công khai gửi lời xin lỗi tới Nhật hoàng và toàn bộ người dân v...   \n",
       "1  [Thủ tướng Nhật cúi đầu xin lỗi vì tinh thần phi thể thao của đội bóng., Sáng 19/6, Thủ tướng Nhật Bản Shinzo Abe công khai gửi lời xin lỗi tới Nhật hoàng và toàn bộ người dân vì tinh thần thi đấu...   \n",
       "2  [Choáng!, Cơ trưởng đeo khăn quàng quẩy banh nóc trên sân khấu trường!!!., Xót xa hình ảnh thầy trò lội bùn băng rừng đến trường ở Nghệ An., Sau lũ, nhiều học sinh vùng cao và giáo viên ở Nghệ An ...   \n",
       "3  [Chưa bao giờ nhạc Kpop lại dễ hát đến thế!!!., Giáo sư Nguyễn Lân Dũng: ‘Con tôi thành đạt nhờ cách đánh vần ‘ô vuông tam giác’., GS.Nguyễn Lân Dũng khẳng định: Con ông, PGS.TS Nguyễn Lân Hiếu th...   \n",
       "4  [Đại học Hutech sẽ áp dụng cải cách \"Tiếq Việt\" vào năm học 2018?., Mới đây, ông Phạm Ngọc Thanh, Phó giám đốc Sở GD – ĐT Tp. Hồ Chí Minh chuyên trách về Hệ giáo dục Đại học tại thành phố đã lên t...   \n",
       "\n",
       "                domain  label             field  \n",
       "0         binhluan.biz      1          the_thao  \n",
       "1         www.ipick.vn      1          the_thao  \n",
       "2       tintucqpvn.net      1  chinh_tri_xa_hoi  \n",
       "3       tintucqpvn.net      1  chinh_tri_xa_hoi  \n",
       "4  www.gioitreviet.net      1  chinh_tri_xa_hoi  "
      ]
     },
     "execution_count": 15,
     "metadata": {},
     "output_type": "execute_result"
    }
   ],
   "source": [
    "pd.set_option(\"max_colwidth\", 200)\n",
    "vnnews_df.head(5)"
   ]
  },
  {
   "cell_type": "markdown",
   "id": "f60b05ed",
   "metadata": {},
   "source": [
    "#### 2.4. Loại bỏ dấu câu và khoảng trắng"
   ]
  },
  {
   "cell_type": "code",
   "execution_count": 16,
   "id": "6c8074b5",
   "metadata": {},
   "outputs": [],
   "source": [
    "def clean_sentence(sentences):\n",
    "    res = []\n",
    "    for sentence in sentences:\n",
    "        sentence = sentence.lower()\n",
    "        # Loại khoảng trắng\n",
    "        sentence = re.sub('\\n|\\r|\\t', '', sentence)   \n",
    "        # Loại bỏ dấu câu\n",
    "        sentence = re.sub(r'[^\\w\\s]+', '', sentence) \n",
    "        res.append(sentence)\n",
    "    return res"
   ]
  },
  {
   "cell_type": "code",
   "execution_count": 17,
   "id": "bc75f9f1",
   "metadata": {
    "scrolled": true
   },
   "outputs": [
    {
     "data": {
      "text/html": [
       "<div>\n",
       "<style scoped>\n",
       "    .dataframe tbody tr th:only-of-type {\n",
       "        vertical-align: middle;\n",
       "    }\n",
       "\n",
       "    .dataframe tbody tr th {\n",
       "        vertical-align: top;\n",
       "    }\n",
       "\n",
       "    .dataframe thead th {\n",
       "        text-align: right;\n",
       "    }\n",
       "</style>\n",
       "<table border=\"1\" class=\"dataframe\">\n",
       "  <thead>\n",
       "    <tr style=\"text-align: right;\">\n",
       "      <th></th>\n",
       "      <th>text</th>\n",
       "      <th>domain</th>\n",
       "      <th>label</th>\n",
       "      <th>field</th>\n",
       "    </tr>\n",
       "  </thead>\n",
       "  <tbody>\n",
       "    <tr>\n",
       "      <th>0</th>\n",
       "      <td>[thủ tướng abe cúi đầu xin lỗi vì hành động phi thể thao của tuyển nhật, theo sankei sports sáng nay thủ tướng nhật bản shinzo abe công khai gửi lời xin lỗi tới nhật hoàng và toàn bộ người dân vì ...</td>\n",
       "      <td>binhluan.biz</td>\n",
       "      <td>1</td>\n",
       "      <td>the_thao</td>\n",
       "    </tr>\n",
       "    <tr>\n",
       "      <th>1</th>\n",
       "      <td>[thủ tướng nhật cúi đầu xin lỗi vì tinh thần phi thể thao của đội bóng, sáng 196 thủ tướng nhật bản shinzo abe công khai gửi lời xin lỗi tới nhật hoàng và toàn bộ người dân vì tinh thần thi đấu ph...</td>\n",
       "      <td>www.ipick.vn</td>\n",
       "      <td>1</td>\n",
       "      <td>the_thao</td>\n",
       "    </tr>\n",
       "    <tr>\n",
       "      <th>2</th>\n",
       "      <td>[choáng, cơ trưởng đeo khăn quàng quẩy banh nóc trên sân khấu trường, xót xa hình ảnh thầy trò lội bùn băng rừng đến trường ở nghệ an, sau lũ nhiều học sinh vùng cao và giáo viên ở nghệ an phải đố...</td>\n",
       "      <td>tintucqpvn.net</td>\n",
       "      <td>1</td>\n",
       "      <td>chinh_tri_xa_hoi</td>\n",
       "    </tr>\n",
       "    <tr>\n",
       "      <th>3</th>\n",
       "      <td>[chưa bao giờ nhạc kpop lại dễ hát đến thế, giáo sư nguyễn lân dũng con tôi thành đạt nhờ cách đánh vần ô vuông tam giác, gsnguyễn lân dũng khẳng định con ông pgsts nguyễn lân hiếu thành công nhờ ...</td>\n",
       "      <td>tintucqpvn.net</td>\n",
       "      <td>1</td>\n",
       "      <td>chinh_tri_xa_hoi</td>\n",
       "    </tr>\n",
       "    <tr>\n",
       "      <th>4</th>\n",
       "      <td>[đại học hutech sẽ áp dụng cải cách tiếq việt vào năm học 2018, mới đây ông phạm ngọc thanh phó giám đốc sở gd  đt tp hồ chí minh chuyên trách về hệ giáo dục đại học tại thành phố đã lên tiếng về ...</td>\n",
       "      <td>www.gioitreviet.net</td>\n",
       "      <td>1</td>\n",
       "      <td>chinh_tri_xa_hoi</td>\n",
       "    </tr>\n",
       "  </tbody>\n",
       "</table>\n",
       "</div>"
      ],
      "text/plain": [
       "                                                                                                                                                                                                      text  \\\n",
       "0  [thủ tướng abe cúi đầu xin lỗi vì hành động phi thể thao của tuyển nhật, theo sankei sports sáng nay thủ tướng nhật bản shinzo abe công khai gửi lời xin lỗi tới nhật hoàng và toàn bộ người dân vì ...   \n",
       "1  [thủ tướng nhật cúi đầu xin lỗi vì tinh thần phi thể thao của đội bóng, sáng 196 thủ tướng nhật bản shinzo abe công khai gửi lời xin lỗi tới nhật hoàng và toàn bộ người dân vì tinh thần thi đấu ph...   \n",
       "2  [choáng, cơ trưởng đeo khăn quàng quẩy banh nóc trên sân khấu trường, xót xa hình ảnh thầy trò lội bùn băng rừng đến trường ở nghệ an, sau lũ nhiều học sinh vùng cao và giáo viên ở nghệ an phải đố...   \n",
       "3  [chưa bao giờ nhạc kpop lại dễ hát đến thế, giáo sư nguyễn lân dũng con tôi thành đạt nhờ cách đánh vần ô vuông tam giác, gsnguyễn lân dũng khẳng định con ông pgsts nguyễn lân hiếu thành công nhờ ...   \n",
       "4  [đại học hutech sẽ áp dụng cải cách tiếq việt vào năm học 2018, mới đây ông phạm ngọc thanh phó giám đốc sở gd  đt tp hồ chí minh chuyên trách về hệ giáo dục đại học tại thành phố đã lên tiếng về ...   \n",
       "\n",
       "                domain  label             field  \n",
       "0         binhluan.biz      1          the_thao  \n",
       "1         www.ipick.vn      1          the_thao  \n",
       "2       tintucqpvn.net      1  chinh_tri_xa_hoi  \n",
       "3       tintucqpvn.net      1  chinh_tri_xa_hoi  \n",
       "4  www.gioitreviet.net      1  chinh_tri_xa_hoi  "
      ]
     },
     "execution_count": 17,
     "metadata": {},
     "output_type": "execute_result"
    }
   ],
   "source": [
    "vnnews_df['text'] = vnnews_df['text'].apply(clean_sentence)\n",
    "vnnews_df.head(5)"
   ]
  },
  {
   "cell_type": "markdown",
   "id": "b2df2649",
   "metadata": {},
   "source": [
    "#### 2.5. Tokenize"
   ]
  },
  {
   "cell_type": "markdown",
   "id": "14920c90",
   "metadata": {},
   "source": [
    "Trước khi sang bước loại bỏ stopword, cần tokenize để tránh loại đi những từ cần thiết"
   ]
  },
  {
   "cell_type": "code",
   "execution_count": 18,
   "id": "f92719d8",
   "metadata": {},
   "outputs": [],
   "source": [
    "def tokenize_sent(sentences):\n",
    "    res = [[]]\n",
    "    for sentence in sentences:\n",
    "        sentence = word_tokenize(sentence)\n",
    "        res.append(sentence)\n",
    "    return res"
   ]
  },
  {
   "cell_type": "code",
   "execution_count": 19,
   "id": "09c8f837",
   "metadata": {},
   "outputs": [],
   "source": [
    "vnnews_df['text'] = vnnews_df['text'].apply(tokenize_sent)"
   ]
  },
  {
   "cell_type": "code",
   "execution_count": 20,
   "id": "678ab6bd",
   "metadata": {
    "scrolled": true
   },
   "outputs": [
    {
     "data": {
      "text/html": [
       "<div>\n",
       "<style scoped>\n",
       "    .dataframe tbody tr th:only-of-type {\n",
       "        vertical-align: middle;\n",
       "    }\n",
       "\n",
       "    .dataframe tbody tr th {\n",
       "        vertical-align: top;\n",
       "    }\n",
       "\n",
       "    .dataframe thead th {\n",
       "        text-align: right;\n",
       "    }\n",
       "</style>\n",
       "<table border=\"1\" class=\"dataframe\">\n",
       "  <thead>\n",
       "    <tr style=\"text-align: right;\">\n",
       "      <th></th>\n",
       "      <th>text</th>\n",
       "      <th>domain</th>\n",
       "      <th>label</th>\n",
       "      <th>field</th>\n",
       "    </tr>\n",
       "  </thead>\n",
       "  <tbody>\n",
       "    <tr>\n",
       "      <th>0</th>\n",
       "      <td>[[], [thủ tướng, abe, cúi, đầu, xin lỗi, vì, hành động, phi, thể thao, của, tuyển, nhật], [theo, sankei, sports, sáng, nay, thủ tướng, nhật, bản, shinzo, abe, công khai, gửi, lời, xin lỗi, tới, nh...</td>\n",
       "      <td>binhluan.biz</td>\n",
       "      <td>1</td>\n",
       "      <td>the_thao</td>\n",
       "    </tr>\n",
       "    <tr>\n",
       "      <th>1</th>\n",
       "      <td>[[], [thủ tướng, nhật, cúi, đầu, xin lỗi, vì, tinh thần, phi, thể thao, của, đội, bóng], [sáng, 196, thủ tướng, nhật, bản, shinzo, abe, công khai, gửi, lời, xin lỗi, tới, nhật, hoàng, và, toàn bộ,...</td>\n",
       "      <td>www.ipick.vn</td>\n",
       "      <td>1</td>\n",
       "      <td>the_thao</td>\n",
       "    </tr>\n",
       "    <tr>\n",
       "      <th>2</th>\n",
       "      <td>[[], [choáng], [cơ, trưởng, đeo, khăn quàng, quẩy, banh, nóc, trên, sân khấu, trường], [xót xa, hình ảnh, thầy trò, lội, bùn, băng, rừng, đến, trường, ở, nghệ, an], [sau, lũ, nhiều, học sinh, vùng...</td>\n",
       "      <td>tintucqpvn.net</td>\n",
       "      <td>1</td>\n",
       "      <td>chinh_tri_xa_hoi</td>\n",
       "    </tr>\n",
       "    <tr>\n",
       "      <th>3</th>\n",
       "      <td>[[], [chưa, bao giờ, nhạc, kpop, lại, dễ, hát, đến, thế], [giáo sư, nguyễn lân, dũng, con, tôi, thành đạt, nhờ, cách, đánh vần, ô vuông, tam giác], [gsnguyễn, lân, dũng, khẳng định, con, ông, pgst...</td>\n",
       "      <td>tintucqpvn.net</td>\n",
       "      <td>1</td>\n",
       "      <td>chinh_tri_xa_hoi</td>\n",
       "    </tr>\n",
       "    <tr>\n",
       "      <th>4</th>\n",
       "      <td>[[], [đại học, hutech, sẽ, áp dụng, cải cách, tiếq, việt, vào, năm học, 2018], [mới, đây, ông, phạm, ngọc, thanh, phó, giám đốc, sở, gd, đt, tp, hồ, chí minh, chuyên trách, về, hệ, giáo dục, đại h...</td>\n",
       "      <td>www.gioitreviet.net</td>\n",
       "      <td>1</td>\n",
       "      <td>chinh_tri_xa_hoi</td>\n",
       "    </tr>\n",
       "    <tr>\n",
       "      <th>...</th>\n",
       "      <td>...</td>\n",
       "      <td>...</td>\n",
       "      <td>...</td>\n",
       "      <td>...</td>\n",
       "    </tr>\n",
       "    <tr>\n",
       "      <th>218</th>\n",
       "      <td>[[], [siêu, máy bay, a350, sẽ, chở, cđv, việt, nam, đi, malaysia, cổ vũ, chung kết, lượt, đi], [siêu, máy bay, a350900, của, vietnam, airlines, sẽ, chở, cđv, việt, nam, đi, malaysia, cổ vũ, đội tu...</td>\n",
       "      <td>dantri.com.vn</td>\n",
       "      <td>0</td>\n",
       "      <td>chinh_tri_xa_hoi</td>\n",
       "    </tr>\n",
       "    <tr>\n",
       "      <th>219</th>\n",
       "      <td>[[], [thưởng, 20000, usd, cho, đội tuyển, cờ vua, việt, nam, tại, olympiad, 2018], [một, lần, nữa, cờ vua, việt, nam, lại, khẳng định, đẳng cấp, trên, đấu trường, quốc tế], [tại, lễ, vinh danh, độ...</td>\n",
       "      <td>dantri.com.vn</td>\n",
       "      <td>0</td>\n",
       "      <td>the_thao</td>\n",
       "    </tr>\n",
       "    <tr>\n",
       "      <th>220</th>\n",
       "      <td>[[], [trường sơn, giành, hcv, tại, giải, cờ vua, đồng đội, thế giới, 2018], [hạng, 7, chung cuộc, cũng, là, hạng, cao, nhất, của, cờ vua, việt, nam, tại, các, kỳ, olympiad, từ, trước, đến, nay, ng...</td>\n",
       "      <td>dantri.com.vn</td>\n",
       "      <td>0</td>\n",
       "      <td>the_thao</td>\n",
       "    </tr>\n",
       "    <tr>\n",
       "      <th>221</th>\n",
       "      <td>[[], [chuyện, về, chàng, sinh viên, luật, kiện tướng, lê tuấn, minh], [hôm nay, chúng tôi, liên lạc, vào, số, máy, của, lê, tuấn, minh, thì, mẹ, cậu, bắt, máy], [hỏi, xin, được, nói chuyện, với, l...</td>\n",
       "      <td>dantri.com.vn</td>\n",
       "      <td>0</td>\n",
       "      <td>the_thao</td>\n",
       "    </tr>\n",
       "    <tr>\n",
       "      <th>222</th>\n",
       "      <td>[[], [tiền đạo, malaysia, tôi, đã, có, cách, vượt, qua, hàng, thủ, đội tuyển, việt, nam], [ở, trận, đấu, vòng, bảng, aff, cup, 2018, norshahrul, idlan, talaha, đã, không, thể hiện, được, gì, vì, b...</td>\n",
       "      <td>dantri.com.vn</td>\n",
       "      <td>0</td>\n",
       "      <td>the_thao</td>\n",
       "    </tr>\n",
       "  </tbody>\n",
       "</table>\n",
       "<p>222 rows × 4 columns</p>\n",
       "</div>"
      ],
      "text/plain": [
       "                                                                                                                                                                                                        text  \\\n",
       "0    [[], [thủ tướng, abe, cúi, đầu, xin lỗi, vì, hành động, phi, thể thao, của, tuyển, nhật], [theo, sankei, sports, sáng, nay, thủ tướng, nhật, bản, shinzo, abe, công khai, gửi, lời, xin lỗi, tới, nh...   \n",
       "1    [[], [thủ tướng, nhật, cúi, đầu, xin lỗi, vì, tinh thần, phi, thể thao, của, đội, bóng], [sáng, 196, thủ tướng, nhật, bản, shinzo, abe, công khai, gửi, lời, xin lỗi, tới, nhật, hoàng, và, toàn bộ,...   \n",
       "2    [[], [choáng], [cơ, trưởng, đeo, khăn quàng, quẩy, banh, nóc, trên, sân khấu, trường], [xót xa, hình ảnh, thầy trò, lội, bùn, băng, rừng, đến, trường, ở, nghệ, an], [sau, lũ, nhiều, học sinh, vùng...   \n",
       "3    [[], [chưa, bao giờ, nhạc, kpop, lại, dễ, hát, đến, thế], [giáo sư, nguyễn lân, dũng, con, tôi, thành đạt, nhờ, cách, đánh vần, ô vuông, tam giác], [gsnguyễn, lân, dũng, khẳng định, con, ông, pgst...   \n",
       "4    [[], [đại học, hutech, sẽ, áp dụng, cải cách, tiếq, việt, vào, năm học, 2018], [mới, đây, ông, phạm, ngọc, thanh, phó, giám đốc, sở, gd, đt, tp, hồ, chí minh, chuyên trách, về, hệ, giáo dục, đại h...   \n",
       "..                                                                                                                                                                                                       ...   \n",
       "218  [[], [siêu, máy bay, a350, sẽ, chở, cđv, việt, nam, đi, malaysia, cổ vũ, chung kết, lượt, đi], [siêu, máy bay, a350900, của, vietnam, airlines, sẽ, chở, cđv, việt, nam, đi, malaysia, cổ vũ, đội tu...   \n",
       "219  [[], [thưởng, 20000, usd, cho, đội tuyển, cờ vua, việt, nam, tại, olympiad, 2018], [một, lần, nữa, cờ vua, việt, nam, lại, khẳng định, đẳng cấp, trên, đấu trường, quốc tế], [tại, lễ, vinh danh, độ...   \n",
       "220  [[], [trường sơn, giành, hcv, tại, giải, cờ vua, đồng đội, thế giới, 2018], [hạng, 7, chung cuộc, cũng, là, hạng, cao, nhất, của, cờ vua, việt, nam, tại, các, kỳ, olympiad, từ, trước, đến, nay, ng...   \n",
       "221  [[], [chuyện, về, chàng, sinh viên, luật, kiện tướng, lê tuấn, minh], [hôm nay, chúng tôi, liên lạc, vào, số, máy, của, lê, tuấn, minh, thì, mẹ, cậu, bắt, máy], [hỏi, xin, được, nói chuyện, với, l...   \n",
       "222  [[], [tiền đạo, malaysia, tôi, đã, có, cách, vượt, qua, hàng, thủ, đội tuyển, việt, nam], [ở, trận, đấu, vòng, bảng, aff, cup, 2018, norshahrul, idlan, talaha, đã, không, thể hiện, được, gì, vì, b...   \n",
       "\n",
       "                  domain  label             field  \n",
       "0           binhluan.biz      1          the_thao  \n",
       "1           www.ipick.vn      1          the_thao  \n",
       "2         tintucqpvn.net      1  chinh_tri_xa_hoi  \n",
       "3         tintucqpvn.net      1  chinh_tri_xa_hoi  \n",
       "4    www.gioitreviet.net      1  chinh_tri_xa_hoi  \n",
       "..                   ...    ...               ...  \n",
       "218        dantri.com.vn      0  chinh_tri_xa_hoi  \n",
       "219        dantri.com.vn      0          the_thao  \n",
       "220        dantri.com.vn      0          the_thao  \n",
       "221        dantri.com.vn      0          the_thao  \n",
       "222        dantri.com.vn      0          the_thao  \n",
       "\n",
       "[222 rows x 4 columns]"
      ]
     },
     "execution_count": 20,
     "metadata": {},
     "output_type": "execute_result"
    }
   ],
   "source": [
    "vnnews_df"
   ]
  },
  {
   "cell_type": "markdown",
   "id": "f8092532",
   "metadata": {},
   "source": [
    "#### 2.6. Loại bỏ stopword"
   ]
  },
  {
   "cell_type": "markdown",
   "id": "b48bcf8e",
   "metadata": {},
   "source": [
    "Tạo list những stopwords tiếng Việt"
   ]
  },
  {
   "cell_type": "code",
   "execution_count": 21,
   "id": "f1cf7a82",
   "metadata": {},
   "outputs": [],
   "source": [
    "with open('stopwords.txt', 'r', encoding=\"utf-8\") as f:\n",
    "    stopwords = f.readlines()\n",
    "    stop_set = set(m.strip() for m in stopwords)\n",
    "    stopwords =  list(frozenset(stop_set))"
   ]
  },
  {
   "cell_type": "markdown",
   "id": "628fcfc8",
   "metadata": {},
   "source": [
    "Hàm loại bỏ stopwords"
   ]
  },
  {
   "cell_type": "code",
   "execution_count": 22,
   "id": "10764936",
   "metadata": {},
   "outputs": [],
   "source": [
    "def remove_stopwords(word_list):\n",
    "    for el in word_list:\n",
    "        if len(el)==0:\n",
    "            word_list.remove(el)\n",
    "            continue\n",
    "        for sw in stopwords:\n",
    "            if sw in el:\n",
    "                el.remove(sw)\n",
    "    return word_list"
   ]
  },
  {
   "cell_type": "code",
   "execution_count": 23,
   "id": "74d4dc5a",
   "metadata": {
    "scrolled": false
   },
   "outputs": [
    {
     "data": {
      "text/html": [
       "<div>\n",
       "<style scoped>\n",
       "    .dataframe tbody tr th:only-of-type {\n",
       "        vertical-align: middle;\n",
       "    }\n",
       "\n",
       "    .dataframe tbody tr th {\n",
       "        vertical-align: top;\n",
       "    }\n",
       "\n",
       "    .dataframe thead th {\n",
       "        text-align: right;\n",
       "    }\n",
       "</style>\n",
       "<table border=\"1\" class=\"dataframe\">\n",
       "  <thead>\n",
       "    <tr style=\"text-align: right;\">\n",
       "      <th></th>\n",
       "      <th>text</th>\n",
       "      <th>domain</th>\n",
       "      <th>label</th>\n",
       "      <th>field</th>\n",
       "    </tr>\n",
       "  </thead>\n",
       "  <tbody>\n",
       "    <tr>\n",
       "      <th>0</th>\n",
       "      <td>[[thủ tướng, abe, cúi, đầu, xin lỗi, vì, hành động, phi, thể thao, của, tuyển, nhật], [sankei, sports, thủ tướng, nhật, shinzo, abe, công khai, gửi, xin lỗi, nhật, hoàng, toàn bộ, dân, tinh thần, thi đấu, phi, thể thao, đội tuyển, nhật, world, cup, 2018, tối qua, lượt, trận, vòng, bảng, world, c...</td>\n",
       "      <td>binhluan.biz</td>\n",
       "      <td>1</td>\n",
       "      <td>the_thao</td>\n",
       "    </tr>\n",
       "    <tr>\n",
       "      <th>1</th>\n",
       "      <td>[[thủ tướng, nhật, cúi, đầu, xin lỗi, vì, tinh thần, phi, thể thao, của, đội, bóng], [196, thủ tướng, nhật, shinzo, abe, công khai, gửi, xin lỗi, nhật, hoàng, toàn bộ, dân, tinh thần, thi đấu, phi, thể thao, đội tuyển, nhật, world, cup, 2018, tinh thần, của, võ sĩ đạo, samurai, đội tuyển, nhật, ...</td>\n",
       "      <td>www.ipick.vn</td>\n",
       "      <td>1</td>\n",
       "      <td>the_thao</td>\n",
       "    </tr>\n",
       "    <tr>\n",
       "      <th>2</th>\n",
       "      <td>[[choáng], [trưởng, đeo, khăn quàng, quẩy, banh, sân khấu, trường], [xót xa, hình ảnh, thầy trò, lội, bùn, băng, rừng, trường, nghệ, an], [lũ, học sinh, vùng cao, giáo viên, nghệ an, đối mặt, thiếu thốn, giao thông, chia cắt, cơ sở vật chất, bị, lũ, trôi, hình ảnh, học sinh, và, giáo viên, ở, ng...</td>\n",
       "      <td>tintucqpvn.net</td>\n",
       "      <td>1</td>\n",
       "      <td>chinh_tri_xa_hoi</td>\n",
       "    </tr>\n",
       "    <tr>\n",
       "      <th>3</th>\n",
       "      <td>[[chưa, bao giờ, nhạc, kpop, lại, dễ, hát, đến, thế], [giáo sư, nguyễn lân, dũng, thành đạt, đánh vần, ô vuông, tam giác], [gsnguyễn, lân, dũng, pgsts, nguyễn lân, hiếu, thành công, phương pháp học, tiếng, việt, gs, hồ, ngọc, đại, mấy, ngày nay, cộng đồng, mạng, sục sôi, thông tin, phụ huynh, nổ...</td>\n",
       "      <td>tintucqpvn.net</td>\n",
       "      <td>1</td>\n",
       "      <td>chinh_tri_xa_hoi</td>\n",
       "    </tr>\n",
       "    <tr>\n",
       "      <th>4</th>\n",
       "      <td>[[đại học, hutech, sẽ, áp dụng, cải cách, tiếq, việt, vào, năm học, 2018], [phạm, ngọc, phó, giám đốc, sở, gd, đt, tp, hồ, chí minh, chuyên trách, hệ, giáo dục, đại học, thành phố, lên tiếng, về, cải cách, tiếng, tiếng, việt, pgsts, bùi, hiền, ông, tphcm, đề xuất, của, pgs, sẵn lòng, thí điểm, g...</td>\n",
       "      <td>www.gioitreviet.net</td>\n",
       "      <td>1</td>\n",
       "      <td>chinh_tri_xa_hoi</td>\n",
       "    </tr>\n",
       "    <tr>\n",
       "      <th>...</th>\n",
       "      <td>...</td>\n",
       "      <td>...</td>\n",
       "      <td>...</td>\n",
       "      <td>...</td>\n",
       "    </tr>\n",
       "    <tr>\n",
       "      <th>218</th>\n",
       "      <td>[[siêu, máy bay, a350, sẽ, chở, cđv, việt, nam, đi, malaysia, cổ vũ, chung kết, lượt, đi], [siêu, máy bay, a350900, vietnam, airlines, chở, cđv, việt, nam, đi, malaysia, cổ vũ, đội tuyển, quốc gia, đá, trận, chung kết, lượt, đi], [vietnam, airlines, 6, chuyến, bay, tăng cường, đi, kuala, lumpur,...</td>\n",
       "      <td>dantri.com.vn</td>\n",
       "      <td>0</td>\n",
       "      <td>chinh_tri_xa_hoi</td>\n",
       "    </tr>\n",
       "    <tr>\n",
       "      <th>219</th>\n",
       "      <td>[[thưởng, 20000, usd, cho, đội tuyển, cờ vua, việt, nam, tại, olympiad, 2018], [cờ vua, việt, nam, đẳng cấp, đấu trường, quốc tế], [lễ, vinh danh, đội tuyển, cờ vua, việt, nam, 1310, nam, a, bank, thưởng, 20000, usd, ghi nhận, thành công, đội tuyển, giải, cờ vua, đồng đội, thế giới, olypiad, 201...</td>\n",
       "      <td>dantri.com.vn</td>\n",
       "      <td>0</td>\n",
       "      <td>the_thao</td>\n",
       "    </tr>\n",
       "    <tr>\n",
       "      <th>220</th>\n",
       "      <td>[[trường sơn, giành, hcv, tại, giải, cờ vua, đồng đội, thế giới, 2018], [hạng, 7, hạng, cờ vua, việt, nam, kỳ, olympiad, ngang, thành tích, 2012], [thành tích, đội, nam, 6, trận, thắng, 4, trận, hoà, thua, 1, trận, đoàn, việt, nam, thi đấu, thành công, giải, cờ vua, đồng đội, thế giới, 2018], [k...</td>\n",
       "      <td>dantri.com.vn</td>\n",
       "      <td>0</td>\n",
       "      <td>the_thao</td>\n",
       "    </tr>\n",
       "    <tr>\n",
       "      <th>221</th>\n",
       "      <td>[[chuyện, về, chàng, sinh viên, luật, kiện tướng, lê tuấn, minh], [hôm nay, liên lạc, máy, lê, tuấn, minh, mẹ, bắt, máy], [nói chuyện, lê, tuấn, minh, nguyễn thị, ngoan, mẹ, tuấn, minh, dịu dàng, đại diện, trả lời, tuấn, minh, hôm nay, trường học, cho, học, em, điện thoại, kiện tướng, sinh viên,...</td>\n",
       "      <td>dantri.com.vn</td>\n",
       "      <td>0</td>\n",
       "      <td>the_thao</td>\n",
       "    </tr>\n",
       "    <tr>\n",
       "      <th>222</th>\n",
       "      <td>[[tiền đạo, malaysia, tôi, đã, có, cách, vượt, qua, hàng, thủ, đội tuyển, việt, nam], [trận, đấu, vòng, bảng, aff, cup, 2018, norshahrul, idlan, talaha, thể hiện, kéo, sâu], [chân, sút, vô cùng, sợ, malaysia], [đầu, giải, tiền đạo, 32, ghi, 5, bàn, thắng, đtqg, talaha, tự tin, ghi bàn, lưới, đội...</td>\n",
       "      <td>dantri.com.vn</td>\n",
       "      <td>0</td>\n",
       "      <td>the_thao</td>\n",
       "    </tr>\n",
       "  </tbody>\n",
       "</table>\n",
       "<p>222 rows × 4 columns</p>\n",
       "</div>"
      ],
      "text/plain": [
       "                                                                                                                                                                                                                                                                                                            text  \\\n",
       "0    [[thủ tướng, abe, cúi, đầu, xin lỗi, vì, hành động, phi, thể thao, của, tuyển, nhật], [sankei, sports, thủ tướng, nhật, shinzo, abe, công khai, gửi, xin lỗi, nhật, hoàng, toàn bộ, dân, tinh thần, thi đấu, phi, thể thao, đội tuyển, nhật, world, cup, 2018, tối qua, lượt, trận, vòng, bảng, world, c...   \n",
       "1    [[thủ tướng, nhật, cúi, đầu, xin lỗi, vì, tinh thần, phi, thể thao, của, đội, bóng], [196, thủ tướng, nhật, shinzo, abe, công khai, gửi, xin lỗi, nhật, hoàng, toàn bộ, dân, tinh thần, thi đấu, phi, thể thao, đội tuyển, nhật, world, cup, 2018, tinh thần, của, võ sĩ đạo, samurai, đội tuyển, nhật, ...   \n",
       "2    [[choáng], [trưởng, đeo, khăn quàng, quẩy, banh, sân khấu, trường], [xót xa, hình ảnh, thầy trò, lội, bùn, băng, rừng, trường, nghệ, an], [lũ, học sinh, vùng cao, giáo viên, nghệ an, đối mặt, thiếu thốn, giao thông, chia cắt, cơ sở vật chất, bị, lũ, trôi, hình ảnh, học sinh, và, giáo viên, ở, ng...   \n",
       "3    [[chưa, bao giờ, nhạc, kpop, lại, dễ, hát, đến, thế], [giáo sư, nguyễn lân, dũng, thành đạt, đánh vần, ô vuông, tam giác], [gsnguyễn, lân, dũng, pgsts, nguyễn lân, hiếu, thành công, phương pháp học, tiếng, việt, gs, hồ, ngọc, đại, mấy, ngày nay, cộng đồng, mạng, sục sôi, thông tin, phụ huynh, nổ...   \n",
       "4    [[đại học, hutech, sẽ, áp dụng, cải cách, tiếq, việt, vào, năm học, 2018], [phạm, ngọc, phó, giám đốc, sở, gd, đt, tp, hồ, chí minh, chuyên trách, hệ, giáo dục, đại học, thành phố, lên tiếng, về, cải cách, tiếng, tiếng, việt, pgsts, bùi, hiền, ông, tphcm, đề xuất, của, pgs, sẵn lòng, thí điểm, g...   \n",
       "..                                                                                                                                                                                                                                                                                                           ...   \n",
       "218  [[siêu, máy bay, a350, sẽ, chở, cđv, việt, nam, đi, malaysia, cổ vũ, chung kết, lượt, đi], [siêu, máy bay, a350900, vietnam, airlines, chở, cđv, việt, nam, đi, malaysia, cổ vũ, đội tuyển, quốc gia, đá, trận, chung kết, lượt, đi], [vietnam, airlines, 6, chuyến, bay, tăng cường, đi, kuala, lumpur,...   \n",
       "219  [[thưởng, 20000, usd, cho, đội tuyển, cờ vua, việt, nam, tại, olympiad, 2018], [cờ vua, việt, nam, đẳng cấp, đấu trường, quốc tế], [lễ, vinh danh, đội tuyển, cờ vua, việt, nam, 1310, nam, a, bank, thưởng, 20000, usd, ghi nhận, thành công, đội tuyển, giải, cờ vua, đồng đội, thế giới, olypiad, 201...   \n",
       "220  [[trường sơn, giành, hcv, tại, giải, cờ vua, đồng đội, thế giới, 2018], [hạng, 7, hạng, cờ vua, việt, nam, kỳ, olympiad, ngang, thành tích, 2012], [thành tích, đội, nam, 6, trận, thắng, 4, trận, hoà, thua, 1, trận, đoàn, việt, nam, thi đấu, thành công, giải, cờ vua, đồng đội, thế giới, 2018], [k...   \n",
       "221  [[chuyện, về, chàng, sinh viên, luật, kiện tướng, lê tuấn, minh], [hôm nay, liên lạc, máy, lê, tuấn, minh, mẹ, bắt, máy], [nói chuyện, lê, tuấn, minh, nguyễn thị, ngoan, mẹ, tuấn, minh, dịu dàng, đại diện, trả lời, tuấn, minh, hôm nay, trường học, cho, học, em, điện thoại, kiện tướng, sinh viên,...   \n",
       "222  [[tiền đạo, malaysia, tôi, đã, có, cách, vượt, qua, hàng, thủ, đội tuyển, việt, nam], [trận, đấu, vòng, bảng, aff, cup, 2018, norshahrul, idlan, talaha, thể hiện, kéo, sâu], [chân, sút, vô cùng, sợ, malaysia], [đầu, giải, tiền đạo, 32, ghi, 5, bàn, thắng, đtqg, talaha, tự tin, ghi bàn, lưới, đội...   \n",
       "\n",
       "                  domain  label             field  \n",
       "0           binhluan.biz      1          the_thao  \n",
       "1           www.ipick.vn      1          the_thao  \n",
       "2         tintucqpvn.net      1  chinh_tri_xa_hoi  \n",
       "3         tintucqpvn.net      1  chinh_tri_xa_hoi  \n",
       "4    www.gioitreviet.net      1  chinh_tri_xa_hoi  \n",
       "..                   ...    ...               ...  \n",
       "218        dantri.com.vn      0  chinh_tri_xa_hoi  \n",
       "219        dantri.com.vn      0          the_thao  \n",
       "220        dantri.com.vn      0          the_thao  \n",
       "221        dantri.com.vn      0          the_thao  \n",
       "222        dantri.com.vn      0          the_thao  \n",
       "\n",
       "[222 rows x 4 columns]"
      ]
     },
     "execution_count": 23,
     "metadata": {},
     "output_type": "execute_result"
    }
   ],
   "source": [
    "vnnews_df['text'] = vnnews_df['text'].apply(remove_stopwords)\n",
    "pd.set_option(\"max_colwidth\", 300)\n",
    "vnnews_df"
   ]
  },
  {
   "cell_type": "markdown",
   "id": "699c09e6",
   "metadata": {},
   "source": [
    "# 3. Ứng dụng mô hình học máy phù hợp"
   ]
  },
  {
   "cell_type": "markdown",
   "id": "3b74a38d",
   "metadata": {},
   "source": [
    "**3.1. Tiền xử lí**"
   ]
  },
  {
   "cell_type": "code",
   "execution_count": 115,
   "id": "2bfc8f24",
   "metadata": {},
   "outputs": [],
   "source": [
    "from sklearn.linear_model import LogisticRegression\n",
    "from sklearn.feature_extraction.text import CountVectorizer\n",
    "from sklearn.compose import make_column_transformer\n",
    "from sklearn.preprocessing import MultiLabelBinarizer\n",
    "from sklearn.pipeline import make_pipeline\n",
    "from sklearn.feature_extraction.text import TfidfVectorizer"
   ]
  },
  {
   "cell_type": "code",
   "execution_count": 116,
   "id": "1b73b304",
   "metadata": {},
   "outputs": [],
   "source": [
    "df = vnnews_df.explode(\"text\")"
   ]
  },
  {
   "cell_type": "code",
   "execution_count": 117,
   "id": "ad896290",
   "metadata": {},
   "outputs": [
    {
     "data": {
      "text/html": [
       "<div>\n",
       "<style scoped>\n",
       "    .dataframe tbody tr th:only-of-type {\n",
       "        vertical-align: middle;\n",
       "    }\n",
       "\n",
       "    .dataframe tbody tr th {\n",
       "        vertical-align: top;\n",
       "    }\n",
       "\n",
       "    .dataframe thead th {\n",
       "        text-align: right;\n",
       "    }\n",
       "</style>\n",
       "<table border=\"1\" class=\"dataframe\">\n",
       "  <thead>\n",
       "    <tr style=\"text-align: right;\">\n",
       "      <th></th>\n",
       "      <th>text</th>\n",
       "      <th>domain</th>\n",
       "      <th>label</th>\n",
       "      <th>field</th>\n",
       "    </tr>\n",
       "  </thead>\n",
       "  <tbody>\n",
       "    <tr>\n",
       "      <th>0</th>\n",
       "      <td>[thủ tướng, abe, cúi, đầu, xin lỗi, vì, hành động, phi, thể thao, của, tuyển, nhật]</td>\n",
       "      <td>binhluan.biz</td>\n",
       "      <td>1</td>\n",
       "      <td>the_thao</td>\n",
       "    </tr>\n",
       "    <tr>\n",
       "      <th>0</th>\n",
       "      <td>[sankei, sports, thủ tướng, nhật, shinzo, abe, công khai, gửi, xin lỗi, nhật, hoàng, toàn bộ, dân, tinh thần, thi đấu, phi, thể thao, đội tuyển, nhật, world, cup, 2018, tối qua, lượt, trận, vòng, bảng, world, cup, 2018, nhật, bản, chỉ số, phụ, senegal, đội, sau, thua, colombia]</td>\n",
       "      <td>binhluan.biz</td>\n",
       "      <td>1</td>\n",
       "      <td>the_thao</td>\n",
       "    </tr>\n",
       "    <tr>\n",
       "      <th>0</th>\n",
       "      <td>[nhật, vòng, chỉ số, fairplay, thẻ, phạt, thủ tướng, nhật, bản, shinzo, abe, cúi, đầu, xin lỗi, tinh thần, võ sĩ đạo, samurai, nhưng, đội tuyển, nhật, bản, những, hành động, tinh thần, thượng võ, thi đấu, world, cup, chỉ trích, bất bình, toàn, dân, hình ảnh, kiên cường, của, dân, nhật, bản, đấu ...</td>\n",
       "      <td>binhluan.biz</td>\n",
       "      <td>1</td>\n",
       "      <td>the_thao</td>\n",
       "    </tr>\n",
       "    <tr>\n",
       "      <th>0</th>\n",
       "      <td>[đứng, đầu, thành, trách nhiệm, gửi lời, xin lỗi, sâu sắc, nhân dân, abe, cúi, đầu, nhận, trách nhiệm, người, nhật, nổi tiếng, về, tinh thần, trách nhiệm, và, chất, võ sĩ đạo]</td>\n",
       "      <td>binhluan.biz</td>\n",
       "      <td>1</td>\n",
       "      <td>the_thao</td>\n",
       "    </tr>\n",
       "    <tr>\n",
       "      <th>0</th>\n",
       "      <td>[đội tuyển, áo, xanh, mệnh danh, samurai, xanh]</td>\n",
       "      <td>binhluan.biz</td>\n",
       "      <td>1</td>\n",
       "      <td>the_thao</td>\n",
       "    </tr>\n",
       "    <tr>\n",
       "      <th>...</th>\n",
       "      <td>...</td>\n",
       "      <td>...</td>\n",
       "      <td>...</td>\n",
       "      <td>...</td>\n",
       "    </tr>\n",
       "    <tr>\n",
       "      <th>222</th>\n",
       "      <td>[rút, bài học, bổ ích, trận, thua, hà, nội]</td>\n",
       "      <td>dantri.com.vn</td>\n",
       "      <td>0</td>\n",
       "      <td>the_thao</td>\n",
       "    </tr>\n",
       "    <tr>\n",
       "      <th>222</th>\n",
       "      <td>[đội, chấn chỉnh, trận, đấu, chung kết, dĩ nhiên, đội tuyển, malaysia, mong muốn, bàn, thắng, tỷ số, trận, đấu, tới, chiếm, lợi thế, tâm lý, sân, có, theo dõi, lại, trận, đấu, ở, vòng, bảng]</td>\n",
       "      <td>dantri.com.vn</td>\n",
       "      <td>0</td>\n",
       "      <td>the_thao</td>\n",
       "    </tr>\n",
       "    <tr>\n",
       "      <th>222</th>\n",
       "      <td>[thừa nhận, mắc, phải, sai lầm, sân]</td>\n",
       "      <td>dantri.com.vn</td>\n",
       "      <td>0</td>\n",
       "      <td>the_thao</td>\n",
       "    </tr>\n",
       "    <tr>\n",
       "      <th>222</th>\n",
       "      <td>[băng hình, phá, vỡ, hàng, phòng ngự, đối thủ]</td>\n",
       "      <td>dantri.com.vn</td>\n",
       "      <td>0</td>\n",
       "      <td>the_thao</td>\n",
       "    </tr>\n",
       "    <tr>\n",
       "      <th>222</th>\n",
       "      <td>[hi vọng, kịp, có mặt, trận, đấu, chung kết, trận, chung kết, lượt, đi, malaysia, việt, nam, sẽ, diễn, 19, h45, 1112, ở, sân, bukit, jalil, hlong]</td>\n",
       "      <td>dantri.com.vn</td>\n",
       "      <td>0</td>\n",
       "      <td>the_thao</td>\n",
       "    </tr>\n",
       "  </tbody>\n",
       "</table>\n",
       "<p>3534 rows × 4 columns</p>\n",
       "</div>"
      ],
      "text/plain": [
       "                                                                                                                                                                                                                                                                                                            text  \\\n",
       "0                                                                                                                                                                                                                            [thủ tướng, abe, cúi, đầu, xin lỗi, vì, hành động, phi, thể thao, của, tuyển, nhật]   \n",
       "0                         [sankei, sports, thủ tướng, nhật, shinzo, abe, công khai, gửi, xin lỗi, nhật, hoàng, toàn bộ, dân, tinh thần, thi đấu, phi, thể thao, đội tuyển, nhật, world, cup, 2018, tối qua, lượt, trận, vòng, bảng, world, cup, 2018, nhật, bản, chỉ số, phụ, senegal, đội, sau, thua, colombia]   \n",
       "0    [nhật, vòng, chỉ số, fairplay, thẻ, phạt, thủ tướng, nhật, bản, shinzo, abe, cúi, đầu, xin lỗi, tinh thần, võ sĩ đạo, samurai, nhưng, đội tuyển, nhật, bản, những, hành động, tinh thần, thượng võ, thi đấu, world, cup, chỉ trích, bất bình, toàn, dân, hình ảnh, kiên cường, của, dân, nhật, bản, đấu ...   \n",
       "0                                                                                                                                [đứng, đầu, thành, trách nhiệm, gửi lời, xin lỗi, sâu sắc, nhân dân, abe, cúi, đầu, nhận, trách nhiệm, người, nhật, nổi tiếng, về, tinh thần, trách nhiệm, và, chất, võ sĩ đạo]   \n",
       "0                                                                                                                                                                                                                                                                [đội tuyển, áo, xanh, mệnh danh, samurai, xanh]   \n",
       "..                                                                                                                                                                                                                                                                                                           ...   \n",
       "222                                                                                                                                                                                                                                                                  [rút, bài học, bổ ích, trận, thua, hà, nội]   \n",
       "222                                                                                                               [đội, chấn chỉnh, trận, đấu, chung kết, dĩ nhiên, đội tuyển, malaysia, mong muốn, bàn, thắng, tỷ số, trận, đấu, tới, chiếm, lợi thế, tâm lý, sân, có, theo dõi, lại, trận, đấu, ở, vòng, bảng]   \n",
       "222                                                                                                                                                                                                                                                                         [thừa nhận, mắc, phải, sai lầm, sân]   \n",
       "222                                                                                                                                                                                                                                                               [băng hình, phá, vỡ, hàng, phòng ngự, đối thủ]   \n",
       "222                                                                                                                                                           [hi vọng, kịp, có mặt, trận, đấu, chung kết, trận, chung kết, lượt, đi, malaysia, việt, nam, sẽ, diễn, 19, h45, 1112, ở, sân, bukit, jalil, hlong]   \n",
       "\n",
       "            domain  label     field  \n",
       "0     binhluan.biz      1  the_thao  \n",
       "0     binhluan.biz      1  the_thao  \n",
       "0     binhluan.biz      1  the_thao  \n",
       "0     binhluan.biz      1  the_thao  \n",
       "0     binhluan.biz      1  the_thao  \n",
       "..             ...    ...       ...  \n",
       "222  dantri.com.vn      0  the_thao  \n",
       "222  dantri.com.vn      0  the_thao  \n",
       "222  dantri.com.vn      0  the_thao  \n",
       "222  dantri.com.vn      0  the_thao  \n",
       "222  dantri.com.vn      0  the_thao  \n",
       "\n",
       "[3534 rows x 4 columns]"
      ]
     },
     "execution_count": 117,
     "metadata": {},
     "output_type": "execute_result"
    }
   ],
   "source": [
    "df "
   ]
  },
  {
   "cell_type": "code",
   "execution_count": 118,
   "id": "4fd8cb2a",
   "metadata": {},
   "outputs": [],
   "source": [
    "def combine(text):\n",
    "    return ' '.join(text)"
   ]
  },
  {
   "cell_type": "code",
   "execution_count": 119,
   "id": "cf960beb",
   "metadata": {},
   "outputs": [
    {
     "data": {
      "text/html": [
       "<div>\n",
       "<style scoped>\n",
       "    .dataframe tbody tr th:only-of-type {\n",
       "        vertical-align: middle;\n",
       "    }\n",
       "\n",
       "    .dataframe tbody tr th {\n",
       "        vertical-align: top;\n",
       "    }\n",
       "\n",
       "    .dataframe thead th {\n",
       "        text-align: right;\n",
       "    }\n",
       "</style>\n",
       "<table border=\"1\" class=\"dataframe\">\n",
       "  <thead>\n",
       "    <tr style=\"text-align: right;\">\n",
       "      <th></th>\n",
       "      <th>text</th>\n",
       "      <th>domain</th>\n",
       "    </tr>\n",
       "  </thead>\n",
       "  <tbody>\n",
       "    <tr>\n",
       "      <th>0</th>\n",
       "      <td>thủ tướng abe cúi đầu xin lỗi vì hành động phi thể thao của tuyển nhật</td>\n",
       "      <td>binhluan.biz</td>\n",
       "    </tr>\n",
       "    <tr>\n",
       "      <th>0</th>\n",
       "      <td>sankei sports thủ tướng nhật shinzo abe công khai gửi xin lỗi nhật hoàng toàn bộ dân tinh thần thi đấu phi thể thao đội tuyển nhật world cup 2018 tối qua lượt trận vòng bảng world cup 2018 nhật bản chỉ số phụ senegal đội sau thua colombia</td>\n",
       "      <td>binhluan.biz</td>\n",
       "    </tr>\n",
       "    <tr>\n",
       "      <th>0</th>\n",
       "      <td>nhật vòng chỉ số fairplay thẻ phạt thủ tướng nhật bản shinzo abe cúi đầu xin lỗi tinh thần võ sĩ đạo samurai nhưng đội tuyển nhật bản những hành động tinh thần thượng võ thi đấu world cup chỉ trích bất bình toàn dân hình ảnh kiên cường của dân nhật bản đấu trường quốc tế</td>\n",
       "      <td>binhluan.biz</td>\n",
       "    </tr>\n",
       "    <tr>\n",
       "      <th>0</th>\n",
       "      <td>đứng đầu thành trách nhiệm gửi lời xin lỗi sâu sắc nhân dân abe cúi đầu nhận trách nhiệm người nhật nổi tiếng về tinh thần trách nhiệm và chất võ sĩ đạo</td>\n",
       "      <td>binhluan.biz</td>\n",
       "    </tr>\n",
       "    <tr>\n",
       "      <th>0</th>\n",
       "      <td>đội tuyển áo xanh mệnh danh samurai xanh</td>\n",
       "      <td>binhluan.biz</td>\n",
       "    </tr>\n",
       "    <tr>\n",
       "      <th>...</th>\n",
       "      <td>...</td>\n",
       "      <td>...</td>\n",
       "    </tr>\n",
       "    <tr>\n",
       "      <th>222</th>\n",
       "      <td>rút bài học bổ ích trận thua hà nội</td>\n",
       "      <td>dantri.com.vn</td>\n",
       "    </tr>\n",
       "    <tr>\n",
       "      <th>222</th>\n",
       "      <td>đội chấn chỉnh trận đấu chung kết dĩ nhiên đội tuyển malaysia mong muốn bàn thắng tỷ số trận đấu tới chiếm lợi thế tâm lý sân có theo dõi lại trận đấu ở vòng bảng</td>\n",
       "      <td>dantri.com.vn</td>\n",
       "    </tr>\n",
       "    <tr>\n",
       "      <th>222</th>\n",
       "      <td>thừa nhận mắc phải sai lầm sân</td>\n",
       "      <td>dantri.com.vn</td>\n",
       "    </tr>\n",
       "    <tr>\n",
       "      <th>222</th>\n",
       "      <td>băng hình phá vỡ hàng phòng ngự đối thủ</td>\n",
       "      <td>dantri.com.vn</td>\n",
       "    </tr>\n",
       "    <tr>\n",
       "      <th>222</th>\n",
       "      <td>hi vọng kịp có mặt trận đấu chung kết trận chung kết lượt đi malaysia việt nam sẽ diễn 19 h45 1112 ở sân bukit jalil hlong</td>\n",
       "      <td>dantri.com.vn</td>\n",
       "    </tr>\n",
       "  </tbody>\n",
       "</table>\n",
       "<p>3534 rows × 2 columns</p>\n",
       "</div>"
      ],
      "text/plain": [
       "                                                                                                                                                                                                                                                                                text  \\\n",
       "0                                                                                                                                                                                                             thủ tướng abe cúi đầu xin lỗi vì hành động phi thể thao của tuyển nhật   \n",
       "0                                     sankei sports thủ tướng nhật shinzo abe công khai gửi xin lỗi nhật hoàng toàn bộ dân tinh thần thi đấu phi thể thao đội tuyển nhật world cup 2018 tối qua lượt trận vòng bảng world cup 2018 nhật bản chỉ số phụ senegal đội sau thua colombia   \n",
       "0    nhật vòng chỉ số fairplay thẻ phạt thủ tướng nhật bản shinzo abe cúi đầu xin lỗi tinh thần võ sĩ đạo samurai nhưng đội tuyển nhật bản những hành động tinh thần thượng võ thi đấu world cup chỉ trích bất bình toàn dân hình ảnh kiên cường của dân nhật bản đấu trường quốc tế   \n",
       "0                                                                                                                           đứng đầu thành trách nhiệm gửi lời xin lỗi sâu sắc nhân dân abe cúi đầu nhận trách nhiệm người nhật nổi tiếng về tinh thần trách nhiệm và chất võ sĩ đạo   \n",
       "0                                                                                                                                                                                                                                           đội tuyển áo xanh mệnh danh samurai xanh   \n",
       "..                                                                                                                                                                                                                                                                               ...   \n",
       "222                                                                                                                                                                                                                                              rút bài học bổ ích trận thua hà nội   \n",
       "222                                                                                                               đội chấn chỉnh trận đấu chung kết dĩ nhiên đội tuyển malaysia mong muốn bàn thắng tỷ số trận đấu tới chiếm lợi thế tâm lý sân có theo dõi lại trận đấu ở vòng bảng   \n",
       "222                                                                                                                                                                                                                                                   thừa nhận mắc phải sai lầm sân   \n",
       "222                                                                                                                                                                                                                                          băng hình phá vỡ hàng phòng ngự đối thủ   \n",
       "222                                                                                                                                                       hi vọng kịp có mặt trận đấu chung kết trận chung kết lượt đi malaysia việt nam sẽ diễn 19 h45 1112 ở sân bukit jalil hlong   \n",
       "\n",
       "            domain  \n",
       "0     binhluan.biz  \n",
       "0     binhluan.biz  \n",
       "0     binhluan.biz  \n",
       "0     binhluan.biz  \n",
       "0     binhluan.biz  \n",
       "..             ...  \n",
       "222  dantri.com.vn  \n",
       "222  dantri.com.vn  \n",
       "222  dantri.com.vn  \n",
       "222  dantri.com.vn  \n",
       "222  dantri.com.vn  \n",
       "\n",
       "[3534 rows x 2 columns]"
      ]
     },
     "execution_count": 119,
     "metadata": {},
     "output_type": "execute_result"
    }
   ],
   "source": [
    "X = df.loc[:,[\"text\",\"domain\"]]\n",
    "X.text = X.text.apply(combine)\n",
    "y = df.label.values.reshape(-1,1)\n",
    "X"
   ]
  },
  {
   "cell_type": "markdown",
   "id": "48d1af63",
   "metadata": {},
   "source": [
    "**3.2 Chia tập nguồn thành train_set và test_set**"
   ]
  },
  {
   "cell_type": "code",
   "execution_count": 120,
   "id": "b67346d8",
   "metadata": {},
   "outputs": [],
   "source": [
    "X_train, X_test, y_train, y_test = train_test_split(X,y, test_size =0.42)"
   ]
  },
  {
   "cell_type": "code",
   "execution_count": 121,
   "id": "960b7468",
   "metadata": {},
   "outputs": [
    {
     "data": {
      "text/html": [
       "<div>\n",
       "<style scoped>\n",
       "    .dataframe tbody tr th:only-of-type {\n",
       "        vertical-align: middle;\n",
       "    }\n",
       "\n",
       "    .dataframe tbody tr th {\n",
       "        vertical-align: top;\n",
       "    }\n",
       "\n",
       "    .dataframe thead th {\n",
       "        text-align: right;\n",
       "    }\n",
       "</style>\n",
       "<table border=\"1\" class=\"dataframe\">\n",
       "  <thead>\n",
       "    <tr style=\"text-align: right;\">\n",
       "      <th></th>\n",
       "      <th>text</th>\n",
       "      <th>domain</th>\n",
       "    </tr>\n",
       "  </thead>\n",
       "  <tbody>\n",
       "    <tr>\n",
       "      <th>41</th>\n",
       "      <td>bầu không khí trở nên lạnh lẽo ghê rợn vô cùng trừ ma quỷ ứng trường hợp</td>\n",
       "      <td>tinvn.info</td>\n",
       "    </tr>\n",
       "    <tr>\n",
       "      <th>69</th>\n",
       "      <td>món quà ý nghĩa con gái bao giấu kín phi nhung tặng mẹ phi nhung của hôm nay ơn con gái chấp nhận tình cảm của mẹ ruột cho con nuôi của nữca sĩchia sẻ phỏng vấn phi nhung chia sẻ 3 mà khán giả từng cô</td>\n",
       "      <td>tinvn.info</td>\n",
       "    </tr>\n",
       "    <tr>\n",
       "      <th>169</th>\n",
       "      <td>toyota vios lắp 7 túi khí giá 606 triệu việt nam</td>\n",
       "      <td>vnexpress.net</td>\n",
       "    </tr>\n",
       "    <tr>\n",
       "      <th>61</th>\n",
       "      <td>đấy</td>\n",
       "      <td>tinvn.info</td>\n",
       "    </tr>\n",
       "    <tr>\n",
       "      <th>196</th>\n",
       "      <td>hồi chờ sân bay ga tàu tranh bát mì nóng nước nóng nổi 45 độ người xếp hàng nước đông quá</td>\n",
       "      <td>vnexpress.net</td>\n",
       "    </tr>\n",
       "    <tr>\n",
       "      <th>...</th>\n",
       "      <td>...</td>\n",
       "      <td>...</td>\n",
       "    </tr>\n",
       "    <tr>\n",
       "      <th>26</th>\n",
       "      <td>4</td>\n",
       "      <td>baonuocmy.com</td>\n",
       "    </tr>\n",
       "    <tr>\n",
       "      <th>192</th>\n",
       "      <td>308 công an huyện sóc sơn hà nội tạm lê tuấn 33 hoàng mai hành vi tông chết anh hoàng văn tám 47 tuổi huyện sóc sơn nhân viên bãi trông giữ xe hợp tác xã dịch vụ môi trường nội nhà chức trách 288 ca làm việc taxi tuấn anh điều khiển đỗ vướng đường đi anh tám nhắc nhở</td>\n",
       "      <td>vnexpress.net</td>\n",
       "    </tr>\n",
       "    <tr>\n",
       "      <th>131</th>\n",
       "      <td>cao điểm tuần hàng trăm chen xếp hàng chi nhánh tổ chức giáo dục iig việt nam 3 tp hcm 4 h chờ đăng ký iig việt nam hiện đại diện chính thức duy nhất của viện khảo thí giáo dục hoa kỳ ets tại việt nam lào campuchia và myanmar ủy quyền thi quốc tế toeic sinh viên xếp hàng từ 4 h để đăng ký dự thi...</td>\n",
       "      <td>vnexpress.net</td>\n",
       "    </tr>\n",
       "    <tr>\n",
       "      <th>8</th>\n",
       "      <td>chiều 119 giao ban báo chí thành ủy hà nội phản ảnh báo chí thực trạng phố đi xung quanh hồ hoàn kiếm chó rọ mõm mặc dù quy định cấm phó chủ tịch ubnd hoàn kiếm đinh hồng phong thừa nhận</td>\n",
       "      <td>tintucqpvn.net</td>\n",
       "    </tr>\n",
       "    <tr>\n",
       "      <th>101</th>\n",
       "      <td>đứng cửa kính bảo vệ lao cướp giơ trời một tiếng nổ phát ra vật hắn cầm tay</td>\n",
       "      <td>news.zing.vn</td>\n",
       "    </tr>\n",
       "  </tbody>\n",
       "</table>\n",
       "<p>2049 rows × 2 columns</p>\n",
       "</div>"
      ],
      "text/plain": [
       "                                                                                                                                                                                                                                                                                                            text  \\\n",
       "41                                                                                                                                                                                                                                      bầu không khí trở nên lạnh lẽo ghê rợn vô cùng trừ ma quỷ ứng trường hợp   \n",
       "69                                                                                                      món quà ý nghĩa con gái bao giấu kín phi nhung tặng mẹ phi nhung của hôm nay ơn con gái chấp nhận tình cảm của mẹ ruột cho con nuôi của nữca sĩchia sẻ phỏng vấn phi nhung chia sẻ 3 mà khán giả từng cô   \n",
       "169                                                                                                                                                                                                                                                             toyota vios lắp 7 túi khí giá 606 triệu việt nam   \n",
       "61                                                                                                                                                                                                                                                                                                           đấy   \n",
       "196                                                                                                                                                                                                                    hồi chờ sân bay ga tàu tranh bát mì nóng nước nóng nổi 45 độ người xếp hàng nước đông quá   \n",
       "..                                                                                                                                                                                                                                                                                                           ...   \n",
       "26                                                                                                                                                                                                                                                                                                             4   \n",
       "192                                  308 công an huyện sóc sơn hà nội tạm lê tuấn 33 hoàng mai hành vi tông chết anh hoàng văn tám 47 tuổi huyện sóc sơn nhân viên bãi trông giữ xe hợp tác xã dịch vụ môi trường nội nhà chức trách 288 ca làm việc taxi tuấn anh điều khiển đỗ vướng đường đi anh tám nhắc nhở   \n",
       "131  cao điểm tuần hàng trăm chen xếp hàng chi nhánh tổ chức giáo dục iig việt nam 3 tp hcm 4 h chờ đăng ký iig việt nam hiện đại diện chính thức duy nhất của viện khảo thí giáo dục hoa kỳ ets tại việt nam lào campuchia và myanmar ủy quyền thi quốc tế toeic sinh viên xếp hàng từ 4 h để đăng ký dự thi...   \n",
       "8                                                                                                                     chiều 119 giao ban báo chí thành ủy hà nội phản ảnh báo chí thực trạng phố đi xung quanh hồ hoàn kiếm chó rọ mõm mặc dù quy định cấm phó chủ tịch ubnd hoàn kiếm đinh hồng phong thừa nhận   \n",
       "101                                                                                                                                                                                                                                  đứng cửa kính bảo vệ lao cướp giơ trời một tiếng nổ phát ra vật hắn cầm tay   \n",
       "\n",
       "             domain  \n",
       "41       tinvn.info  \n",
       "69       tinvn.info  \n",
       "169   vnexpress.net  \n",
       "61       tinvn.info  \n",
       "196   vnexpress.net  \n",
       "..              ...  \n",
       "26    baonuocmy.com  \n",
       "192   vnexpress.net  \n",
       "131   vnexpress.net  \n",
       "8    tintucqpvn.net  \n",
       "101    news.zing.vn  \n",
       "\n",
       "[2049 rows x 2 columns]"
      ]
     },
     "execution_count": 121,
     "metadata": {},
     "output_type": "execute_result"
    }
   ],
   "source": [
    "X_train.shape\n",
    "X_train"
   ]
  },
  {
   "cell_type": "code",
   "execution_count": 122,
   "id": "6a5d286c",
   "metadata": {},
   "outputs": [
    {
     "data": {
      "text/plain": [
       "(2049, 1)"
      ]
     },
     "execution_count": 122,
     "metadata": {},
     "output_type": "execute_result"
    }
   ],
   "source": [
    "y_train.shape"
   ]
  },
  {
   "cell_type": "markdown",
   "id": "073aeced",
   "metadata": {},
   "source": [
    "**3.3 Encode các thuộc tính categorical**"
   ]
  },
  {
   "cell_type": "code",
   "execution_count": 123,
   "id": "83d554b5",
   "metadata": {},
   "outputs": [],
   "source": [
    "enc = OneHotEncoder(handle_unknown='ignore', sparse =False)\n",
    "vectorizer = TfidfVectorizer()"
   ]
  },
  {
   "cell_type": "code",
   "execution_count": 124,
   "id": "c7080564",
   "metadata": {},
   "outputs": [],
   "source": [
    "step1 = make_column_transformer((enc,[\"domain\"]))\n",
    "step2 = make_column_transformer((vectorizer,[\"text\"]))"
   ]
  },
  {
   "cell_type": "markdown",
   "id": "1bc5ad98",
   "metadata": {},
   "source": [
    "**3.4 Chọn mô hình cây quyết định (DecisionTree)**\n",
    "* Giải thích: các thuộc tính không phải nhãn đều là catgorical. Và thuật toán cây quyết định hoạt động tốt trên kiểu dữ liệu này"
   ]
  },
  {
   "cell_type": "code",
   "execution_count": 125,
   "id": "0ca09b0a",
   "metadata": {},
   "outputs": [],
   "source": [
    "class ColAdderDropper():\n",
    "    def __init__(self,a=2):\n",
    "        pass\n",
    "    def fit(self, X,y=None):\n",
    "        return self\n",
    "    def transform(self, X_df,y=None):\n",
    "        vectorizer = TfidfVectorizer()\n",
    "        out_df = X_df.copy()\n",
    "        X = vectorizer.fit_transform(out_df.text)\n",
    "        out_df = out_df.join(pd.DataFrame(X))\n",
    "        out_df = out_df.drop([\"text\"], axis=1)\n",
    "        return out_df"
   ]
  },
  {
   "cell_type": "code",
   "execution_count": 126,
   "id": "850fe2b8",
   "metadata": {},
   "outputs": [],
   "source": [
    "tree = DecisionTreeClassifier()\n",
    "#tree.fit(x_train,y_train)"
   ]
  },
  {
   "cell_type": "code",
   "execution_count": 127,
   "id": "6861d030",
   "metadata": {
    "scrolled": true
   },
   "outputs": [
    {
     "data": {
      "text/html": [
       "<style>#sk-d3f5e40c-383d-4075-9e42-f11993590b47 {color: black;background-color: white;}#sk-d3f5e40c-383d-4075-9e42-f11993590b47 pre{padding: 0;}#sk-d3f5e40c-383d-4075-9e42-f11993590b47 div.sk-toggleable {background-color: white;}#sk-d3f5e40c-383d-4075-9e42-f11993590b47 label.sk-toggleable__label {cursor: pointer;display: block;width: 100%;margin-bottom: 0;padding: 0.2em 0.3em;box-sizing: border-box;text-align: center;}#sk-d3f5e40c-383d-4075-9e42-f11993590b47 div.sk-toggleable__content {max-height: 0;max-width: 0;overflow: hidden;text-align: left;background-color: #f0f8ff;}#sk-d3f5e40c-383d-4075-9e42-f11993590b47 div.sk-toggleable__content pre {margin: 0.2em;color: black;border-radius: 0.25em;background-color: #f0f8ff;}#sk-d3f5e40c-383d-4075-9e42-f11993590b47 input.sk-toggleable__control:checked~div.sk-toggleable__content {max-height: 200px;max-width: 100%;overflow: auto;}#sk-d3f5e40c-383d-4075-9e42-f11993590b47 div.sk-estimator input.sk-toggleable__control:checked~label.sk-toggleable__label {background-color: #d4ebff;}#sk-d3f5e40c-383d-4075-9e42-f11993590b47 div.sk-label input.sk-toggleable__control:checked~label.sk-toggleable__label {background-color: #d4ebff;}#sk-d3f5e40c-383d-4075-9e42-f11993590b47 input.sk-hidden--visually {border: 0;clip: rect(1px 1px 1px 1px);clip: rect(1px, 1px, 1px, 1px);height: 1px;margin: -1px;overflow: hidden;padding: 0;position: absolute;width: 1px;}#sk-d3f5e40c-383d-4075-9e42-f11993590b47 div.sk-estimator {font-family: monospace;background-color: #f0f8ff;margin: 0.25em 0.25em;border: 1px dotted black;border-radius: 0.25em;box-sizing: border-box;}#sk-d3f5e40c-383d-4075-9e42-f11993590b47 div.sk-estimator:hover {background-color: #d4ebff;}#sk-d3f5e40c-383d-4075-9e42-f11993590b47 div.sk-parallel-item::after {content: \"\";width: 100%;border-bottom: 1px solid gray;flex-grow: 1;}#sk-d3f5e40c-383d-4075-9e42-f11993590b47 div.sk-label:hover label.sk-toggleable__label {background-color: #d4ebff;}#sk-d3f5e40c-383d-4075-9e42-f11993590b47 div.sk-serial::before {content: \"\";position: absolute;border-left: 1px solid gray;box-sizing: border-box;top: 2em;bottom: 0;left: 50%;}#sk-d3f5e40c-383d-4075-9e42-f11993590b47 div.sk-serial {display: flex;flex-direction: column;align-items: center;background-color: white;}#sk-d3f5e40c-383d-4075-9e42-f11993590b47 div.sk-item {z-index: 1;}#sk-d3f5e40c-383d-4075-9e42-f11993590b47 div.sk-parallel {display: flex;align-items: stretch;justify-content: center;background-color: white;}#sk-d3f5e40c-383d-4075-9e42-f11993590b47 div.sk-parallel-item {display: flex;flex-direction: column;position: relative;background-color: white;}#sk-d3f5e40c-383d-4075-9e42-f11993590b47 div.sk-parallel-item:first-child::after {align-self: flex-end;width: 50%;}#sk-d3f5e40c-383d-4075-9e42-f11993590b47 div.sk-parallel-item:last-child::after {align-self: flex-start;width: 50%;}#sk-d3f5e40c-383d-4075-9e42-f11993590b47 div.sk-parallel-item:only-child::after {width: 0;}#sk-d3f5e40c-383d-4075-9e42-f11993590b47 div.sk-dashed-wrapped {border: 1px dashed gray;margin: 0.2em;box-sizing: border-box;padding-bottom: 0.1em;background-color: white;position: relative;}#sk-d3f5e40c-383d-4075-9e42-f11993590b47 div.sk-label label {font-family: monospace;font-weight: bold;background-color: white;display: inline-block;line-height: 1.2em;}#sk-d3f5e40c-383d-4075-9e42-f11993590b47 div.sk-label-container {position: relative;z-index: 2;text-align: center;}#sk-d3f5e40c-383d-4075-9e42-f11993590b47 div.sk-container {display: inline-block;position: relative;}</style><div id=\"sk-d3f5e40c-383d-4075-9e42-f11993590b47\" class\"sk-top-container\"><div class=\"sk-container\"><div class=\"sk-item sk-dashed-wrapped\"><div class=\"sk-label-container\"><div class=\"sk-label sk-toggleable\"><input class=\"sk-toggleable__control sk-hidden--visually\" id=\"63697709-5282-4c30-952b-e9f6d7238374\" type=\"checkbox\" ><label class=\"sk-toggleable__label\" for=\"63697709-5282-4c30-952b-e9f6d7238374\">Pipeline</label><div class=\"sk-toggleable__content\"><pre>Pipeline(steps=[('coladderdropper',\n",
       "                 <__main__.ColAdderDropper object at 0x0000015616326190>),\n",
       "                ('columntransformer',\n",
       "                 ColumnTransformer(transformers=[('onehotencoder',\n",
       "                                                  OneHotEncoder(handle_unknown='ignore',\n",
       "                                                                sparse=False),\n",
       "                                                  ['domain'])])),\n",
       "                ('decisiontreeclassifier', DecisionTreeClassifier())])</pre></div></div></div><div class=\"sk-serial\"><div class=\"sk-item\"><div class=\"sk-estimator sk-toggleable\"><input class=\"sk-toggleable__control sk-hidden--visually\" id=\"0a2818d6-326e-431b-b323-b250774dd083\" type=\"checkbox\" ><label class=\"sk-toggleable__label\" for=\"0a2818d6-326e-431b-b323-b250774dd083\">ColAdderDropper</label><div class=\"sk-toggleable__content\"><pre><__main__.ColAdderDropper object at 0x0000015616326190></pre></div></div></div><div class=\"sk-item sk-dashed-wrapped\"><div class=\"sk-label-container\"><div class=\"sk-label sk-toggleable\"><input class=\"sk-toggleable__control sk-hidden--visually\" id=\"0f2868b1-d3c3-45ba-819c-751f506cc1a7\" type=\"checkbox\" ><label class=\"sk-toggleable__label\" for=\"0f2868b1-d3c3-45ba-819c-751f506cc1a7\">columntransformer: ColumnTransformer</label><div class=\"sk-toggleable__content\"><pre>ColumnTransformer(transformers=[('onehotencoder',\n",
       "                                 OneHotEncoder(handle_unknown='ignore',\n",
       "                                               sparse=False),\n",
       "                                 ['domain'])])</pre></div></div></div><div class=\"sk-parallel\"><div class=\"sk-parallel-item\"><div class=\"sk-item\"><div class=\"sk-label-container\"><div class=\"sk-label sk-toggleable\"><input class=\"sk-toggleable__control sk-hidden--visually\" id=\"cd181866-d71e-419a-8814-4963c30ce3f4\" type=\"checkbox\" ><label class=\"sk-toggleable__label\" for=\"cd181866-d71e-419a-8814-4963c30ce3f4\">onehotencoder</label><div class=\"sk-toggleable__content\"><pre>['domain']</pre></div></div></div><div class=\"sk-serial\"><div class=\"sk-item\"><div class=\"sk-estimator sk-toggleable\"><input class=\"sk-toggleable__control sk-hidden--visually\" id=\"1565b36e-2edb-4f25-98e1-daa022b29852\" type=\"checkbox\" ><label class=\"sk-toggleable__label\" for=\"1565b36e-2edb-4f25-98e1-daa022b29852\">OneHotEncoder</label><div class=\"sk-toggleable__content\"><pre>OneHotEncoder(handle_unknown='ignore', sparse=False)</pre></div></div></div></div></div></div></div></div><div class=\"sk-item\"><div class=\"sk-estimator sk-toggleable\"><input class=\"sk-toggleable__control sk-hidden--visually\" id=\"e217df01-ac58-4780-bee0-098277f39932\" type=\"checkbox\" ><label class=\"sk-toggleable__label\" for=\"e217df01-ac58-4780-bee0-098277f39932\">DecisionTreeClassifier</label><div class=\"sk-toggleable__content\"><pre>DecisionTreeClassifier()</pre></div></div></div></div></div></div></div>"
      ],
      "text/plain": [
       "Pipeline(steps=[('coladderdropper',\n",
       "                 <__main__.ColAdderDropper object at 0x0000015616326190>),\n",
       "                ('columntransformer',\n",
       "                 ColumnTransformer(transformers=[('onehotencoder',\n",
       "                                                  OneHotEncoder(handle_unknown='ignore',\n",
       "                                                                sparse=False),\n",
       "                                                  ['domain'])])),\n",
       "                ('decisiontreeclassifier', DecisionTreeClassifier())])"
      ]
     },
     "execution_count": 127,
     "metadata": {},
     "output_type": "execute_result"
    }
   ],
   "source": [
    "pipeline = make_pipeline(ColAdderDropper(), step1, tree)\n",
    "pipeline"
   ]
  },
  {
   "cell_type": "code",
   "execution_count": 128,
   "id": "8364c8a3",
   "metadata": {},
   "outputs": [
    {
     "data": {
      "text/html": [
       "<style>#sk-10fb625d-d150-4101-bbec-30c0caf50fb3 {color: black;background-color: white;}#sk-10fb625d-d150-4101-bbec-30c0caf50fb3 pre{padding: 0;}#sk-10fb625d-d150-4101-bbec-30c0caf50fb3 div.sk-toggleable {background-color: white;}#sk-10fb625d-d150-4101-bbec-30c0caf50fb3 label.sk-toggleable__label {cursor: pointer;display: block;width: 100%;margin-bottom: 0;padding: 0.2em 0.3em;box-sizing: border-box;text-align: center;}#sk-10fb625d-d150-4101-bbec-30c0caf50fb3 div.sk-toggleable__content {max-height: 0;max-width: 0;overflow: hidden;text-align: left;background-color: #f0f8ff;}#sk-10fb625d-d150-4101-bbec-30c0caf50fb3 div.sk-toggleable__content pre {margin: 0.2em;color: black;border-radius: 0.25em;background-color: #f0f8ff;}#sk-10fb625d-d150-4101-bbec-30c0caf50fb3 input.sk-toggleable__control:checked~div.sk-toggleable__content {max-height: 200px;max-width: 100%;overflow: auto;}#sk-10fb625d-d150-4101-bbec-30c0caf50fb3 div.sk-estimator input.sk-toggleable__control:checked~label.sk-toggleable__label {background-color: #d4ebff;}#sk-10fb625d-d150-4101-bbec-30c0caf50fb3 div.sk-label input.sk-toggleable__control:checked~label.sk-toggleable__label {background-color: #d4ebff;}#sk-10fb625d-d150-4101-bbec-30c0caf50fb3 input.sk-hidden--visually {border: 0;clip: rect(1px 1px 1px 1px);clip: rect(1px, 1px, 1px, 1px);height: 1px;margin: -1px;overflow: hidden;padding: 0;position: absolute;width: 1px;}#sk-10fb625d-d150-4101-bbec-30c0caf50fb3 div.sk-estimator {font-family: monospace;background-color: #f0f8ff;margin: 0.25em 0.25em;border: 1px dotted black;border-radius: 0.25em;box-sizing: border-box;}#sk-10fb625d-d150-4101-bbec-30c0caf50fb3 div.sk-estimator:hover {background-color: #d4ebff;}#sk-10fb625d-d150-4101-bbec-30c0caf50fb3 div.sk-parallel-item::after {content: \"\";width: 100%;border-bottom: 1px solid gray;flex-grow: 1;}#sk-10fb625d-d150-4101-bbec-30c0caf50fb3 div.sk-label:hover label.sk-toggleable__label {background-color: #d4ebff;}#sk-10fb625d-d150-4101-bbec-30c0caf50fb3 div.sk-serial::before {content: \"\";position: absolute;border-left: 1px solid gray;box-sizing: border-box;top: 2em;bottom: 0;left: 50%;}#sk-10fb625d-d150-4101-bbec-30c0caf50fb3 div.sk-serial {display: flex;flex-direction: column;align-items: center;background-color: white;}#sk-10fb625d-d150-4101-bbec-30c0caf50fb3 div.sk-item {z-index: 1;}#sk-10fb625d-d150-4101-bbec-30c0caf50fb3 div.sk-parallel {display: flex;align-items: stretch;justify-content: center;background-color: white;}#sk-10fb625d-d150-4101-bbec-30c0caf50fb3 div.sk-parallel-item {display: flex;flex-direction: column;position: relative;background-color: white;}#sk-10fb625d-d150-4101-bbec-30c0caf50fb3 div.sk-parallel-item:first-child::after {align-self: flex-end;width: 50%;}#sk-10fb625d-d150-4101-bbec-30c0caf50fb3 div.sk-parallel-item:last-child::after {align-self: flex-start;width: 50%;}#sk-10fb625d-d150-4101-bbec-30c0caf50fb3 div.sk-parallel-item:only-child::after {width: 0;}#sk-10fb625d-d150-4101-bbec-30c0caf50fb3 div.sk-dashed-wrapped {border: 1px dashed gray;margin: 0.2em;box-sizing: border-box;padding-bottom: 0.1em;background-color: white;position: relative;}#sk-10fb625d-d150-4101-bbec-30c0caf50fb3 div.sk-label label {font-family: monospace;font-weight: bold;background-color: white;display: inline-block;line-height: 1.2em;}#sk-10fb625d-d150-4101-bbec-30c0caf50fb3 div.sk-label-container {position: relative;z-index: 2;text-align: center;}#sk-10fb625d-d150-4101-bbec-30c0caf50fb3 div.sk-container {display: inline-block;position: relative;}</style><div id=\"sk-10fb625d-d150-4101-bbec-30c0caf50fb3\" class\"sk-top-container\"><div class=\"sk-container\"><div class=\"sk-item sk-dashed-wrapped\"><div class=\"sk-label-container\"><div class=\"sk-label sk-toggleable\"><input class=\"sk-toggleable__control sk-hidden--visually\" id=\"d82be99a-6e69-4cf4-a520-00663320ff1f\" type=\"checkbox\" ><label class=\"sk-toggleable__label\" for=\"d82be99a-6e69-4cf4-a520-00663320ff1f\">Pipeline</label><div class=\"sk-toggleable__content\"><pre>Pipeline(steps=[('coladderdropper',\n",
       "                 <__main__.ColAdderDropper object at 0x0000015616326190>),\n",
       "                ('columntransformer',\n",
       "                 ColumnTransformer(transformers=[('onehotencoder',\n",
       "                                                  OneHotEncoder(handle_unknown='ignore',\n",
       "                                                                sparse=False),\n",
       "                                                  ['domain'])])),\n",
       "                ('decisiontreeclassifier', DecisionTreeClassifier())])</pre></div></div></div><div class=\"sk-serial\"><div class=\"sk-item\"><div class=\"sk-estimator sk-toggleable\"><input class=\"sk-toggleable__control sk-hidden--visually\" id=\"9d677ad0-f9ea-4400-a5bc-31449b80fc5b\" type=\"checkbox\" ><label class=\"sk-toggleable__label\" for=\"9d677ad0-f9ea-4400-a5bc-31449b80fc5b\">ColAdderDropper</label><div class=\"sk-toggleable__content\"><pre><__main__.ColAdderDropper object at 0x0000015616326190></pre></div></div></div><div class=\"sk-item sk-dashed-wrapped\"><div class=\"sk-label-container\"><div class=\"sk-label sk-toggleable\"><input class=\"sk-toggleable__control sk-hidden--visually\" id=\"b6de55f8-fb9c-48c2-a2bb-d1968bdc2e23\" type=\"checkbox\" ><label class=\"sk-toggleable__label\" for=\"b6de55f8-fb9c-48c2-a2bb-d1968bdc2e23\">columntransformer: ColumnTransformer</label><div class=\"sk-toggleable__content\"><pre>ColumnTransformer(transformers=[('onehotencoder',\n",
       "                                 OneHotEncoder(handle_unknown='ignore',\n",
       "                                               sparse=False),\n",
       "                                 ['domain'])])</pre></div></div></div><div class=\"sk-parallel\"><div class=\"sk-parallel-item\"><div class=\"sk-item\"><div class=\"sk-label-container\"><div class=\"sk-label sk-toggleable\"><input class=\"sk-toggleable__control sk-hidden--visually\" id=\"fe11ac74-0823-496c-bef7-4dbeb167cde5\" type=\"checkbox\" ><label class=\"sk-toggleable__label\" for=\"fe11ac74-0823-496c-bef7-4dbeb167cde5\">onehotencoder</label><div class=\"sk-toggleable__content\"><pre>['domain']</pre></div></div></div><div class=\"sk-serial\"><div class=\"sk-item\"><div class=\"sk-estimator sk-toggleable\"><input class=\"sk-toggleable__control sk-hidden--visually\" id=\"4e42cc05-eee4-4f57-9156-a450bb501fc3\" type=\"checkbox\" ><label class=\"sk-toggleable__label\" for=\"4e42cc05-eee4-4f57-9156-a450bb501fc3\">OneHotEncoder</label><div class=\"sk-toggleable__content\"><pre>OneHotEncoder(handle_unknown='ignore', sparse=False)</pre></div></div></div></div></div></div></div></div><div class=\"sk-item\"><div class=\"sk-estimator sk-toggleable\"><input class=\"sk-toggleable__control sk-hidden--visually\" id=\"f37f419f-7481-47b8-b2df-9bc412ae26a7\" type=\"checkbox\" ><label class=\"sk-toggleable__label\" for=\"f37f419f-7481-47b8-b2df-9bc412ae26a7\">DecisionTreeClassifier</label><div class=\"sk-toggleable__content\"><pre>DecisionTreeClassifier()</pre></div></div></div></div></div></div></div>"
      ],
      "text/plain": [
       "Pipeline(steps=[('coladderdropper',\n",
       "                 <__main__.ColAdderDropper object at 0x0000015616326190>),\n",
       "                ('columntransformer',\n",
       "                 ColumnTransformer(transformers=[('onehotencoder',\n",
       "                                                  OneHotEncoder(handle_unknown='ignore',\n",
       "                                                                sparse=False),\n",
       "                                                  ['domain'])])),\n",
       "                ('decisiontreeclassifier', DecisionTreeClassifier())])"
      ]
     },
     "execution_count": 128,
     "metadata": {},
     "output_type": "execute_result"
    }
   ],
   "source": [
    "pipeline.fit(X_train, y_train)"
   ]
  },
  {
   "cell_type": "code",
   "execution_count": 129,
   "id": "65a1e23e",
   "metadata": {},
   "outputs": [],
   "source": [
    "# Prediction\n",
    "pred = pipeline.predict(X_test)"
   ]
  },
  {
   "cell_type": "code",
   "execution_count": 130,
   "id": "f5da68b1",
   "metadata": {},
   "outputs": [
    {
     "name": "stdout",
     "output_type": "stream",
     "text": [
      "              precision    recall  f1-score   support\n",
      "\n",
      "           0       0.49      0.11      0.18       721\n",
      "           1       0.52      0.89      0.65       764\n",
      "\n",
      "    accuracy                           0.51      1485\n",
      "   macro avg       0.50      0.50      0.42      1485\n",
      "weighted avg       0.51      0.51      0.42      1485\n",
      "\n"
     ]
    }
   ],
   "source": [
    "#Report trên kết quả\n",
    "print(classification_report(y_test,pred))"
   ]
  },
  {
   "cell_type": "markdown",
   "id": "915944ef",
   "metadata": {},
   "source": [
    "**Độ đo accuracy trên tập test**"
   ]
  },
  {
   "cell_type": "code",
   "execution_count": 131,
   "id": "505f6531",
   "metadata": {},
   "outputs": [
    {
     "data": {
      "text/plain": [
       "51.31313131313131"
      ]
     },
     "execution_count": 131,
     "metadata": {},
     "output_type": "execute_result"
    }
   ],
   "source": [
    "accuracy_score(y_test, pred)*100"
   ]
  },
  {
   "cell_type": "markdown",
   "id": "47df0a3b",
   "metadata": {},
   "source": [
    "**Visualization**"
   ]
  },
  {
   "cell_type": "code",
   "execution_count": 132,
   "id": "7517ab1a",
   "metadata": {},
   "outputs": [],
   "source": [
    "from sklearn.metrics import plot_confusion_matrix\n",
    "from sklearn.metrics import confusion_matrix"
   ]
  },
  {
   "cell_type": "code",
   "execution_count": 133,
   "id": "344cd216",
   "metadata": {},
   "outputs": [
    {
     "data": {
      "text/plain": [
       "<sklearn.metrics._plot.confusion_matrix.ConfusionMatrixDisplay at 0x1561635f5e0>"
      ]
     },
     "execution_count": 133,
     "metadata": {},
     "output_type": "execute_result"
    },
    {
     "data": {
      "image/png": "[encoded data removed]",
      "text/plain": [
       "<Figure size 432x288 with 2 Axes>"
      ]
     },
     "metadata": {
      "needs_background": "light"
     },
     "output_type": "display_data"
    }
   ],
   "source": [
    "plot_confusion_matrix(pipeline, X_test,y_test)"
   ]
  },
  {
   "cell_type": "markdown",
   "id": "c8e380a5",
   "metadata": {},
   "source": [
    "## Nhận xét\n",
    "* Độ đo accuracy hoạt động tốt trên tập dữ liệu (100% trên cả train và test)\n",
    "* Đây là mô hình hoạt đông tốt trên các thuộc tính được rời rạc hoá tốt"
   ]
  },
  {
   "cell_type": "markdown",
   "id": "f4af66ca",
   "metadata": {},
   "source": [
    "## Logistic Regression"
   ]
  },
  {
   "cell_type": "code",
   "execution_count": 135,
   "id": "dfc68abe",
   "metadata": {},
   "outputs": [],
   "source": [
    "df = vnnews_df.copy()"
   ]
  },
  {
   "cell_type": "code",
   "execution_count": 136,
   "id": "73081b53",
   "metadata": {},
   "outputs": [],
   "source": [
    "def combine(text):\n",
    "    return ' '.join(text)"
   ]
  },
  {
   "cell_type": "code",
   "execution_count": 137,
   "id": "3ab87014",
   "metadata": {},
   "outputs": [
    {
     "data": {
      "text/html": [
       "<div>\n",
       "<style scoped>\n",
       "    .dataframe tbody tr th:only-of-type {\n",
       "        vertical-align: middle;\n",
       "    }\n",
       "\n",
       "    .dataframe tbody tr th {\n",
       "        vertical-align: top;\n",
       "    }\n",
       "\n",
       "    .dataframe thead th {\n",
       "        text-align: right;\n",
       "    }\n",
       "</style>\n",
       "<table border=\"1\" class=\"dataframe\">\n",
       "  <thead>\n",
       "    <tr style=\"text-align: right;\">\n",
       "      <th></th>\n",
       "      <th>text</th>\n",
       "      <th>domain</th>\n",
       "      <th>label</th>\n",
       "      <th>field</th>\n",
       "    </tr>\n",
       "  </thead>\n",
       "  <tbody>\n",
       "    <tr>\n",
       "      <th>0</th>\n",
       "      <td>thủ tướng abe cúi đầu xin lỗi vì hành động phi thể thao của tuyển nhật</td>\n",
       "      <td>binhluan.biz</td>\n",
       "      <td>1</td>\n",
       "      <td>the_thao</td>\n",
       "    </tr>\n",
       "    <tr>\n",
       "      <th>0</th>\n",
       "      <td>sankei sports thủ tướng nhật shinzo abe công khai gửi xin lỗi nhật hoàng toàn bộ dân tinh thần thi đấu phi thể thao đội tuyển nhật world cup 2018 tối qua lượt trận vòng bảng world cup 2018 nhật bản chỉ số phụ senegal đội sau thua colombia</td>\n",
       "      <td>binhluan.biz</td>\n",
       "      <td>1</td>\n",
       "      <td>the_thao</td>\n",
       "    </tr>\n",
       "    <tr>\n",
       "      <th>0</th>\n",
       "      <td>nhật vòng chỉ số fairplay thẻ phạt thủ tướng nhật bản shinzo abe cúi đầu xin lỗi tinh thần võ sĩ đạo samurai nhưng đội tuyển nhật bản những hành động tinh thần thượng võ thi đấu world cup chỉ trích bất bình toàn dân hình ảnh kiên cường của dân nhật bản đấu trường quốc tế</td>\n",
       "      <td>binhluan.biz</td>\n",
       "      <td>1</td>\n",
       "      <td>the_thao</td>\n",
       "    </tr>\n",
       "    <tr>\n",
       "      <th>0</th>\n",
       "      <td>đứng đầu thành trách nhiệm gửi lời xin lỗi sâu sắc nhân dân abe cúi đầu nhận trách nhiệm người nhật nổi tiếng về tinh thần trách nhiệm và chất võ sĩ đạo</td>\n",
       "      <td>binhluan.biz</td>\n",
       "      <td>1</td>\n",
       "      <td>the_thao</td>\n",
       "    </tr>\n",
       "    <tr>\n",
       "      <th>0</th>\n",
       "      <td>đội tuyển áo xanh mệnh danh samurai xanh</td>\n",
       "      <td>binhluan.biz</td>\n",
       "      <td>1</td>\n",
       "      <td>the_thao</td>\n",
       "    </tr>\n",
       "    <tr>\n",
       "      <th>...</th>\n",
       "      <td>...</td>\n",
       "      <td>...</td>\n",
       "      <td>...</td>\n",
       "      <td>...</td>\n",
       "    </tr>\n",
       "    <tr>\n",
       "      <th>222</th>\n",
       "      <td>rút bài học bổ ích trận thua hà nội</td>\n",
       "      <td>dantri.com.vn</td>\n",
       "      <td>0</td>\n",
       "      <td>the_thao</td>\n",
       "    </tr>\n",
       "    <tr>\n",
       "      <th>222</th>\n",
       "      <td>đội chấn chỉnh trận đấu chung kết dĩ nhiên đội tuyển malaysia mong muốn bàn thắng tỷ số trận đấu tới chiếm lợi thế tâm lý sân có theo dõi lại trận đấu ở vòng bảng</td>\n",
       "      <td>dantri.com.vn</td>\n",
       "      <td>0</td>\n",
       "      <td>the_thao</td>\n",
       "    </tr>\n",
       "    <tr>\n",
       "      <th>222</th>\n",
       "      <td>thừa nhận mắc phải sai lầm sân</td>\n",
       "      <td>dantri.com.vn</td>\n",
       "      <td>0</td>\n",
       "      <td>the_thao</td>\n",
       "    </tr>\n",
       "    <tr>\n",
       "      <th>222</th>\n",
       "      <td>băng hình phá vỡ hàng phòng ngự đối thủ</td>\n",
       "      <td>dantri.com.vn</td>\n",
       "      <td>0</td>\n",
       "      <td>the_thao</td>\n",
       "    </tr>\n",
       "    <tr>\n",
       "      <th>222</th>\n",
       "      <td>hi vọng kịp có mặt trận đấu chung kết trận chung kết lượt đi malaysia việt nam sẽ diễn 19 h45 1112 ở sân bukit jalil hlong</td>\n",
       "      <td>dantri.com.vn</td>\n",
       "      <td>0</td>\n",
       "      <td>the_thao</td>\n",
       "    </tr>\n",
       "  </tbody>\n",
       "</table>\n",
       "<p>3534 rows × 4 columns</p>\n",
       "</div>"
      ],
      "text/plain": [
       "                                                                                                                                                                                                                                                                                text  \\\n",
       "0                                                                                                                                                                                                             thủ tướng abe cúi đầu xin lỗi vì hành động phi thể thao của tuyển nhật   \n",
       "0                                     sankei sports thủ tướng nhật shinzo abe công khai gửi xin lỗi nhật hoàng toàn bộ dân tinh thần thi đấu phi thể thao đội tuyển nhật world cup 2018 tối qua lượt trận vòng bảng world cup 2018 nhật bản chỉ số phụ senegal đội sau thua colombia   \n",
       "0    nhật vòng chỉ số fairplay thẻ phạt thủ tướng nhật bản shinzo abe cúi đầu xin lỗi tinh thần võ sĩ đạo samurai nhưng đội tuyển nhật bản những hành động tinh thần thượng võ thi đấu world cup chỉ trích bất bình toàn dân hình ảnh kiên cường của dân nhật bản đấu trường quốc tế   \n",
       "0                                                                                                                           đứng đầu thành trách nhiệm gửi lời xin lỗi sâu sắc nhân dân abe cúi đầu nhận trách nhiệm người nhật nổi tiếng về tinh thần trách nhiệm và chất võ sĩ đạo   \n",
       "0                                                                                                                                                                                                                                           đội tuyển áo xanh mệnh danh samurai xanh   \n",
       "..                                                                                                                                                                                                                                                                               ...   \n",
       "222                                                                                                                                                                                                                                              rút bài học bổ ích trận thua hà nội   \n",
       "222                                                                                                               đội chấn chỉnh trận đấu chung kết dĩ nhiên đội tuyển malaysia mong muốn bàn thắng tỷ số trận đấu tới chiếm lợi thế tâm lý sân có theo dõi lại trận đấu ở vòng bảng   \n",
       "222                                                                                                                                                                                                                                                   thừa nhận mắc phải sai lầm sân   \n",
       "222                                                                                                                                                                                                                                          băng hình phá vỡ hàng phòng ngự đối thủ   \n",
       "222                                                                                                                                                       hi vọng kịp có mặt trận đấu chung kết trận chung kết lượt đi malaysia việt nam sẽ diễn 19 h45 1112 ở sân bukit jalil hlong   \n",
       "\n",
       "            domain  label     field  \n",
       "0     binhluan.biz      1  the_thao  \n",
       "0     binhluan.biz      1  the_thao  \n",
       "0     binhluan.biz      1  the_thao  \n",
       "0     binhluan.biz      1  the_thao  \n",
       "0     binhluan.biz      1  the_thao  \n",
       "..             ...    ...       ...  \n",
       "222  dantri.com.vn      0  the_thao  \n",
       "222  dantri.com.vn      0  the_thao  \n",
       "222  dantri.com.vn      0  the_thao  \n",
       "222  dantri.com.vn      0  the_thao  \n",
       "222  dantri.com.vn      0  the_thao  \n",
       "\n",
       "[3534 rows x 4 columns]"
      ]
     },
     "execution_count": 137,
     "metadata": {},
     "output_type": "execute_result"
    }
   ],
   "source": [
    "df = df.explode(\"text\")\n",
    "df[\"text\"] = df.text.apply(combine)\n",
    "df"
   ]
  },
  {
   "cell_type": "code",
   "execution_count": 138,
   "id": "b25f6bad",
   "metadata": {},
   "outputs": [],
   "source": [
    "X = df.text\n",
    "y = df.label.values.reshape(-1,1)"
   ]
  },
  {
   "cell_type": "code",
   "execution_count": 139,
   "id": "6fc02415",
   "metadata": {},
   "outputs": [],
   "source": [
    "X_train, X_test, y_train, y_test = train_test_split(X,y, test_size =0.42)"
   ]
  },
  {
   "cell_type": "code",
   "execution_count": 140,
   "id": "ab365579",
   "metadata": {},
   "outputs": [
    {
     "data": {
      "text/plain": [
       "((2049,), (2049, 1))"
      ]
     },
     "execution_count": 140,
     "metadata": {},
     "output_type": "execute_result"
    }
   ],
   "source": [
    "X_train.shape, y_train.shape"
   ]
  },
  {
   "cell_type": "code",
   "execution_count": 141,
   "id": "1027f6f0",
   "metadata": {},
   "outputs": [],
   "source": [
    "vectorizer = TfidfVectorizer()"
   ]
  },
  {
   "cell_type": "code",
   "execution_count": 142,
   "id": "0387ae6a",
   "metadata": {},
   "outputs": [],
   "source": [
    "clf = LogisticRegression(random_state=0)"
   ]
  },
  {
   "cell_type": "code",
   "execution_count": 143,
   "id": "ce4d07bc",
   "metadata": {},
   "outputs": [],
   "source": [
    "pipeline = make_pipeline(vectorizer, clf)"
   ]
  },
  {
   "cell_type": "code",
   "execution_count": 144,
   "id": "88e2a00f",
   "metadata": {},
   "outputs": [
    {
     "data": {
      "text/html": [
       "<style>#sk-b4def26c-d817-48e1-8bd5-ac7c2ec6b69b {color: black;background-color: white;}#sk-b4def26c-d817-48e1-8bd5-ac7c2ec6b69b pre{padding: 0;}#sk-b4def26c-d817-48e1-8bd5-ac7c2ec6b69b div.sk-toggleable {background-color: white;}#sk-b4def26c-d817-48e1-8bd5-ac7c2ec6b69b label.sk-toggleable__label {cursor: pointer;display: block;width: 100%;margin-bottom: 0;padding: 0.2em 0.3em;box-sizing: border-box;text-align: center;}#sk-b4def26c-d817-48e1-8bd5-ac7c2ec6b69b div.sk-toggleable__content {max-height: 0;max-width: 0;overflow: hidden;text-align: left;background-color: #f0f8ff;}#sk-b4def26c-d817-48e1-8bd5-ac7c2ec6b69b div.sk-toggleable__content pre {margin: 0.2em;color: black;border-radius: 0.25em;background-color: #f0f8ff;}#sk-b4def26c-d817-48e1-8bd5-ac7c2ec6b69b input.sk-toggleable__control:checked~div.sk-toggleable__content {max-height: 200px;max-width: 100%;overflow: auto;}#sk-b4def26c-d817-48e1-8bd5-ac7c2ec6b69b div.sk-estimator input.sk-toggleable__control:checked~label.sk-toggleable__label {background-color: #d4ebff;}#sk-b4def26c-d817-48e1-8bd5-ac7c2ec6b69b div.sk-label input.sk-toggleable__control:checked~label.sk-toggleable__label {background-color: #d4ebff;}#sk-b4def26c-d817-48e1-8bd5-ac7c2ec6b69b input.sk-hidden--visually {border: 0;clip: rect(1px 1px 1px 1px);clip: rect(1px, 1px, 1px, 1px);height: 1px;margin: -1px;overflow: hidden;padding: 0;position: absolute;width: 1px;}#sk-b4def26c-d817-48e1-8bd5-ac7c2ec6b69b div.sk-estimator {font-family: monospace;background-color: #f0f8ff;margin: 0.25em 0.25em;border: 1px dotted black;border-radius: 0.25em;box-sizing: border-box;}#sk-b4def26c-d817-48e1-8bd5-ac7c2ec6b69b div.sk-estimator:hover {background-color: #d4ebff;}#sk-b4def26c-d817-48e1-8bd5-ac7c2ec6b69b div.sk-parallel-item::after {content: \"\";width: 100%;border-bottom: 1px solid gray;flex-grow: 1;}#sk-b4def26c-d817-48e1-8bd5-ac7c2ec6b69b div.sk-label:hover label.sk-toggleable__label {background-color: #d4ebff;}#sk-b4def26c-d817-48e1-8bd5-ac7c2ec6b69b div.sk-serial::before {content: \"\";position: absolute;border-left: 1px solid gray;box-sizing: border-box;top: 2em;bottom: 0;left: 50%;}#sk-b4def26c-d817-48e1-8bd5-ac7c2ec6b69b div.sk-serial {display: flex;flex-direction: column;align-items: center;background-color: white;}#sk-b4def26c-d817-48e1-8bd5-ac7c2ec6b69b div.sk-item {z-index: 1;}#sk-b4def26c-d817-48e1-8bd5-ac7c2ec6b69b div.sk-parallel {display: flex;align-items: stretch;justify-content: center;background-color: white;}#sk-b4def26c-d817-48e1-8bd5-ac7c2ec6b69b div.sk-parallel-item {display: flex;flex-direction: column;position: relative;background-color: white;}#sk-b4def26c-d817-48e1-8bd5-ac7c2ec6b69b div.sk-parallel-item:first-child::after {align-self: flex-end;width: 50%;}#sk-b4def26c-d817-48e1-8bd5-ac7c2ec6b69b div.sk-parallel-item:last-child::after {align-self: flex-start;width: 50%;}#sk-b4def26c-d817-48e1-8bd5-ac7c2ec6b69b div.sk-parallel-item:only-child::after {width: 0;}#sk-b4def26c-d817-48e1-8bd5-ac7c2ec6b69b div.sk-dashed-wrapped {border: 1px dashed gray;margin: 0.2em;box-sizing: border-box;padding-bottom: 0.1em;background-color: white;position: relative;}#sk-b4def26c-d817-48e1-8bd5-ac7c2ec6b69b div.sk-label label {font-family: monospace;font-weight: bold;background-color: white;display: inline-block;line-height: 1.2em;}#sk-b4def26c-d817-48e1-8bd5-ac7c2ec6b69b div.sk-label-container {position: relative;z-index: 2;text-align: center;}#sk-b4def26c-d817-48e1-8bd5-ac7c2ec6b69b div.sk-container {display: inline-block;position: relative;}</style><div id=\"sk-b4def26c-d817-48e1-8bd5-ac7c2ec6b69b\" class\"sk-top-container\"><div class=\"sk-container\"><div class=\"sk-item sk-dashed-wrapped\"><div class=\"sk-label-container\"><div class=\"sk-label sk-toggleable\"><input class=\"sk-toggleable__control sk-hidden--visually\" id=\"b85710a5-b4dc-473a-a254-581b0497d7e0\" type=\"checkbox\" ><label class=\"sk-toggleable__label\" for=\"b85710a5-b4dc-473a-a254-581b0497d7e0\">Pipeline</label><div class=\"sk-toggleable__content\"><pre>Pipeline(steps=[('tfidfvectorizer', TfidfVectorizer()),\n",
       "                ('logisticregression', LogisticRegression(random_state=0))])</pre></div></div></div><div class=\"sk-serial\"><div class=\"sk-item\"><div class=\"sk-estimator sk-toggleable\"><input class=\"sk-toggleable__control sk-hidden--visually\" id=\"aa9cb722-b7c1-430c-add4-5679ec5b1db3\" type=\"checkbox\" ><label class=\"sk-toggleable__label\" for=\"aa9cb722-b7c1-430c-add4-5679ec5b1db3\">TfidfVectorizer</label><div class=\"sk-toggleable__content\"><pre>TfidfVectorizer()</pre></div></div></div><div class=\"sk-item\"><div class=\"sk-estimator sk-toggleable\"><input class=\"sk-toggleable__control sk-hidden--visually\" id=\"62fe9a76-c02d-4bf9-9f96-d32e322edc04\" type=\"checkbox\" ><label class=\"sk-toggleable__label\" for=\"62fe9a76-c02d-4bf9-9f96-d32e322edc04\">LogisticRegression</label><div class=\"sk-toggleable__content\"><pre>LogisticRegression(random_state=0)</pre></div></div></div></div></div></div></div>"
      ],
      "text/plain": [
       "Pipeline(steps=[('tfidfvectorizer', TfidfVectorizer()),\n",
       "                ('logisticregression', LogisticRegression(random_state=0))])"
      ]
     },
     "execution_count": 144,
     "metadata": {},
     "output_type": "execute_result"
    }
   ],
   "source": [
    "pipeline"
   ]
  },
  {
   "cell_type": "code",
   "execution_count": 145,
   "id": "aa756020",
   "metadata": {},
   "outputs": [
    {
     "data": {
      "text/html": [
       "<style>#sk-70d690c7-c6da-4376-8d0f-e32b3cc9bf02 {color: black;background-color: white;}#sk-70d690c7-c6da-4376-8d0f-e32b3cc9bf02 pre{padding: 0;}#sk-70d690c7-c6da-4376-8d0f-e32b3cc9bf02 div.sk-toggleable {background-color: white;}#sk-70d690c7-c6da-4376-8d0f-e32b3cc9bf02 label.sk-toggleable__label {cursor: pointer;display: block;width: 100%;margin-bottom: 0;padding: 0.2em 0.3em;box-sizing: border-box;text-align: center;}#sk-70d690c7-c6da-4376-8d0f-e32b3cc9bf02 div.sk-toggleable__content {max-height: 0;max-width: 0;overflow: hidden;text-align: left;background-color: #f0f8ff;}#sk-70d690c7-c6da-4376-8d0f-e32b3cc9bf02 div.sk-toggleable__content pre {margin: 0.2em;color: black;border-radius: 0.25em;background-color: #f0f8ff;}#sk-70d690c7-c6da-4376-8d0f-e32b3cc9bf02 input.sk-toggleable__control:checked~div.sk-toggleable__content {max-height: 200px;max-width: 100%;overflow: auto;}#sk-70d690c7-c6da-4376-8d0f-e32b3cc9bf02 div.sk-estimator input.sk-toggleable__control:checked~label.sk-toggleable__label {background-color: #d4ebff;}#sk-70d690c7-c6da-4376-8d0f-e32b3cc9bf02 div.sk-label input.sk-toggleable__control:checked~label.sk-toggleable__label {background-color: #d4ebff;}#sk-70d690c7-c6da-4376-8d0f-e32b3cc9bf02 input.sk-hidden--visually {border: 0;clip: rect(1px 1px 1px 1px);clip: rect(1px, 1px, 1px, 1px);height: 1px;margin: -1px;overflow: hidden;padding: 0;position: absolute;width: 1px;}#sk-70d690c7-c6da-4376-8d0f-e32b3cc9bf02 div.sk-estimator {font-family: monospace;background-color: #f0f8ff;margin: 0.25em 0.25em;border: 1px dotted black;border-radius: 0.25em;box-sizing: border-box;}#sk-70d690c7-c6da-4376-8d0f-e32b3cc9bf02 div.sk-estimator:hover {background-color: #d4ebff;}#sk-70d690c7-c6da-4376-8d0f-e32b3cc9bf02 div.sk-parallel-item::after {content: \"\";width: 100%;border-bottom: 1px solid gray;flex-grow: 1;}#sk-70d690c7-c6da-4376-8d0f-e32b3cc9bf02 div.sk-label:hover label.sk-toggleable__label {background-color: #d4ebff;}#sk-70d690c7-c6da-4376-8d0f-e32b3cc9bf02 div.sk-serial::before {content: \"\";position: absolute;border-left: 1px solid gray;box-sizing: border-box;top: 2em;bottom: 0;left: 50%;}#sk-70d690c7-c6da-4376-8d0f-e32b3cc9bf02 div.sk-serial {display: flex;flex-direction: column;align-items: center;background-color: white;}#sk-70d690c7-c6da-4376-8d0f-e32b3cc9bf02 div.sk-item {z-index: 1;}#sk-70d690c7-c6da-4376-8d0f-e32b3cc9bf02 div.sk-parallel {display: flex;align-items: stretch;justify-content: center;background-color: white;}#sk-70d690c7-c6da-4376-8d0f-e32b3cc9bf02 div.sk-parallel-item {display: flex;flex-direction: column;position: relative;background-color: white;}#sk-70d690c7-c6da-4376-8d0f-e32b3cc9bf02 div.sk-parallel-item:first-child::after {align-self: flex-end;width: 50%;}#sk-70d690c7-c6da-4376-8d0f-e32b3cc9bf02 div.sk-parallel-item:last-child::after {align-self: flex-start;width: 50%;}#sk-70d690c7-c6da-4376-8d0f-e32b3cc9bf02 div.sk-parallel-item:only-child::after {width: 0;}#sk-70d690c7-c6da-4376-8d0f-e32b3cc9bf02 div.sk-dashed-wrapped {border: 1px dashed gray;margin: 0.2em;box-sizing: border-box;padding-bottom: 0.1em;background-color: white;position: relative;}#sk-70d690c7-c6da-4376-8d0f-e32b3cc9bf02 div.sk-label label {font-family: monospace;font-weight: bold;background-color: white;display: inline-block;line-height: 1.2em;}#sk-70d690c7-c6da-4376-8d0f-e32b3cc9bf02 div.sk-label-container {position: relative;z-index: 2;text-align: center;}#sk-70d690c7-c6da-4376-8d0f-e32b3cc9bf02 div.sk-container {display: inline-block;position: relative;}</style><div id=\"sk-70d690c7-c6da-4376-8d0f-e32b3cc9bf02\" class\"sk-top-container\"><div class=\"sk-container\"><div class=\"sk-item sk-dashed-wrapped\"><div class=\"sk-label-container\"><div class=\"sk-label sk-toggleable\"><input class=\"sk-toggleable__control sk-hidden--visually\" id=\"6781a5ea-5375-47cd-bc0b-4196bbe0c4f3\" type=\"checkbox\" ><label class=\"sk-toggleable__label\" for=\"6781a5ea-5375-47cd-bc0b-4196bbe0c4f3\">Pipeline</label><div class=\"sk-toggleable__content\"><pre>Pipeline(steps=[('tfidfvectorizer', TfidfVectorizer()),\n",
       "                ('logisticregression', LogisticRegression(random_state=0))])</pre></div></div></div><div class=\"sk-serial\"><div class=\"sk-item\"><div class=\"sk-estimator sk-toggleable\"><input class=\"sk-toggleable__control sk-hidden--visually\" id=\"ca808e74-2df6-46b6-a6b9-8b1042df3488\" type=\"checkbox\" ><label class=\"sk-toggleable__label\" for=\"ca808e74-2df6-46b6-a6b9-8b1042df3488\">TfidfVectorizer</label><div class=\"sk-toggleable__content\"><pre>TfidfVectorizer()</pre></div></div></div><div class=\"sk-item\"><div class=\"sk-estimator sk-toggleable\"><input class=\"sk-toggleable__control sk-hidden--visually\" id=\"2ea208d0-9d60-4fbe-b3ec-0a948878c9b8\" type=\"checkbox\" ><label class=\"sk-toggleable__label\" for=\"2ea208d0-9d60-4fbe-b3ec-0a948878c9b8\">LogisticRegression</label><div class=\"sk-toggleable__content\"><pre>LogisticRegression(random_state=0)</pre></div></div></div></div></div></div></div>"
      ],
      "text/plain": [
       "Pipeline(steps=[('tfidfvectorizer', TfidfVectorizer()),\n",
       "                ('logisticregression', LogisticRegression(random_state=0))])"
      ]
     },
     "execution_count": 145,
     "metadata": {},
     "output_type": "execute_result"
    }
   ],
   "source": [
    "pipeline.fit(X_train,y_train)"
   ]
  },
  {
   "cell_type": "code",
   "execution_count": 146,
   "id": "22e31d2c",
   "metadata": {},
   "outputs": [],
   "source": [
    "pred = pipeline.predict(X_test)"
   ]
  },
  {
   "cell_type": "code",
   "execution_count": 148,
   "id": "a43b54d0",
   "metadata": {},
   "outputs": [
    {
     "data": {
      "text/plain": [
       "85.72390572390573"
      ]
     },
     "execution_count": 148,
     "metadata": {},
     "output_type": "execute_result"
    }
   ],
   "source": [
    "accuracy = accuracy_score(pred, y_test)\n",
    "accuracy*100"
   ]
  },
  {
   "cell_type": "code",
   "execution_count": 149,
   "id": "38db274f",
   "metadata": {},
   "outputs": [],
   "source": [
    "from sklearn.metrics import plot_confusion_matrix\n",
    "from sklearn.metrics import confusion_matrix"
   ]
  },
  {
   "cell_type": "code",
   "execution_count": 150,
   "id": "5a1361b1",
   "metadata": {},
   "outputs": [
    {
     "data": {
      "text/plain": [
       "<sklearn.metrics._plot.confusion_matrix.ConfusionMatrixDisplay at 0x156160e3df0>"
      ]
     },
     "execution_count": 150,
     "metadata": {},
     "output_type": "execute_result"
    },
    {
     "data": {
      "image/png": "[encoded data removed]",
      "text/plain": [
       "<Figure size 432x288 with 2 Axes>"
      ]
     },
     "metadata": {
      "needs_background": "light"
     },
     "output_type": "display_data"
    }
   ],
   "source": [
    "plot_confusion_matrix(pipeline,X_test,y_test)"
   ]
  },
  {
   "cell_type": "code",
   "execution_count": null,
   "id": "ebe0fc38",
   "metadata": {},
   "outputs": [],
   "source": []
  }
 ],
 "metadata": {
  "kernelspec": {
   "display_name": "Python 3 (ipykernel)",
   "language": "python",
   "name": "python3"
  },
  "language_info": {
   "codemirror_mode": {
    "name": "ipython",
    "version": 3
   },
   "file_extension": ".py",
   "mimetype": "text/x-python",
   "name": "python",
   "nbconvert_exporter": "python",
   "pygments_lexer": "ipython3",
   "version": "3.8.8"
  }
 },
 "nbformat": 4,
 "nbformat_minor": 5
}
