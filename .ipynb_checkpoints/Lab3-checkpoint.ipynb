{
 "cells": [
  {
   "cell_type": "markdown",
   "id": "1cf30641",
   "metadata": {},
   "source": [
    "# Đồ án 3: Fake news detection"
   ]
  },
  {
   "cell_type": "markdown",
   "id": "9b06ead3",
   "metadata": {},
   "source": [
    "### 1. Đọc tập dữ liệu"
   ]
  },
  {
   "cell_type": "markdown",
   "id": "484f07a6",
   "metadata": {},
   "source": [
    "Thư viện"
   ]
  },
  {
   "cell_type": "code",
   "execution_count": 1,
   "id": "6bbf1430",
   "metadata": {},
   "outputs": [],
   "source": [
    "import pandas as pd \n",
    "import re\n",
    "\n",
    "#!pip install underthesea\n",
    "from underthesea import sent_tokenize\n",
    "from underthesea import classify\n",
    "from underthesea import word_tokenize"
   ]
  },
  {
   "cell_type": "code",
   "execution_count": 2,
   "id": "209a7a26",
   "metadata": {},
   "outputs": [],
   "source": [
    "import matplotlib.pyplot as plt\n",
    "import seaborn as sns # seaborn là thư viện được xây trên matplotlib, \n",
    "                      # giúp việc visualization đỡ khổ hơn\n",
    "import pandas as pd\n",
    "import numpy as np\n",
    "from sklearn.metrics import classification_report\n",
    "from sklearn.model_selection import train_test_split\n",
    "from sklearn.preprocessing import OneHotEncoder, StandardScaler\n",
    "from sklearn.metrics import accuracy_score\n",
    "from sklearn.model_selection import cross_val_score\n",
    "from sklearn.tree import DecisionTreeClassifier\n",
    "from sklearn import set_config\n",
    "set_config(display='diagram')"
   ]
  },
  {
   "cell_type": "markdown",
   "id": "bf585616",
   "metadata": {},
   "source": [
    "#### Sử dụng Underthesea - Vietnamese NLP Toolkit"
   ]
  },
  {
   "cell_type": "markdown",
   "id": "9740320b",
   "metadata": {},
   "source": [
    "#### 1.1. Bộ dữ liệu có bao nhiêu dòng và bao nhiêu cột?"
   ]
  },
  {
   "cell_type": "code",
   "execution_count": 3,
   "id": "34e7c801",
   "metadata": {},
   "outputs": [
    {
     "data": {
      "text/html": [
       "<div>\n",
       "<style scoped>\n",
       "    .dataframe tbody tr th:only-of-type {\n",
       "        vertical-align: middle;\n",
       "    }\n",
       "\n",
       "    .dataframe tbody tr th {\n",
       "        vertical-align: top;\n",
       "    }\n",
       "\n",
       "    .dataframe thead th {\n",
       "        text-align: right;\n",
       "    }\n",
       "</style>\n",
       "<table border=\"1\" class=\"dataframe\">\n",
       "  <thead>\n",
       "    <tr style=\"text-align: right;\">\n",
       "      <th></th>\n",
       "      <th>text</th>\n",
       "      <th>domain</th>\n",
       "      <th>label</th>\n",
       "    </tr>\n",
       "  </thead>\n",
       "  <tbody>\n",
       "    <tr>\n",
       "      <th>0</th>\n",
       "      <td>Thủ tướng Abe cúi đầu xin lỗi vì hành động phi thể thao của tuyển Nhật\\nTheo Sankei Sports, sáng nay Thủ tướng Nhật Bản Shinzo Abe công ...</td>\n",
       "      <td>binhluan.biz</td>\n",
       "      <td>1</td>\n",
       "    </tr>\n",
       "    <tr>\n",
       "      <th>1</th>\n",
       "      <td>Thủ tướng Nhật cúi đầu xin lỗi vì tinh thần phi thể thao của đội bóng\\nSáng 19/6, Thủ tướng Nhật Bản Shinzo Abe công khai gửi lời xin lỗ...</td>\n",
       "      <td>www.ipick.vn</td>\n",
       "      <td>1</td>\n",
       "    </tr>\n",
       "    <tr>\n",
       "      <th>2</th>\n",
       "      <td>Choáng! Cơ trưởng đeo khăn quàng quẩy banh nóc trên sân khấu trường!!!\\nXót xa hình ảnh thầy trò lội bùn băng rừng đến trường ở Nghệ An\\...</td>\n",
       "      <td>tintucqpvn.net</td>\n",
       "      <td>1</td>\n",
       "    </tr>\n",
       "    <tr>\n",
       "      <th>3</th>\n",
       "      <td>Chưa bao giờ nhạc Kpop lại dễ hát đến thế!!!\\nGiáo sư Nguyễn Lân Dũng: ‘Con tôi thành đạt nhờ cách đánh vần ‘ô vuông tam giác’\\nGS.Nguyễ...</td>\n",
       "      <td>tintucqpvn.net</td>\n",
       "      <td>1</td>\n",
       "    </tr>\n",
       "    <tr>\n",
       "      <th>4</th>\n",
       "      <td>Đại học Hutech sẽ áp dụng cải cách \"Tiếq Việt\" vào năm học 2018?\\nMới đây, ông Phạm Ngọc Thanh, Phó giám đốc Sở GD – ĐT Tp. Hồ Chí Minh ...</td>\n",
       "      <td>www.gioitreviet.net</td>\n",
       "      <td>1</td>\n",
       "    </tr>\n",
       "    <tr>\n",
       "      <th>5</th>\n",
       "      <td>Cười vỡ bụng khi tiếng CẢI CÁCH \"vuông tròn\" xâm nhập chợ búa, các mẹ sử dụng chuyên nghiệp\\nNhững ngày qua, các phụ huynh liên tục chia...</td>\n",
       "      <td>giadinhtiepthi.com</td>\n",
       "      <td>1</td>\n",
       "    </tr>\n",
       "    <tr>\n",
       "      <th>6</th>\n",
       "      <td>Chia sẻ thẳng thắn vụ việc 25000 USD và cải cách giáo dục, rốt cục là “sân si” hay là “ganh tị”\\nNhững ngày qua, trên mạng xã hội các ph...</td>\n",
       "      <td>giadinhtiepthi.com</td>\n",
       "      <td>1</td>\n",
       "    </tr>\n",
       "    <tr>\n",
       "      <th>7</th>\n",
       "      <td>Hại não với Vọng Cổ mang tên Vuông Tròn Tam Giác!\\nChương trình công nghệ giáo dục: Hãy tôn trọng sự khác biệt !\\nTrong “cơn bão” tranh ...</td>\n",
       "      <td>tintucqpvn.net</td>\n",
       "      <td>1</td>\n",
       "    </tr>\n",
       "    <tr>\n",
       "      <th>8</th>\n",
       "      <td>Kinh hoàng bé gái bị chó nhà tấn công, cắn vào khắp người gây phẫn nộ\\n“Sẽ cấm tiệt, không cho mang chó vào phố đi bộ hồ Gươm”\\n“Chúng t...</td>\n",
       "      <td>tintucqpvn.net</td>\n",
       "      <td>1</td>\n",
       "    </tr>\n",
       "    <tr>\n",
       "      <th>9</th>\n",
       "      <td>Bức vẽ giúp bạn đánh giá mức độ stress của bản thân\\nNhìn bức tranh, bạn có thể thấy vòng tròn đang chuyển động một cách chậm rãi. Người...</td>\n",
       "      <td>suckhoe.vnexpress.net</td>\n",
       "      <td>1</td>\n",
       "    </tr>\n",
       "  </tbody>\n",
       "</table>\n",
       "</div>"
      ],
      "text/plain": [
       "                                                                                                                                          text  \\\n",
       "0  Thủ tướng Abe cúi đầu xin lỗi vì hành động phi thể thao của tuyển Nhật\\nTheo Sankei Sports, sáng nay Thủ tướng Nhật Bản Shinzo Abe công ...   \n",
       "1  Thủ tướng Nhật cúi đầu xin lỗi vì tinh thần phi thể thao của đội bóng\\nSáng 19/6, Thủ tướng Nhật Bản Shinzo Abe công khai gửi lời xin lỗ...   \n",
       "2  Choáng! Cơ trưởng đeo khăn quàng quẩy banh nóc trên sân khấu trường!!!\\nXót xa hình ảnh thầy trò lội bùn băng rừng đến trường ở Nghệ An\\...   \n",
       "3  Chưa bao giờ nhạc Kpop lại dễ hát đến thế!!!\\nGiáo sư Nguyễn Lân Dũng: ‘Con tôi thành đạt nhờ cách đánh vần ‘ô vuông tam giác’\\nGS.Nguyễ...   \n",
       "4  Đại học Hutech sẽ áp dụng cải cách \"Tiếq Việt\" vào năm học 2018?\\nMới đây, ông Phạm Ngọc Thanh, Phó giám đốc Sở GD – ĐT Tp. Hồ Chí Minh ...   \n",
       "5  Cười vỡ bụng khi tiếng CẢI CÁCH \"vuông tròn\" xâm nhập chợ búa, các mẹ sử dụng chuyên nghiệp\\nNhững ngày qua, các phụ huynh liên tục chia...   \n",
       "6  Chia sẻ thẳng thắn vụ việc 25000 USD và cải cách giáo dục, rốt cục là “sân si” hay là “ganh tị”\\nNhững ngày qua, trên mạng xã hội các ph...   \n",
       "7  Hại não với Vọng Cổ mang tên Vuông Tròn Tam Giác!\\nChương trình công nghệ giáo dục: Hãy tôn trọng sự khác biệt !\\nTrong “cơn bão” tranh ...   \n",
       "8  Kinh hoàng bé gái bị chó nhà tấn công, cắn vào khắp người gây phẫn nộ\\n“Sẽ cấm tiệt, không cho mang chó vào phố đi bộ hồ Gươm”\\n“Chúng t...   \n",
       "9  Bức vẽ giúp bạn đánh giá mức độ stress của bản thân\\nNhìn bức tranh, bạn có thể thấy vòng tròn đang chuyển động một cách chậm rãi. Người...   \n",
       "\n",
       "                  domain  label  \n",
       "0           binhluan.biz      1  \n",
       "1           www.ipick.vn      1  \n",
       "2         tintucqpvn.net      1  \n",
       "3         tintucqpvn.net      1  \n",
       "4    www.gioitreviet.net      1  \n",
       "5     giadinhtiepthi.com      1  \n",
       "6     giadinhtiepthi.com      1  \n",
       "7         tintucqpvn.net      1  \n",
       "8         tintucqpvn.net      1  \n",
       "9  suckhoe.vnexpress.net      1  "
      ]
     },
     "execution_count": 3,
     "metadata": {},
     "output_type": "execute_result"
    }
   ],
   "source": [
    "pd.set_option(\"max_colwidth\", 140)\n",
    "\n",
    "res = pd.read_csv(\"vn_news_223_tdlfr.csv\" , sep =',',encoding = 'utf-8')\n",
    "vnnews_df = pd.DataFrame(data=res)\n",
    "vnnews_df.head(10)"
   ]
  },
  {
   "cell_type": "code",
   "execution_count": 4,
   "id": "a097052a",
   "metadata": {},
   "outputs": [
    {
     "name": "stdout",
     "output_type": "stream",
     "text": [
      "223 3\n"
     ]
    }
   ],
   "source": [
    "num_rows = vnnews_df.shape[0]\n",
    "num_cols = vnnews_df.shape[1]\n",
    "print(num_rows, num_cols)"
   ]
  },
  {
   "cell_type": "markdown",
   "id": "2f46cc9a",
   "metadata": {},
   "source": [
    "#### Bộ dữ liệu có 223 dòng và 3 cột"
   ]
  },
  {
   "cell_type": "markdown",
   "id": "02fd5052",
   "metadata": {},
   "source": [
    "#### 1.2 Dữ liệu có bị trùng lắp không?"
   ]
  },
  {
   "cell_type": "code",
   "execution_count": 5,
   "id": "a0fe926b",
   "metadata": {},
   "outputs": [
    {
     "name": "stdout",
     "output_type": "stream",
     "text": [
      "2\n"
     ]
    }
   ],
   "source": [
    "count_duplicated = vnnews_df.duplicated(keep = False).sum()\n",
    "print(count_duplicated)"
   ]
  },
  {
   "cell_type": "markdown",
   "id": "435162a9",
   "metadata": {},
   "source": [
    "Như vậy, có 2 dòng dữ liệu bị trùng. Ta sẽ xóa đi dữ liệu bị trùng"
   ]
  },
  {
   "cell_type": "code",
   "execution_count": 6,
   "id": "4d0353be",
   "metadata": {
    "scrolled": true
   },
   "outputs": [
    {
     "data": {
      "text/html": [
       "<div>\n",
       "<style scoped>\n",
       "    .dataframe tbody tr th:only-of-type {\n",
       "        vertical-align: middle;\n",
       "    }\n",
       "\n",
       "    .dataframe tbody tr th {\n",
       "        vertical-align: top;\n",
       "    }\n",
       "\n",
       "    .dataframe thead th {\n",
       "        text-align: right;\n",
       "    }\n",
       "</style>\n",
       "<table border=\"1\" class=\"dataframe\">\n",
       "  <thead>\n",
       "    <tr style=\"text-align: right;\">\n",
       "      <th></th>\n",
       "      <th>text</th>\n",
       "      <th>domain</th>\n",
       "      <th>label</th>\n",
       "    </tr>\n",
       "  </thead>\n",
       "  <tbody>\n",
       "    <tr>\n",
       "      <th>0</th>\n",
       "      <td>Thủ tướng Abe cúi đầu xin lỗi vì hành động phi thể thao của tuyển Nhật\\nTheo Sankei Sports, sáng nay Thủ tướng Nhật Bản Shinzo Abe công ...</td>\n",
       "      <td>binhluan.biz</td>\n",
       "      <td>1</td>\n",
       "    </tr>\n",
       "    <tr>\n",
       "      <th>1</th>\n",
       "      <td>Thủ tướng Nhật cúi đầu xin lỗi vì tinh thần phi thể thao của đội bóng\\nSáng 19/6, Thủ tướng Nhật Bản Shinzo Abe công khai gửi lời xin lỗ...</td>\n",
       "      <td>www.ipick.vn</td>\n",
       "      <td>1</td>\n",
       "    </tr>\n",
       "    <tr>\n",
       "      <th>2</th>\n",
       "      <td>Choáng! Cơ trưởng đeo khăn quàng quẩy banh nóc trên sân khấu trường!!!\\nXót xa hình ảnh thầy trò lội bùn băng rừng đến trường ở Nghệ An\\...</td>\n",
       "      <td>tintucqpvn.net</td>\n",
       "      <td>1</td>\n",
       "    </tr>\n",
       "    <tr>\n",
       "      <th>3</th>\n",
       "      <td>Chưa bao giờ nhạc Kpop lại dễ hát đến thế!!!\\nGiáo sư Nguyễn Lân Dũng: ‘Con tôi thành đạt nhờ cách đánh vần ‘ô vuông tam giác’\\nGS.Nguyễ...</td>\n",
       "      <td>tintucqpvn.net</td>\n",
       "      <td>1</td>\n",
       "    </tr>\n",
       "    <tr>\n",
       "      <th>4</th>\n",
       "      <td>Đại học Hutech sẽ áp dụng cải cách \"Tiếq Việt\" vào năm học 2018?\\nMới đây, ông Phạm Ngọc Thanh, Phó giám đốc Sở GD – ĐT Tp. Hồ Chí Minh ...</td>\n",
       "      <td>www.gioitreviet.net</td>\n",
       "      <td>1</td>\n",
       "    </tr>\n",
       "    <tr>\n",
       "      <th>...</th>\n",
       "      <td>...</td>\n",
       "      <td>...</td>\n",
       "      <td>...</td>\n",
       "    </tr>\n",
       "    <tr>\n",
       "      <th>218</th>\n",
       "      <td>“Siêu máy bay” A350 sẽ chở CĐV Việt Nam đi Malaysia cổ vũ chung kết lượt đi\\n\"Siêu máy bay\" A350-900 của Vietnam Airlines sẽ chở CĐV Việ...</td>\n",
       "      <td>dantri.com.vn</td>\n",
       "      <td>0</td>\n",
       "    </tr>\n",
       "    <tr>\n",
       "      <th>219</th>\n",
       "      <td>Thưởng 20.000 USD cho đội tuyển cờ vua Việt Nam tại Olympiad 2018\\nMột lần nữa, Cờ vua Việt Nam lại khẳng định đẳng cấp trên đấu trường ...</td>\n",
       "      <td>dantri.com.vn</td>\n",
       "      <td>0</td>\n",
       "    </tr>\n",
       "    <tr>\n",
       "      <th>220</th>\n",
       "      <td>Trường Sơn giành HCV tại giải cờ vua đồng đội thế giới 2018\\nHạng 7 chung cuộc cũng là hạng cao nhất của cờ vua Việt Nam tại các kỳ Olym...</td>\n",
       "      <td>dantri.com.vn</td>\n",
       "      <td>0</td>\n",
       "    </tr>\n",
       "    <tr>\n",
       "      <th>221</th>\n",
       "      <td>Chuyện về chàng sinh viên Luật - Kiện tướng Lê Tuấn Minh\\nHôm nay, chúng tôi liên lạc vào số máy của Lê Tuấn Minh thì mẹ cậu bắt máy. Hỏ...</td>\n",
       "      <td>dantri.com.vn</td>\n",
       "      <td>0</td>\n",
       "    </tr>\n",
       "    <tr>\n",
       "      <th>222</th>\n",
       "      <td>Tiền đạo Malaysia: “Tôi đã có cách vượt qua hàng thủ đội tuyển Việt Nam”\\nỞ trận đấu vòng bảng AFF Cup 2018, Norshahrul Idlan Talaha đã ...</td>\n",
       "      <td>dantri.com.vn</td>\n",
       "      <td>0</td>\n",
       "    </tr>\n",
       "  </tbody>\n",
       "</table>\n",
       "<p>222 rows × 3 columns</p>\n",
       "</div>"
      ],
      "text/plain": [
       "                                                                                                                                            text  \\\n",
       "0    Thủ tướng Abe cúi đầu xin lỗi vì hành động phi thể thao của tuyển Nhật\\nTheo Sankei Sports, sáng nay Thủ tướng Nhật Bản Shinzo Abe công ...   \n",
       "1    Thủ tướng Nhật cúi đầu xin lỗi vì tinh thần phi thể thao của đội bóng\\nSáng 19/6, Thủ tướng Nhật Bản Shinzo Abe công khai gửi lời xin lỗ...   \n",
       "2    Choáng! Cơ trưởng đeo khăn quàng quẩy banh nóc trên sân khấu trường!!!\\nXót xa hình ảnh thầy trò lội bùn băng rừng đến trường ở Nghệ An\\...   \n",
       "3    Chưa bao giờ nhạc Kpop lại dễ hát đến thế!!!\\nGiáo sư Nguyễn Lân Dũng: ‘Con tôi thành đạt nhờ cách đánh vần ‘ô vuông tam giác’\\nGS.Nguyễ...   \n",
       "4    Đại học Hutech sẽ áp dụng cải cách \"Tiếq Việt\" vào năm học 2018?\\nMới đây, ông Phạm Ngọc Thanh, Phó giám đốc Sở GD – ĐT Tp. Hồ Chí Minh ...   \n",
       "..                                                                                                                                           ...   \n",
       "218  “Siêu máy bay” A350 sẽ chở CĐV Việt Nam đi Malaysia cổ vũ chung kết lượt đi\\n\"Siêu máy bay\" A350-900 của Vietnam Airlines sẽ chở CĐV Việ...   \n",
       "219  Thưởng 20.000 USD cho đội tuyển cờ vua Việt Nam tại Olympiad 2018\\nMột lần nữa, Cờ vua Việt Nam lại khẳng định đẳng cấp trên đấu trường ...   \n",
       "220  Trường Sơn giành HCV tại giải cờ vua đồng đội thế giới 2018\\nHạng 7 chung cuộc cũng là hạng cao nhất của cờ vua Việt Nam tại các kỳ Olym...   \n",
       "221  Chuyện về chàng sinh viên Luật - Kiện tướng Lê Tuấn Minh\\nHôm nay, chúng tôi liên lạc vào số máy của Lê Tuấn Minh thì mẹ cậu bắt máy. Hỏ...   \n",
       "222  Tiền đạo Malaysia: “Tôi đã có cách vượt qua hàng thủ đội tuyển Việt Nam”\\nỞ trận đấu vòng bảng AFF Cup 2018, Norshahrul Idlan Talaha đã ...   \n",
       "\n",
       "                  domain  label  \n",
       "0           binhluan.biz      1  \n",
       "1           www.ipick.vn      1  \n",
       "2         tintucqpvn.net      1  \n",
       "3         tintucqpvn.net      1  \n",
       "4    www.gioitreviet.net      1  \n",
       "..                   ...    ...  \n",
       "218        dantri.com.vn      0  \n",
       "219        dantri.com.vn      0  \n",
       "220        dantri.com.vn      0  \n",
       "221        dantri.com.vn      0  \n",
       "222        dantri.com.vn      0  \n",
       "\n",
       "[222 rows x 3 columns]"
      ]
     },
     "execution_count": 6,
     "metadata": {},
     "output_type": "execute_result"
    }
   ],
   "source": [
    "# pd.set_option(\"max_colwidth\", 140)\n",
    "vnnews_df = vnnews_df.drop_duplicates()\n",
    "vnnews_df"
   ]
  },
  {
   "cell_type": "markdown",
   "id": "b4375e37",
   "metadata": {},
   "source": [
    "#### 1.3. Kiểu dữ liệu"
   ]
  },
  {
   "cell_type": "code",
   "execution_count": 7,
   "id": "1b4afc2d",
   "metadata": {},
   "outputs": [
    {
     "data": {
      "text/plain": [
       "text      object\n",
       "domain    object\n",
       "label      int64\n",
       "dtype: object"
      ]
     },
     "execution_count": 7,
     "metadata": {},
     "output_type": "execute_result"
    }
   ],
   "source": [
    "vnnews_df.dtypes"
   ]
  },
  {
   "cell_type": "markdown",
   "id": "bce36759",
   "metadata": {},
   "source": [
    "Ta chuyển cột `text` và `domain` sang kiểu string"
   ]
  },
  {
   "cell_type": "code",
   "execution_count": 8,
   "id": "e7071dfe",
   "metadata": {},
   "outputs": [],
   "source": [
    "vnnews_df['text'] = vnnews_df['text'].astype(str)\n",
    "vnnews_df['domain'] = vnnews_df['domain'].astype(str)"
   ]
  },
  {
   "cell_type": "markdown",
   "id": "c977f63a",
   "metadata": {},
   "source": [
    "### 2. Tiền xử lý văn bản"
   ]
  },
  {
   "cell_type": "code",
   "execution_count": 9,
   "id": "73596263",
   "metadata": {
    "scrolled": true
   },
   "outputs": [
    {
     "data": {
      "text/html": [
       "<div>\n",
       "<style scoped>\n",
       "    .dataframe tbody tr th:only-of-type {\n",
       "        vertical-align: middle;\n",
       "    }\n",
       "\n",
       "    .dataframe tbody tr th {\n",
       "        vertical-align: top;\n",
       "    }\n",
       "\n",
       "    .dataframe thead th {\n",
       "        text-align: right;\n",
       "    }\n",
       "</style>\n",
       "<table border=\"1\" class=\"dataframe\">\n",
       "  <thead>\n",
       "    <tr style=\"text-align: right;\">\n",
       "      <th></th>\n",
       "      <th>text</th>\n",
       "      <th>domain</th>\n",
       "      <th>label</th>\n",
       "    </tr>\n",
       "  </thead>\n",
       "  <tbody>\n",
       "    <tr>\n",
       "      <th>0</th>\n",
       "      <td>Thủ tướng Abe cúi đầu xin lỗi vì hành động phi thể thao của tuyển Nhật\\nTheo Sankei Sports, sáng nay Thủ tướng Nhật Bản Shinzo Abe công ...</td>\n",
       "      <td>binhluan.biz</td>\n",
       "      <td>1</td>\n",
       "    </tr>\n",
       "    <tr>\n",
       "      <th>1</th>\n",
       "      <td>Thủ tướng Nhật cúi đầu xin lỗi vì tinh thần phi thể thao của đội bóng\\nSáng 19/6, Thủ tướng Nhật Bản Shinzo Abe công khai gửi lời xin lỗ...</td>\n",
       "      <td>www.ipick.vn</td>\n",
       "      <td>1</td>\n",
       "    </tr>\n",
       "    <tr>\n",
       "      <th>2</th>\n",
       "      <td>Choáng! Cơ trưởng đeo khăn quàng quẩy banh nóc trên sân khấu trường!!!\\nXót xa hình ảnh thầy trò lội bùn băng rừng đến trường ở Nghệ An\\...</td>\n",
       "      <td>tintucqpvn.net</td>\n",
       "      <td>1</td>\n",
       "    </tr>\n",
       "  </tbody>\n",
       "</table>\n",
       "</div>"
      ],
      "text/plain": [
       "                                                                                                                                          text  \\\n",
       "0  Thủ tướng Abe cúi đầu xin lỗi vì hành động phi thể thao của tuyển Nhật\\nTheo Sankei Sports, sáng nay Thủ tướng Nhật Bản Shinzo Abe công ...   \n",
       "1  Thủ tướng Nhật cúi đầu xin lỗi vì tinh thần phi thể thao của đội bóng\\nSáng 19/6, Thủ tướng Nhật Bản Shinzo Abe công khai gửi lời xin lỗ...   \n",
       "2  Choáng! Cơ trưởng đeo khăn quàng quẩy banh nóc trên sân khấu trường!!!\\nXót xa hình ảnh thầy trò lội bùn băng rừng đến trường ở Nghệ An\\...   \n",
       "\n",
       "           domain  label  \n",
       "0    binhluan.biz      1  \n",
       "1    www.ipick.vn      1  \n",
       "2  tintucqpvn.net      1  "
      ]
     },
     "execution_count": 9,
     "metadata": {},
     "output_type": "execute_result"
    }
   ],
   "source": [
    "vnnews_df.head(3)"
   ]
  },
  {
   "cell_type": "markdown",
   "id": "c9e3f75c",
   "metadata": {},
   "source": [
    "Trong những mẫu tin còn chứa ký tự xuống dòng \"\\n\""
   ]
  },
  {
   "cell_type": "markdown",
   "id": "e1b117d4",
   "metadata": {},
   "source": [
    "#### 2.1. Loại bỏ ký tự xuống dòng \"\\n\", thay thế bằng dấu chấm \".\""
   ]
  },
  {
   "cell_type": "code",
   "execution_count": 10,
   "id": "f088b9be",
   "metadata": {
    "scrolled": true
   },
   "outputs": [
    {
     "data": {
      "text/html": [
       "<div>\n",
       "<style scoped>\n",
       "    .dataframe tbody tr th:only-of-type {\n",
       "        vertical-align: middle;\n",
       "    }\n",
       "\n",
       "    .dataframe tbody tr th {\n",
       "        vertical-align: top;\n",
       "    }\n",
       "\n",
       "    .dataframe thead th {\n",
       "        text-align: right;\n",
       "    }\n",
       "</style>\n",
       "<table border=\"1\" class=\"dataframe\">\n",
       "  <thead>\n",
       "    <tr style=\"text-align: right;\">\n",
       "      <th></th>\n",
       "      <th>text</th>\n",
       "      <th>domain</th>\n",
       "      <th>label</th>\n",
       "    </tr>\n",
       "  </thead>\n",
       "  <tbody>\n",
       "    <tr>\n",
       "      <th>0</th>\n",
       "      <td>Thủ tướng Abe cúi đầu xin lỗi vì hành động phi thể thao của tuyển Nhật. Theo Sankei Sports, sáng nay Thủ tướng Nhật Bản Shinzo Abe công ...</td>\n",
       "      <td>binhluan.biz</td>\n",
       "      <td>1</td>\n",
       "    </tr>\n",
       "    <tr>\n",
       "      <th>1</th>\n",
       "      <td>Thủ tướng Nhật cúi đầu xin lỗi vì tinh thần phi thể thao của đội bóng. Sáng 19/6, Thủ tướng Nhật Bản Shinzo Abe công khai gửi lời xin lỗ...</td>\n",
       "      <td>www.ipick.vn</td>\n",
       "      <td>1</td>\n",
       "    </tr>\n",
       "    <tr>\n",
       "      <th>2</th>\n",
       "      <td>Choáng! Cơ trưởng đeo khăn quàng quẩy banh nóc trên sân khấu trường!!!. Xót xa hình ảnh thầy trò lội bùn băng rừng đến trường ở Nghệ An....</td>\n",
       "      <td>tintucqpvn.net</td>\n",
       "      <td>1</td>\n",
       "    </tr>\n",
       "    <tr>\n",
       "      <th>3</th>\n",
       "      <td>Chưa bao giờ nhạc Kpop lại dễ hát đến thế!!!. Giáo sư Nguyễn Lân Dũng: ‘Con tôi thành đạt nhờ cách đánh vần ‘ô vuông tam giác’. GS.Nguyễ...</td>\n",
       "      <td>tintucqpvn.net</td>\n",
       "      <td>1</td>\n",
       "    </tr>\n",
       "    <tr>\n",
       "      <th>4</th>\n",
       "      <td>Đại học Hutech sẽ áp dụng cải cách \"Tiếq Việt\" vào năm học 2018?. Mới đây, ông Phạm Ngọc Thanh, Phó giám đốc Sở GD – ĐT Tp. Hồ Chí Minh ...</td>\n",
       "      <td>www.gioitreviet.net</td>\n",
       "      <td>1</td>\n",
       "    </tr>\n",
       "    <tr>\n",
       "      <th>...</th>\n",
       "      <td>...</td>\n",
       "      <td>...</td>\n",
       "      <td>...</td>\n",
       "    </tr>\n",
       "    <tr>\n",
       "      <th>218</th>\n",
       "      <td>“Siêu máy bay” A350 sẽ chở CĐV Việt Nam đi Malaysia cổ vũ chung kết lượt đi. \"Siêu máy bay\" A350-900 của Vietnam Airlines sẽ chở CĐV Việ...</td>\n",
       "      <td>dantri.com.vn</td>\n",
       "      <td>0</td>\n",
       "    </tr>\n",
       "    <tr>\n",
       "      <th>219</th>\n",
       "      <td>Thưởng 20.000 USD cho đội tuyển cờ vua Việt Nam tại Olympiad 2018. Một lần nữa, Cờ vua Việt Nam lại khẳng định đẳng cấp trên đấu trường ...</td>\n",
       "      <td>dantri.com.vn</td>\n",
       "      <td>0</td>\n",
       "    </tr>\n",
       "    <tr>\n",
       "      <th>220</th>\n",
       "      <td>Trường Sơn giành HCV tại giải cờ vua đồng đội thế giới 2018. Hạng 7 chung cuộc cũng là hạng cao nhất của cờ vua Việt Nam tại các kỳ Olym...</td>\n",
       "      <td>dantri.com.vn</td>\n",
       "      <td>0</td>\n",
       "    </tr>\n",
       "    <tr>\n",
       "      <th>221</th>\n",
       "      <td>Chuyện về chàng sinh viên Luật - Kiện tướng Lê Tuấn Minh. Hôm nay, chúng tôi liên lạc vào số máy của Lê Tuấn Minh thì mẹ cậu bắt máy. Hỏ...</td>\n",
       "      <td>dantri.com.vn</td>\n",
       "      <td>0</td>\n",
       "    </tr>\n",
       "    <tr>\n",
       "      <th>222</th>\n",
       "      <td>Tiền đạo Malaysia: “Tôi đã có cách vượt qua hàng thủ đội tuyển Việt Nam”. Ở trận đấu vòng bảng AFF Cup 2018, Norshahrul Idlan Talaha đã ...</td>\n",
       "      <td>dantri.com.vn</td>\n",
       "      <td>0</td>\n",
       "    </tr>\n",
       "  </tbody>\n",
       "</table>\n",
       "<p>222 rows × 3 columns</p>\n",
       "</div>"
      ],
      "text/plain": [
       "                                                                                                                                            text  \\\n",
       "0    Thủ tướng Abe cúi đầu xin lỗi vì hành động phi thể thao của tuyển Nhật. Theo Sankei Sports, sáng nay Thủ tướng Nhật Bản Shinzo Abe công ...   \n",
       "1    Thủ tướng Nhật cúi đầu xin lỗi vì tinh thần phi thể thao của đội bóng. Sáng 19/6, Thủ tướng Nhật Bản Shinzo Abe công khai gửi lời xin lỗ...   \n",
       "2    Choáng! Cơ trưởng đeo khăn quàng quẩy banh nóc trên sân khấu trường!!!. Xót xa hình ảnh thầy trò lội bùn băng rừng đến trường ở Nghệ An....   \n",
       "3    Chưa bao giờ nhạc Kpop lại dễ hát đến thế!!!. Giáo sư Nguyễn Lân Dũng: ‘Con tôi thành đạt nhờ cách đánh vần ‘ô vuông tam giác’. GS.Nguyễ...   \n",
       "4    Đại học Hutech sẽ áp dụng cải cách \"Tiếq Việt\" vào năm học 2018?. Mới đây, ông Phạm Ngọc Thanh, Phó giám đốc Sở GD – ĐT Tp. Hồ Chí Minh ...   \n",
       "..                                                                                                                                           ...   \n",
       "218  “Siêu máy bay” A350 sẽ chở CĐV Việt Nam đi Malaysia cổ vũ chung kết lượt đi. \"Siêu máy bay\" A350-900 của Vietnam Airlines sẽ chở CĐV Việ...   \n",
       "219  Thưởng 20.000 USD cho đội tuyển cờ vua Việt Nam tại Olympiad 2018. Một lần nữa, Cờ vua Việt Nam lại khẳng định đẳng cấp trên đấu trường ...   \n",
       "220  Trường Sơn giành HCV tại giải cờ vua đồng đội thế giới 2018. Hạng 7 chung cuộc cũng là hạng cao nhất của cờ vua Việt Nam tại các kỳ Olym...   \n",
       "221  Chuyện về chàng sinh viên Luật - Kiện tướng Lê Tuấn Minh. Hôm nay, chúng tôi liên lạc vào số máy của Lê Tuấn Minh thì mẹ cậu bắt máy. Hỏ...   \n",
       "222  Tiền đạo Malaysia: “Tôi đã có cách vượt qua hàng thủ đội tuyển Việt Nam”. Ở trận đấu vòng bảng AFF Cup 2018, Norshahrul Idlan Talaha đã ...   \n",
       "\n",
       "                  domain  label  \n",
       "0           binhluan.biz      1  \n",
       "1           www.ipick.vn      1  \n",
       "2         tintucqpvn.net      1  \n",
       "3         tintucqpvn.net      1  \n",
       "4    www.gioitreviet.net      1  \n",
       "..                   ...    ...  \n",
       "218        dantri.com.vn      0  \n",
       "219        dantri.com.vn      0  \n",
       "220        dantri.com.vn      0  \n",
       "221        dantri.com.vn      0  \n",
       "222        dantri.com.vn      0  \n",
       "\n",
       "[222 rows x 3 columns]"
      ]
     },
     "execution_count": 10,
     "metadata": {},
     "output_type": "execute_result"
    }
   ],
   "source": [
    "def remove_trailing_newline(x):\n",
    "    return x.replace(\"\\n\", \". \")\n",
    "vnnews_df['text'] = vnnews_df['text'].apply(remove_trailing_newline)\n",
    "vnnews_df"
   ]
  },
  {
   "cell_type": "markdown",
   "id": "89e6dbf1",
   "metadata": {},
   "source": [
    "#### 2.2. Classify "
   ]
  },
  {
   "cell_type": "markdown",
   "id": "a7a43e76",
   "metadata": {},
   "source": [
    "Một dòng dữ liệu là một mẫu tin. Ta sẽ tìm hiểu xem mẫu tin đó thuộc về lĩnh vực nào"
   ]
  },
  {
   "cell_type": "code",
   "execution_count": 11,
   "id": "072c6812",
   "metadata": {
    "scrolled": true
   },
   "outputs": [],
   "source": [
    "def fieldify(text):\n",
    "    return ' '.join(classify(text))\n",
    "field_df = vnnews_df['text'].apply(fieldify)"
   ]
  },
  {
   "cell_type": "markdown",
   "id": "f3538cb2",
   "metadata": {},
   "source": [
    "Thêm cột `field` vào dataframes"
   ]
  },
  {
   "cell_type": "code",
   "execution_count": 12,
   "id": "50cc27e1",
   "metadata": {
    "scrolled": false
   },
   "outputs": [
    {
     "data": {
      "text/html": [
       "<div>\n",
       "<style scoped>\n",
       "    .dataframe tbody tr th:only-of-type {\n",
       "        vertical-align: middle;\n",
       "    }\n",
       "\n",
       "    .dataframe tbody tr th {\n",
       "        vertical-align: top;\n",
       "    }\n",
       "\n",
       "    .dataframe thead th {\n",
       "        text-align: right;\n",
       "    }\n",
       "</style>\n",
       "<table border=\"1\" class=\"dataframe\">\n",
       "  <thead>\n",
       "    <tr style=\"text-align: right;\">\n",
       "      <th></th>\n",
       "      <th>text</th>\n",
       "      <th>domain</th>\n",
       "      <th>label</th>\n",
       "      <th>field</th>\n",
       "    </tr>\n",
       "  </thead>\n",
       "  <tbody>\n",
       "    <tr>\n",
       "      <th>0</th>\n",
       "      <td>Thủ tướng Abe cúi đầu xin lỗi vì hành động phi thể thao của tuyển Nhật. Theo Sankei Sports, sáng nay Thủ tướng Nhật Bản Shinzo Abe công ...</td>\n",
       "      <td>binhluan.biz</td>\n",
       "      <td>1</td>\n",
       "      <td>the_thao</td>\n",
       "    </tr>\n",
       "    <tr>\n",
       "      <th>1</th>\n",
       "      <td>Thủ tướng Nhật cúi đầu xin lỗi vì tinh thần phi thể thao của đội bóng. Sáng 19/6, Thủ tướng Nhật Bản Shinzo Abe công khai gửi lời xin lỗ...</td>\n",
       "      <td>www.ipick.vn</td>\n",
       "      <td>1</td>\n",
       "      <td>the_thao</td>\n",
       "    </tr>\n",
       "    <tr>\n",
       "      <th>2</th>\n",
       "      <td>Choáng! Cơ trưởng đeo khăn quàng quẩy banh nóc trên sân khấu trường!!!. Xót xa hình ảnh thầy trò lội bùn băng rừng đến trường ở Nghệ An....</td>\n",
       "      <td>tintucqpvn.net</td>\n",
       "      <td>1</td>\n",
       "      <td>chinh_tri_xa_hoi</td>\n",
       "    </tr>\n",
       "    <tr>\n",
       "      <th>3</th>\n",
       "      <td>Chưa bao giờ nhạc Kpop lại dễ hát đến thế!!!. Giáo sư Nguyễn Lân Dũng: ‘Con tôi thành đạt nhờ cách đánh vần ‘ô vuông tam giác’. GS.Nguyễ...</td>\n",
       "      <td>tintucqpvn.net</td>\n",
       "      <td>1</td>\n",
       "      <td>chinh_tri_xa_hoi</td>\n",
       "    </tr>\n",
       "    <tr>\n",
       "      <th>4</th>\n",
       "      <td>Đại học Hutech sẽ áp dụng cải cách \"Tiếq Việt\" vào năm học 2018?. Mới đây, ông Phạm Ngọc Thanh, Phó giám đốc Sở GD – ĐT Tp. Hồ Chí Minh ...</td>\n",
       "      <td>www.gioitreviet.net</td>\n",
       "      <td>1</td>\n",
       "      <td>chinh_tri_xa_hoi</td>\n",
       "    </tr>\n",
       "    <tr>\n",
       "      <th>...</th>\n",
       "      <td>...</td>\n",
       "      <td>...</td>\n",
       "      <td>...</td>\n",
       "      <td>...</td>\n",
       "    </tr>\n",
       "    <tr>\n",
       "      <th>218</th>\n",
       "      <td>“Siêu máy bay” A350 sẽ chở CĐV Việt Nam đi Malaysia cổ vũ chung kết lượt đi. \"Siêu máy bay\" A350-900 của Vietnam Airlines sẽ chở CĐV Việ...</td>\n",
       "      <td>dantri.com.vn</td>\n",
       "      <td>0</td>\n",
       "      <td>chinh_tri_xa_hoi</td>\n",
       "    </tr>\n",
       "    <tr>\n",
       "      <th>219</th>\n",
       "      <td>Thưởng 20.000 USD cho đội tuyển cờ vua Việt Nam tại Olympiad 2018. Một lần nữa, Cờ vua Việt Nam lại khẳng định đẳng cấp trên đấu trường ...</td>\n",
       "      <td>dantri.com.vn</td>\n",
       "      <td>0</td>\n",
       "      <td>the_thao</td>\n",
       "    </tr>\n",
       "    <tr>\n",
       "      <th>220</th>\n",
       "      <td>Trường Sơn giành HCV tại giải cờ vua đồng đội thế giới 2018. Hạng 7 chung cuộc cũng là hạng cao nhất của cờ vua Việt Nam tại các kỳ Olym...</td>\n",
       "      <td>dantri.com.vn</td>\n",
       "      <td>0</td>\n",
       "      <td>the_thao</td>\n",
       "    </tr>\n",
       "    <tr>\n",
       "      <th>221</th>\n",
       "      <td>Chuyện về chàng sinh viên Luật - Kiện tướng Lê Tuấn Minh. Hôm nay, chúng tôi liên lạc vào số máy của Lê Tuấn Minh thì mẹ cậu bắt máy. Hỏ...</td>\n",
       "      <td>dantri.com.vn</td>\n",
       "      <td>0</td>\n",
       "      <td>the_thao</td>\n",
       "    </tr>\n",
       "    <tr>\n",
       "      <th>222</th>\n",
       "      <td>Tiền đạo Malaysia: “Tôi đã có cách vượt qua hàng thủ đội tuyển Việt Nam”. Ở trận đấu vòng bảng AFF Cup 2018, Norshahrul Idlan Talaha đã ...</td>\n",
       "      <td>dantri.com.vn</td>\n",
       "      <td>0</td>\n",
       "      <td>the_thao</td>\n",
       "    </tr>\n",
       "  </tbody>\n",
       "</table>\n",
       "<p>222 rows × 4 columns</p>\n",
       "</div>"
      ],
      "text/plain": [
       "                                                                                                                                            text  \\\n",
       "0    Thủ tướng Abe cúi đầu xin lỗi vì hành động phi thể thao của tuyển Nhật. Theo Sankei Sports, sáng nay Thủ tướng Nhật Bản Shinzo Abe công ...   \n",
       "1    Thủ tướng Nhật cúi đầu xin lỗi vì tinh thần phi thể thao của đội bóng. Sáng 19/6, Thủ tướng Nhật Bản Shinzo Abe công khai gửi lời xin lỗ...   \n",
       "2    Choáng! Cơ trưởng đeo khăn quàng quẩy banh nóc trên sân khấu trường!!!. Xót xa hình ảnh thầy trò lội bùn băng rừng đến trường ở Nghệ An....   \n",
       "3    Chưa bao giờ nhạc Kpop lại dễ hát đến thế!!!. Giáo sư Nguyễn Lân Dũng: ‘Con tôi thành đạt nhờ cách đánh vần ‘ô vuông tam giác’. GS.Nguyễ...   \n",
       "4    Đại học Hutech sẽ áp dụng cải cách \"Tiếq Việt\" vào năm học 2018?. Mới đây, ông Phạm Ngọc Thanh, Phó giám đốc Sở GD – ĐT Tp. Hồ Chí Minh ...   \n",
       "..                                                                                                                                           ...   \n",
       "218  “Siêu máy bay” A350 sẽ chở CĐV Việt Nam đi Malaysia cổ vũ chung kết lượt đi. \"Siêu máy bay\" A350-900 của Vietnam Airlines sẽ chở CĐV Việ...   \n",
       "219  Thưởng 20.000 USD cho đội tuyển cờ vua Việt Nam tại Olympiad 2018. Một lần nữa, Cờ vua Việt Nam lại khẳng định đẳng cấp trên đấu trường ...   \n",
       "220  Trường Sơn giành HCV tại giải cờ vua đồng đội thế giới 2018. Hạng 7 chung cuộc cũng là hạng cao nhất của cờ vua Việt Nam tại các kỳ Olym...   \n",
       "221  Chuyện về chàng sinh viên Luật - Kiện tướng Lê Tuấn Minh. Hôm nay, chúng tôi liên lạc vào số máy của Lê Tuấn Minh thì mẹ cậu bắt máy. Hỏ...   \n",
       "222  Tiền đạo Malaysia: “Tôi đã có cách vượt qua hàng thủ đội tuyển Việt Nam”. Ở trận đấu vòng bảng AFF Cup 2018, Norshahrul Idlan Talaha đã ...   \n",
       "\n",
       "                  domain  label             field  \n",
       "0           binhluan.biz      1          the_thao  \n",
       "1           www.ipick.vn      1          the_thao  \n",
       "2         tintucqpvn.net      1  chinh_tri_xa_hoi  \n",
       "3         tintucqpvn.net      1  chinh_tri_xa_hoi  \n",
       "4    www.gioitreviet.net      1  chinh_tri_xa_hoi  \n",
       "..                   ...    ...               ...  \n",
       "218        dantri.com.vn      0  chinh_tri_xa_hoi  \n",
       "219        dantri.com.vn      0          the_thao  \n",
       "220        dantri.com.vn      0          the_thao  \n",
       "221        dantri.com.vn      0          the_thao  \n",
       "222        dantri.com.vn      0          the_thao  \n",
       "\n",
       "[222 rows x 4 columns]"
      ]
     },
     "execution_count": 12,
     "metadata": {},
     "output_type": "execute_result"
    }
   ],
   "source": [
    "vnnews_df['field']= field_df\n",
    "vnnews_df"
   ]
  },
  {
   "cell_type": "markdown",
   "id": "47ddcc9a",
   "metadata": {},
   "source": [
    "Có 10 lĩnh vực trong bộ dữ liệu:"
   ]
  },
  {
   "cell_type": "code",
   "execution_count": 13,
   "id": "331ed66a",
   "metadata": {},
   "outputs": [
    {
     "data": {
      "text/plain": [
       "array(['the_thao', 'chinh_tri_xa_hoi', 'van_hoa', 'khoa_hoc', 'suc_khoe',\n",
       "       'phap_luat', 'kinh_doanh', 'doi_song', 'vi_tinh', 'the_gioi'],\n",
       "      dtype=object)"
      ]
     },
     "execution_count": 13,
     "metadata": {},
     "output_type": "execute_result"
    }
   ],
   "source": [
    "vnnews_df['field'].unique()"
   ]
  },
  {
   "cell_type": "markdown",
   "id": "8e545d28",
   "metadata": {},
   "source": [
    "Trong đó:\n",
    "- the_thao: Thể thao\n",
    "- chinh_tri_xa_hoi:  Chính trị Xã hội\n",
    "- van_hoa: Văn hóa\n",
    "- khoa_hoc: Khoa học\n",
    "- suc_khoe: Sức khỏe\n",
    "- phap_luat: Pháp luật\n",
    "- kinh_doanh: Kinh doanh\n",
    "- doi_song: Đời sống\n",
    "- vi_tinh: Vi tính\n",
    "- the_gioi: Thế giới"
   ]
  },
  {
   "cell_type": "markdown",
   "id": "176c2f2f",
   "metadata": {},
   "source": [
    "#### 2.3. Tách câu "
   ]
  },
  {
   "cell_type": "markdown",
   "id": "79ad31ce",
   "metadata": {},
   "source": [
    "Với mỗi mẫu tin, ta sẽ tách riêng từng câu để dễ xử lý"
   ]
  },
  {
   "cell_type": "code",
   "execution_count": 14,
   "id": "21d56f16",
   "metadata": {},
   "outputs": [],
   "source": [
    "def sentencing(text):\n",
    "    return sent_tokenize(text)\n",
    "vnnews_df['text'] = vnnews_df['text'].apply(sentencing)"
   ]
  },
  {
   "cell_type": "code",
   "execution_count": 15,
   "id": "822089f7",
   "metadata": {
    "scrolled": false
   },
   "outputs": [
    {
     "data": {
      "text/html": [
       "<div>\n",
       "<style scoped>\n",
       "    .dataframe tbody tr th:only-of-type {\n",
       "        vertical-align: middle;\n",
       "    }\n",
       "\n",
       "    .dataframe tbody tr th {\n",
       "        vertical-align: top;\n",
       "    }\n",
       "\n",
       "    .dataframe thead th {\n",
       "        text-align: right;\n",
       "    }\n",
       "</style>\n",
       "<table border=\"1\" class=\"dataframe\">\n",
       "  <thead>\n",
       "    <tr style=\"text-align: right;\">\n",
       "      <th></th>\n",
       "      <th>text</th>\n",
       "      <th>domain</th>\n",
       "      <th>label</th>\n",
       "      <th>field</th>\n",
       "    </tr>\n",
       "  </thead>\n",
       "  <tbody>\n",
       "    <tr>\n",
       "      <th>0</th>\n",
       "      <td>[Thủ tướng Abe cúi đầu xin lỗi vì hành động phi thể thao của tuyển Nhật., Theo Sankei Sports, sáng nay Thủ tướng Nhật Bản Shinzo Abe công khai gửi lời xin lỗi tới Nhật hoàng và toàn bộ người dân v...</td>\n",
       "      <td>binhluan.biz</td>\n",
       "      <td>1</td>\n",
       "      <td>the_thao</td>\n",
       "    </tr>\n",
       "    <tr>\n",
       "      <th>1</th>\n",
       "      <td>[Thủ tướng Nhật cúi đầu xin lỗi vì tinh thần phi thể thao của đội bóng., Sáng 19/6, Thủ tướng Nhật Bản Shinzo Abe công khai gửi lời xin lỗi tới Nhật hoàng và toàn bộ người dân vì tinh thần thi đấu...</td>\n",
       "      <td>www.ipick.vn</td>\n",
       "      <td>1</td>\n",
       "      <td>the_thao</td>\n",
       "    </tr>\n",
       "    <tr>\n",
       "      <th>2</th>\n",
       "      <td>[Choáng!, Cơ trưởng đeo khăn quàng quẩy banh nóc trên sân khấu trường!!!., Xót xa hình ảnh thầy trò lội bùn băng rừng đến trường ở Nghệ An., Sau lũ, nhiều học sinh vùng cao và giáo viên ở Nghệ An ...</td>\n",
       "      <td>tintucqpvn.net</td>\n",
       "      <td>1</td>\n",
       "      <td>chinh_tri_xa_hoi</td>\n",
       "    </tr>\n",
       "    <tr>\n",
       "      <th>3</th>\n",
       "      <td>[Chưa bao giờ nhạc Kpop lại dễ hát đến thế!!!., Giáo sư Nguyễn Lân Dũng: ‘Con tôi thành đạt nhờ cách đánh vần ‘ô vuông tam giác’., GS.Nguyễn Lân Dũng khẳng định: Con ông, PGS.TS Nguyễn Lân Hiếu th...</td>\n",
       "      <td>tintucqpvn.net</td>\n",
       "      <td>1</td>\n",
       "      <td>chinh_tri_xa_hoi</td>\n",
       "    </tr>\n",
       "    <tr>\n",
       "      <th>4</th>\n",
       "      <td>[Đại học Hutech sẽ áp dụng cải cách \"Tiếq Việt\" vào năm học 2018?., Mới đây, ông Phạm Ngọc Thanh, Phó giám đốc Sở GD – ĐT Tp. Hồ Chí Minh chuyên trách về Hệ giáo dục Đại học tại thành phố đã lên t...</td>\n",
       "      <td>www.gioitreviet.net</td>\n",
       "      <td>1</td>\n",
       "      <td>chinh_tri_xa_hoi</td>\n",
       "    </tr>\n",
       "  </tbody>\n",
       "</table>\n",
       "</div>"
      ],
      "text/plain": [
       "                                                                                                                                                                                                      text  \\\n",
       "0  [Thủ tướng Abe cúi đầu xin lỗi vì hành động phi thể thao của tuyển Nhật., Theo Sankei Sports, sáng nay Thủ tướng Nhật Bản Shinzo Abe công khai gửi lời xin lỗi tới Nhật hoàng và toàn bộ người dân v...   \n",
       "1  [Thủ tướng Nhật cúi đầu xin lỗi vì tinh thần phi thể thao của đội bóng., Sáng 19/6, Thủ tướng Nhật Bản Shinzo Abe công khai gửi lời xin lỗi tới Nhật hoàng và toàn bộ người dân vì tinh thần thi đấu...   \n",
       "2  [Choáng!, Cơ trưởng đeo khăn quàng quẩy banh nóc trên sân khấu trường!!!., Xót xa hình ảnh thầy trò lội bùn băng rừng đến trường ở Nghệ An., Sau lũ, nhiều học sinh vùng cao và giáo viên ở Nghệ An ...   \n",
       "3  [Chưa bao giờ nhạc Kpop lại dễ hát đến thế!!!., Giáo sư Nguyễn Lân Dũng: ‘Con tôi thành đạt nhờ cách đánh vần ‘ô vuông tam giác’., GS.Nguyễn Lân Dũng khẳng định: Con ông, PGS.TS Nguyễn Lân Hiếu th...   \n",
       "4  [Đại học Hutech sẽ áp dụng cải cách \"Tiếq Việt\" vào năm học 2018?., Mới đây, ông Phạm Ngọc Thanh, Phó giám đốc Sở GD – ĐT Tp. Hồ Chí Minh chuyên trách về Hệ giáo dục Đại học tại thành phố đã lên t...   \n",
       "\n",
       "                domain  label             field  \n",
       "0         binhluan.biz      1          the_thao  \n",
       "1         www.ipick.vn      1          the_thao  \n",
       "2       tintucqpvn.net      1  chinh_tri_xa_hoi  \n",
       "3       tintucqpvn.net      1  chinh_tri_xa_hoi  \n",
       "4  www.gioitreviet.net      1  chinh_tri_xa_hoi  "
      ]
     },
     "execution_count": 15,
     "metadata": {},
     "output_type": "execute_result"
    }
   ],
   "source": [
    "pd.set_option(\"max_colwidth\", 200)\n",
    "vnnews_df.head(5)"
   ]
  },
  {
   "cell_type": "markdown",
   "id": "f60b05ed",
   "metadata": {},
   "source": [
    "#### 2.4. Loại bỏ dấu câu và khoảng trắng"
   ]
  },
  {
   "cell_type": "code",
   "execution_count": 16,
   "id": "6c8074b5",
   "metadata": {},
   "outputs": [],
   "source": [
    "def clean_sentence(sentences):\n",
    "    res = []\n",
    "    for sentence in sentences:\n",
    "        sentence = sentence.lower()\n",
    "        # Loại khoảng trắng\n",
    "        sentence = re.sub('\\n|\\r|\\t', '', sentence)   \n",
    "        # Loại bỏ dấu câu\n",
    "        sentence = re.sub(r'[^\\w\\s]+', '', sentence) \n",
    "        res.append(sentence)\n",
    "    return res"
   ]
  },
  {
   "cell_type": "code",
   "execution_count": 17,
   "id": "bc75f9f1",
   "metadata": {
    "scrolled": true
   },
   "outputs": [
    {
     "data": {
      "text/html": [
       "<div>\n",
       "<style scoped>\n",
       "    .dataframe tbody tr th:only-of-type {\n",
       "        vertical-align: middle;\n",
       "    }\n",
       "\n",
       "    .dataframe tbody tr th {\n",
       "        vertical-align: top;\n",
       "    }\n",
       "\n",
       "    .dataframe thead th {\n",
       "        text-align: right;\n",
       "    }\n",
       "</style>\n",
       "<table border=\"1\" class=\"dataframe\">\n",
       "  <thead>\n",
       "    <tr style=\"text-align: right;\">\n",
       "      <th></th>\n",
       "      <th>text</th>\n",
       "      <th>domain</th>\n",
       "      <th>label</th>\n",
       "      <th>field</th>\n",
       "    </tr>\n",
       "  </thead>\n",
       "  <tbody>\n",
       "    <tr>\n",
       "      <th>0</th>\n",
       "      <td>[thủ tướng abe cúi đầu xin lỗi vì hành động phi thể thao của tuyển nhật, theo sankei sports sáng nay thủ tướng nhật bản shinzo abe công khai gửi lời xin lỗi tới nhật hoàng và toàn bộ người dân vì ...</td>\n",
       "      <td>binhluan.biz</td>\n",
       "      <td>1</td>\n",
       "      <td>the_thao</td>\n",
       "    </tr>\n",
       "    <tr>\n",
       "      <th>1</th>\n",
       "      <td>[thủ tướng nhật cúi đầu xin lỗi vì tinh thần phi thể thao của đội bóng, sáng 196 thủ tướng nhật bản shinzo abe công khai gửi lời xin lỗi tới nhật hoàng và toàn bộ người dân vì tinh thần thi đấu ph...</td>\n",
       "      <td>www.ipick.vn</td>\n",
       "      <td>1</td>\n",
       "      <td>the_thao</td>\n",
       "    </tr>\n",
       "    <tr>\n",
       "      <th>2</th>\n",
       "      <td>[choáng, cơ trưởng đeo khăn quàng quẩy banh nóc trên sân khấu trường, xót xa hình ảnh thầy trò lội bùn băng rừng đến trường ở nghệ an, sau lũ nhiều học sinh vùng cao và giáo viên ở nghệ an phải đố...</td>\n",
       "      <td>tintucqpvn.net</td>\n",
       "      <td>1</td>\n",
       "      <td>chinh_tri_xa_hoi</td>\n",
       "    </tr>\n",
       "    <tr>\n",
       "      <th>3</th>\n",
       "      <td>[chưa bao giờ nhạc kpop lại dễ hát đến thế, giáo sư nguyễn lân dũng con tôi thành đạt nhờ cách đánh vần ô vuông tam giác, gsnguyễn lân dũng khẳng định con ông pgsts nguyễn lân hiếu thành công nhờ ...</td>\n",
       "      <td>tintucqpvn.net</td>\n",
       "      <td>1</td>\n",
       "      <td>chinh_tri_xa_hoi</td>\n",
       "    </tr>\n",
       "    <tr>\n",
       "      <th>4</th>\n",
       "      <td>[đại học hutech sẽ áp dụng cải cách tiếq việt vào năm học 2018, mới đây ông phạm ngọc thanh phó giám đốc sở gd  đt tp hồ chí minh chuyên trách về hệ giáo dục đại học tại thành phố đã lên tiếng về ...</td>\n",
       "      <td>www.gioitreviet.net</td>\n",
       "      <td>1</td>\n",
       "      <td>chinh_tri_xa_hoi</td>\n",
       "    </tr>\n",
       "  </tbody>\n",
       "</table>\n",
       "</div>"
      ],
      "text/plain": [
       "                                                                                                                                                                                                      text  \\\n",
       "0  [thủ tướng abe cúi đầu xin lỗi vì hành động phi thể thao của tuyển nhật, theo sankei sports sáng nay thủ tướng nhật bản shinzo abe công khai gửi lời xin lỗi tới nhật hoàng và toàn bộ người dân vì ...   \n",
       "1  [thủ tướng nhật cúi đầu xin lỗi vì tinh thần phi thể thao của đội bóng, sáng 196 thủ tướng nhật bản shinzo abe công khai gửi lời xin lỗi tới nhật hoàng và toàn bộ người dân vì tinh thần thi đấu ph...   \n",
       "2  [choáng, cơ trưởng đeo khăn quàng quẩy banh nóc trên sân khấu trường, xót xa hình ảnh thầy trò lội bùn băng rừng đến trường ở nghệ an, sau lũ nhiều học sinh vùng cao và giáo viên ở nghệ an phải đố...   \n",
       "3  [chưa bao giờ nhạc kpop lại dễ hát đến thế, giáo sư nguyễn lân dũng con tôi thành đạt nhờ cách đánh vần ô vuông tam giác, gsnguyễn lân dũng khẳng định con ông pgsts nguyễn lân hiếu thành công nhờ ...   \n",
       "4  [đại học hutech sẽ áp dụng cải cách tiếq việt vào năm học 2018, mới đây ông phạm ngọc thanh phó giám đốc sở gd  đt tp hồ chí minh chuyên trách về hệ giáo dục đại học tại thành phố đã lên tiếng về ...   \n",
       "\n",
       "                domain  label             field  \n",
       "0         binhluan.biz      1          the_thao  \n",
       "1         www.ipick.vn      1          the_thao  \n",
       "2       tintucqpvn.net      1  chinh_tri_xa_hoi  \n",
       "3       tintucqpvn.net      1  chinh_tri_xa_hoi  \n",
       "4  www.gioitreviet.net      1  chinh_tri_xa_hoi  "
      ]
     },
     "execution_count": 17,
     "metadata": {},
     "output_type": "execute_result"
    }
   ],
   "source": [
    "vnnews_df['text'] = vnnews_df['text'].apply(clean_sentence)\n",
    "vnnews_df.head(5)"
   ]
  },
  {
   "cell_type": "markdown",
   "id": "b2df2649",
   "metadata": {},
   "source": [
    "#### 2.5. Tokenize"
   ]
  },
  {
   "cell_type": "markdown",
   "id": "14920c90",
   "metadata": {},
   "source": [
    "Trước khi sang bước loại bỏ stopword, cần tokenize để tránh loại đi những từ cần thiết"
   ]
  },
  {
   "cell_type": "code",
   "execution_count": 18,
   "id": "f92719d8",
   "metadata": {},
   "outputs": [],
   "source": [
    "def tokenize_sent(sentences):\n",
    "    res = [[]]\n",
    "    for sentence in sentences:\n",
    "        sentence = word_tokenize(sentence)\n",
    "        res.append(sentence)\n",
    "    return res"
   ]
  },
  {
   "cell_type": "code",
   "execution_count": 19,
   "id": "09c8f837",
   "metadata": {},
   "outputs": [],
   "source": [
    "vnnews_df['text'] = vnnews_df['text'].apply(tokenize_sent)"
   ]
  },
  {
   "cell_type": "code",
   "execution_count": 20,
   "id": "678ab6bd",
   "metadata": {
    "scrolled": true
   },
   "outputs": [
    {
     "data": {
      "text/html": [
       "<div>\n",
       "<style scoped>\n",
       "    .dataframe tbody tr th:only-of-type {\n",
       "        vertical-align: middle;\n",
       "    }\n",
       "\n",
       "    .dataframe tbody tr th {\n",
       "        vertical-align: top;\n",
       "    }\n",
       "\n",
       "    .dataframe thead th {\n",
       "        text-align: right;\n",
       "    }\n",
       "</style>\n",
       "<table border=\"1\" class=\"dataframe\">\n",
       "  <thead>\n",
       "    <tr style=\"text-align: right;\">\n",
       "      <th></th>\n",
       "      <th>text</th>\n",
       "      <th>domain</th>\n",
       "      <th>label</th>\n",
       "      <th>field</th>\n",
       "    </tr>\n",
       "  </thead>\n",
       "  <tbody>\n",
       "    <tr>\n",
       "      <th>0</th>\n",
       "      <td>[[], [thủ tướng, abe, cúi, đầu, xin lỗi, vì, hành động, phi, thể thao, của, tuyển, nhật], [theo, sankei, sports, sáng, nay, thủ tướng, nhật, bản, shinzo, abe, công khai, gửi, lời, xin lỗi, tới, nh...</td>\n",
       "      <td>binhluan.biz</td>\n",
       "      <td>1</td>\n",
       "      <td>the_thao</td>\n",
       "    </tr>\n",
       "    <tr>\n",
       "      <th>1</th>\n",
       "      <td>[[], [thủ tướng, nhật, cúi, đầu, xin lỗi, vì, tinh thần, phi, thể thao, của, đội, bóng], [sáng, 196, thủ tướng, nhật, bản, shinzo, abe, công khai, gửi, lời, xin lỗi, tới, nhật, hoàng, và, toàn bộ,...</td>\n",
       "      <td>www.ipick.vn</td>\n",
       "      <td>1</td>\n",
       "      <td>the_thao</td>\n",
       "    </tr>\n",
       "    <tr>\n",
       "      <th>2</th>\n",
       "      <td>[[], [choáng], [cơ, trưởng, đeo, khăn quàng, quẩy, banh, nóc, trên, sân khấu, trường], [xót xa, hình ảnh, thầy trò, lội, bùn, băng, rừng, đến, trường, ở, nghệ, an], [sau, lũ, nhiều, học sinh, vùng...</td>\n",
       "      <td>tintucqpvn.net</td>\n",
       "      <td>1</td>\n",
       "      <td>chinh_tri_xa_hoi</td>\n",
       "    </tr>\n",
       "    <tr>\n",
       "      <th>3</th>\n",
       "      <td>[[], [chưa, bao giờ, nhạc, kpop, lại, dễ, hát, đến, thế], [giáo sư, nguyễn lân, dũng, con, tôi, thành đạt, nhờ, cách, đánh vần, ô vuông, tam giác], [gsnguyễn, lân, dũng, khẳng định, con, ông, pgst...</td>\n",
       "      <td>tintucqpvn.net</td>\n",
       "      <td>1</td>\n",
       "      <td>chinh_tri_xa_hoi</td>\n",
       "    </tr>\n",
       "    <tr>\n",
       "      <th>4</th>\n",
       "      <td>[[], [đại học, hutech, sẽ, áp dụng, cải cách, tiếq, việt, vào, năm học, 2018], [mới, đây, ông, phạm, ngọc, thanh, phó, giám đốc, sở, gd, đt, tp, hồ, chí minh, chuyên trách, về, hệ, giáo dục, đại h...</td>\n",
       "      <td>www.gioitreviet.net</td>\n",
       "      <td>1</td>\n",
       "      <td>chinh_tri_xa_hoi</td>\n",
       "    </tr>\n",
       "    <tr>\n",
       "      <th>...</th>\n",
       "      <td>...</td>\n",
       "      <td>...</td>\n",
       "      <td>...</td>\n",
       "      <td>...</td>\n",
       "    </tr>\n",
       "    <tr>\n",
       "      <th>218</th>\n",
       "      <td>[[], [siêu, máy bay, a350, sẽ, chở, cđv, việt, nam, đi, malaysia, cổ vũ, chung kết, lượt, đi], [siêu, máy bay, a350900, của, vietnam, airlines, sẽ, chở, cđv, việt, nam, đi, malaysia, cổ vũ, đội tu...</td>\n",
       "      <td>dantri.com.vn</td>\n",
       "      <td>0</td>\n",
       "      <td>chinh_tri_xa_hoi</td>\n",
       "    </tr>\n",
       "    <tr>\n",
       "      <th>219</th>\n",
       "      <td>[[], [thưởng, 20000, usd, cho, đội tuyển, cờ vua, việt, nam, tại, olympiad, 2018], [một, lần, nữa, cờ vua, việt, nam, lại, khẳng định, đẳng cấp, trên, đấu trường, quốc tế], [tại, lễ, vinh danh, độ...</td>\n",
       "      <td>dantri.com.vn</td>\n",
       "      <td>0</td>\n",
       "      <td>the_thao</td>\n",
       "    </tr>\n",
       "    <tr>\n",
       "      <th>220</th>\n",
       "      <td>[[], [trường sơn, giành, hcv, tại, giải, cờ vua, đồng đội, thế giới, 2018], [hạng, 7, chung cuộc, cũng, là, hạng, cao, nhất, của, cờ vua, việt, nam, tại, các, kỳ, olympiad, từ, trước, đến, nay, ng...</td>\n",
       "      <td>dantri.com.vn</td>\n",
       "      <td>0</td>\n",
       "      <td>the_thao</td>\n",
       "    </tr>\n",
       "    <tr>\n",
       "      <th>221</th>\n",
       "      <td>[[], [chuyện, về, chàng, sinh viên, luật, kiện tướng, lê tuấn, minh], [hôm nay, chúng tôi, liên lạc, vào, số, máy, của, lê, tuấn, minh, thì, mẹ, cậu, bắt, máy], [hỏi, xin, được, nói chuyện, với, l...</td>\n",
       "      <td>dantri.com.vn</td>\n",
       "      <td>0</td>\n",
       "      <td>the_thao</td>\n",
       "    </tr>\n",
       "    <tr>\n",
       "      <th>222</th>\n",
       "      <td>[[], [tiền đạo, malaysia, tôi, đã, có, cách, vượt, qua, hàng, thủ, đội tuyển, việt, nam], [ở, trận, đấu, vòng, bảng, aff, cup, 2018, norshahrul, idlan, talaha, đã, không, thể hiện, được, gì, vì, b...</td>\n",
       "      <td>dantri.com.vn</td>\n",
       "      <td>0</td>\n",
       "      <td>the_thao</td>\n",
       "    </tr>\n",
       "  </tbody>\n",
       "</table>\n",
       "<p>222 rows × 4 columns</p>\n",
       "</div>"
      ],
      "text/plain": [
       "                                                                                                                                                                                                        text  \\\n",
       "0    [[], [thủ tướng, abe, cúi, đầu, xin lỗi, vì, hành động, phi, thể thao, của, tuyển, nhật], [theo, sankei, sports, sáng, nay, thủ tướng, nhật, bản, shinzo, abe, công khai, gửi, lời, xin lỗi, tới, nh...   \n",
       "1    [[], [thủ tướng, nhật, cúi, đầu, xin lỗi, vì, tinh thần, phi, thể thao, của, đội, bóng], [sáng, 196, thủ tướng, nhật, bản, shinzo, abe, công khai, gửi, lời, xin lỗi, tới, nhật, hoàng, và, toàn bộ,...   \n",
       "2    [[], [choáng], [cơ, trưởng, đeo, khăn quàng, quẩy, banh, nóc, trên, sân khấu, trường], [xót xa, hình ảnh, thầy trò, lội, bùn, băng, rừng, đến, trường, ở, nghệ, an], [sau, lũ, nhiều, học sinh, vùng...   \n",
       "3    [[], [chưa, bao giờ, nhạc, kpop, lại, dễ, hát, đến, thế], [giáo sư, nguyễn lân, dũng, con, tôi, thành đạt, nhờ, cách, đánh vần, ô vuông, tam giác], [gsnguyễn, lân, dũng, khẳng định, con, ông, pgst...   \n",
       "4    [[], [đại học, hutech, sẽ, áp dụng, cải cách, tiếq, việt, vào, năm học, 2018], [mới, đây, ông, phạm, ngọc, thanh, phó, giám đốc, sở, gd, đt, tp, hồ, chí minh, chuyên trách, về, hệ, giáo dục, đại h...   \n",
       "..                                                                                                                                                                                                       ...   \n",
       "218  [[], [siêu, máy bay, a350, sẽ, chở, cđv, việt, nam, đi, malaysia, cổ vũ, chung kết, lượt, đi], [siêu, máy bay, a350900, của, vietnam, airlines, sẽ, chở, cđv, việt, nam, đi, malaysia, cổ vũ, đội tu...   \n",
       "219  [[], [thưởng, 20000, usd, cho, đội tuyển, cờ vua, việt, nam, tại, olympiad, 2018], [một, lần, nữa, cờ vua, việt, nam, lại, khẳng định, đẳng cấp, trên, đấu trường, quốc tế], [tại, lễ, vinh danh, độ...   \n",
       "220  [[], [trường sơn, giành, hcv, tại, giải, cờ vua, đồng đội, thế giới, 2018], [hạng, 7, chung cuộc, cũng, là, hạng, cao, nhất, của, cờ vua, việt, nam, tại, các, kỳ, olympiad, từ, trước, đến, nay, ng...   \n",
       "221  [[], [chuyện, về, chàng, sinh viên, luật, kiện tướng, lê tuấn, minh], [hôm nay, chúng tôi, liên lạc, vào, số, máy, của, lê, tuấn, minh, thì, mẹ, cậu, bắt, máy], [hỏi, xin, được, nói chuyện, với, l...   \n",
       "222  [[], [tiền đạo, malaysia, tôi, đã, có, cách, vượt, qua, hàng, thủ, đội tuyển, việt, nam], [ở, trận, đấu, vòng, bảng, aff, cup, 2018, norshahrul, idlan, talaha, đã, không, thể hiện, được, gì, vì, b...   \n",
       "\n",
       "                  domain  label             field  \n",
       "0           binhluan.biz      1          the_thao  \n",
       "1           www.ipick.vn      1          the_thao  \n",
       "2         tintucqpvn.net      1  chinh_tri_xa_hoi  \n",
       "3         tintucqpvn.net      1  chinh_tri_xa_hoi  \n",
       "4    www.gioitreviet.net      1  chinh_tri_xa_hoi  \n",
       "..                   ...    ...               ...  \n",
       "218        dantri.com.vn      0  chinh_tri_xa_hoi  \n",
       "219        dantri.com.vn      0          the_thao  \n",
       "220        dantri.com.vn      0          the_thao  \n",
       "221        dantri.com.vn      0          the_thao  \n",
       "222        dantri.com.vn      0          the_thao  \n",
       "\n",
       "[222 rows x 4 columns]"
      ]
     },
     "execution_count": 20,
     "metadata": {},
     "output_type": "execute_result"
    }
   ],
   "source": [
    "vnnews_df"
   ]
  },
  {
   "cell_type": "markdown",
   "id": "f8092532",
   "metadata": {},
   "source": [
    "#### 2.6. Loại bỏ stopword"
   ]
  },
  {
   "cell_type": "markdown",
   "id": "b48bcf8e",
   "metadata": {},
   "source": [
    "Tạo list những stopwords tiếng Việt"
   ]
  },
  {
   "cell_type": "code",
   "execution_count": 21,
   "id": "f1cf7a82",
   "metadata": {},
   "outputs": [],
   "source": [
    "with open('stopwords.txt', 'r', encoding=\"utf-8\") as f:\n",
    "    stopwords = f.readlines()\n",
    "    stop_set = set(m.strip() for m in stopwords)\n",
    "    stopwords =  list(frozenset(stop_set))"
   ]
  },
  {
   "cell_type": "markdown",
   "id": "628fcfc8",
   "metadata": {},
   "source": [
    "Hàm loại bỏ stopwords"
   ]
  },
  {
   "cell_type": "code",
   "execution_count": 22,
   "id": "10764936",
   "metadata": {},
   "outputs": [],
   "source": [
    "def remove_stopwords(word_list):\n",
    "    for el in word_list:\n",
    "        if len(el)==0:\n",
    "            word_list.remove(el)\n",
    "            continue\n",
    "        for sw in stopwords:\n",
    "            if sw in el:\n",
    "                el.remove(sw)\n",
    "    return word_list"
   ]
  },
  {
   "cell_type": "code",
   "execution_count": 23,
   "id": "74d4dc5a",
   "metadata": {
    "scrolled": false
   },
   "outputs": [
    {
     "data": {
      "text/html": [
       "<div>\n",
       "<style scoped>\n",
       "    .dataframe tbody tr th:only-of-type {\n",
       "        vertical-align: middle;\n",
       "    }\n",
       "\n",
       "    .dataframe tbody tr th {\n",
       "        vertical-align: top;\n",
       "    }\n",
       "\n",
       "    .dataframe thead th {\n",
       "        text-align: right;\n",
       "    }\n",
       "</style>\n",
       "<table border=\"1\" class=\"dataframe\">\n",
       "  <thead>\n",
       "    <tr style=\"text-align: right;\">\n",
       "      <th></th>\n",
       "      <th>text</th>\n",
       "      <th>domain</th>\n",
       "      <th>label</th>\n",
       "      <th>field</th>\n",
       "    </tr>\n",
       "  </thead>\n",
       "  <tbody>\n",
       "    <tr>\n",
       "      <th>0</th>\n",
       "      <td>[[thủ tướng, abe, cúi, đầu, xin lỗi, vì, hành động, phi, thể thao, của, tuyển, nhật], [sankei, sports, thủ tướng, nhật, shinzo, abe, công khai, gửi, xin lỗi, nhật, hoàng, toàn bộ, dân, tinh thần, thi đấu, phi, thể thao, đội tuyển, nhật, world, cup, 2018, tối qua, lượt, trận, vòng, bảng, world, c...</td>\n",
       "      <td>binhluan.biz</td>\n",
       "      <td>1</td>\n",
       "      <td>the_thao</td>\n",
       "    </tr>\n",
       "    <tr>\n",
       "      <th>1</th>\n",
       "      <td>[[thủ tướng, nhật, cúi, đầu, xin lỗi, vì, tinh thần, phi, thể thao, của, đội, bóng], [196, thủ tướng, nhật, shinzo, abe, công khai, gửi, xin lỗi, nhật, hoàng, toàn bộ, dân, tinh thần, thi đấu, phi, thể thao, đội tuyển, nhật, world, cup, 2018, tinh thần, của, võ sĩ đạo, samurai, đội tuyển, nhật, ...</td>\n",
       "      <td>www.ipick.vn</td>\n",
       "      <td>1</td>\n",
       "      <td>the_thao</td>\n",
       "    </tr>\n",
       "    <tr>\n",
       "      <th>2</th>\n",
       "      <td>[[choáng], [trưởng, đeo, khăn quàng, quẩy, banh, sân khấu, trường], [xót xa, hình ảnh, thầy trò, lội, bùn, băng, rừng, trường, nghệ, an], [lũ, học sinh, vùng cao, giáo viên, nghệ an, đối mặt, thiếu thốn, giao thông, chia cắt, cơ sở vật chất, bị, lũ, trôi, hình ảnh, học sinh, và, giáo viên, ở, ng...</td>\n",
       "      <td>tintucqpvn.net</td>\n",
       "      <td>1</td>\n",
       "      <td>chinh_tri_xa_hoi</td>\n",
       "    </tr>\n",
       "    <tr>\n",
       "      <th>3</th>\n",
       "      <td>[[chưa, bao giờ, nhạc, kpop, lại, dễ, hát, đến, thế], [giáo sư, nguyễn lân, dũng, thành đạt, đánh vần, ô vuông, tam giác], [gsnguyễn, lân, dũng, pgsts, nguyễn lân, hiếu, thành công, phương pháp học, tiếng, việt, gs, hồ, ngọc, đại, mấy, ngày nay, cộng đồng, mạng, sục sôi, thông tin, phụ huynh, nổ...</td>\n",
       "      <td>tintucqpvn.net</td>\n",
       "      <td>1</td>\n",
       "      <td>chinh_tri_xa_hoi</td>\n",
       "    </tr>\n",
       "    <tr>\n",
       "      <th>4</th>\n",
       "      <td>[[đại học, hutech, sẽ, áp dụng, cải cách, tiếq, việt, vào, năm học, 2018], [phạm, ngọc, phó, giám đốc, sở, gd, đt, tp, hồ, chí minh, chuyên trách, hệ, giáo dục, đại học, thành phố, lên tiếng, về, cải cách, tiếng, tiếng, việt, pgsts, bùi, hiền, ông, tphcm, đề xuất, của, pgs, sẵn lòng, thí điểm, g...</td>\n",
       "      <td>www.gioitreviet.net</td>\n",
       "      <td>1</td>\n",
       "      <td>chinh_tri_xa_hoi</td>\n",
       "    </tr>\n",
       "    <tr>\n",
       "      <th>...</th>\n",
       "      <td>...</td>\n",
       "      <td>...</td>\n",
       "      <td>...</td>\n",
       "      <td>...</td>\n",
       "    </tr>\n",
       "    <tr>\n",
       "      <th>218</th>\n",
       "      <td>[[siêu, máy bay, a350, sẽ, chở, cđv, việt, nam, đi, malaysia, cổ vũ, chung kết, lượt, đi], [siêu, máy bay, a350900, vietnam, airlines, chở, cđv, việt, nam, đi, malaysia, cổ vũ, đội tuyển, quốc gia, đá, trận, chung kết, lượt, đi], [vietnam, airlines, 6, chuyến, bay, tăng cường, đi, kuala, lumpur,...</td>\n",
       "      <td>dantri.com.vn</td>\n",
       "      <td>0</td>\n",
       "      <td>chinh_tri_xa_hoi</td>\n",
       "    </tr>\n",
       "    <tr>\n",
       "      <th>219</th>\n",
       "      <td>[[thưởng, 20000, usd, cho, đội tuyển, cờ vua, việt, nam, tại, olympiad, 2018], [cờ vua, việt, nam, đẳng cấp, đấu trường, quốc tế], [lễ, vinh danh, đội tuyển, cờ vua, việt, nam, 1310, nam, a, bank, thưởng, 20000, usd, ghi nhận, thành công, đội tuyển, giải, cờ vua, đồng đội, thế giới, olypiad, 201...</td>\n",
       "      <td>dantri.com.vn</td>\n",
       "      <td>0</td>\n",
       "      <td>the_thao</td>\n",
       "    </tr>\n",
       "    <tr>\n",
       "      <th>220</th>\n",
       "      <td>[[trường sơn, giành, hcv, tại, giải, cờ vua, đồng đội, thế giới, 2018], [hạng, 7, hạng, cờ vua, việt, nam, kỳ, olympiad, ngang, thành tích, 2012], [thành tích, đội, nam, 6, trận, thắng, 4, trận, hoà, thua, 1, trận, đoàn, việt, nam, thi đấu, thành công, giải, cờ vua, đồng đội, thế giới, 2018], [k...</td>\n",
       "      <td>dantri.com.vn</td>\n",
       "      <td>0</td>\n",
       "      <td>the_thao</td>\n",
       "    </tr>\n",
       "    <tr>\n",
       "      <th>221</th>\n",
       "      <td>[[chuyện, về, chàng, sinh viên, luật, kiện tướng, lê tuấn, minh], [hôm nay, liên lạc, máy, lê, tuấn, minh, mẹ, bắt, máy], [nói chuyện, lê, tuấn, minh, nguyễn thị, ngoan, mẹ, tuấn, minh, dịu dàng, đại diện, trả lời, tuấn, minh, hôm nay, trường học, cho, học, em, điện thoại, kiện tướng, sinh viên,...</td>\n",
       "      <td>dantri.com.vn</td>\n",
       "      <td>0</td>\n",
       "      <td>the_thao</td>\n",
       "    </tr>\n",
       "    <tr>\n",
       "      <th>222</th>\n",
       "      <td>[[tiền đạo, malaysia, tôi, đã, có, cách, vượt, qua, hàng, thủ, đội tuyển, việt, nam], [trận, đấu, vòng, bảng, aff, cup, 2018, norshahrul, idlan, talaha, thể hiện, kéo, sâu], [chân, sút, vô cùng, sợ, malaysia], [đầu, giải, tiền đạo, 32, ghi, 5, bàn, thắng, đtqg, talaha, tự tin, ghi bàn, lưới, đội...</td>\n",
       "      <td>dantri.com.vn</td>\n",
       "      <td>0</td>\n",
       "      <td>the_thao</td>\n",
       "    </tr>\n",
       "  </tbody>\n",
       "</table>\n",
       "<p>222 rows × 4 columns</p>\n",
       "</div>"
      ],
      "text/plain": [
       "                                                                                                                                                                                                                                                                                                            text  \\\n",
       "0    [[thủ tướng, abe, cúi, đầu, xin lỗi, vì, hành động, phi, thể thao, của, tuyển, nhật], [sankei, sports, thủ tướng, nhật, shinzo, abe, công khai, gửi, xin lỗi, nhật, hoàng, toàn bộ, dân, tinh thần, thi đấu, phi, thể thao, đội tuyển, nhật, world, cup, 2018, tối qua, lượt, trận, vòng, bảng, world, c...   \n",
       "1    [[thủ tướng, nhật, cúi, đầu, xin lỗi, vì, tinh thần, phi, thể thao, của, đội, bóng], [196, thủ tướng, nhật, shinzo, abe, công khai, gửi, xin lỗi, nhật, hoàng, toàn bộ, dân, tinh thần, thi đấu, phi, thể thao, đội tuyển, nhật, world, cup, 2018, tinh thần, của, võ sĩ đạo, samurai, đội tuyển, nhật, ...   \n",
       "2    [[choáng], [trưởng, đeo, khăn quàng, quẩy, banh, sân khấu, trường], [xót xa, hình ảnh, thầy trò, lội, bùn, băng, rừng, trường, nghệ, an], [lũ, học sinh, vùng cao, giáo viên, nghệ an, đối mặt, thiếu thốn, giao thông, chia cắt, cơ sở vật chất, bị, lũ, trôi, hình ảnh, học sinh, và, giáo viên, ở, ng...   \n",
       "3    [[chưa, bao giờ, nhạc, kpop, lại, dễ, hát, đến, thế], [giáo sư, nguyễn lân, dũng, thành đạt, đánh vần, ô vuông, tam giác], [gsnguyễn, lân, dũng, pgsts, nguyễn lân, hiếu, thành công, phương pháp học, tiếng, việt, gs, hồ, ngọc, đại, mấy, ngày nay, cộng đồng, mạng, sục sôi, thông tin, phụ huynh, nổ...   \n",
       "4    [[đại học, hutech, sẽ, áp dụng, cải cách, tiếq, việt, vào, năm học, 2018], [phạm, ngọc, phó, giám đốc, sở, gd, đt, tp, hồ, chí minh, chuyên trách, hệ, giáo dục, đại học, thành phố, lên tiếng, về, cải cách, tiếng, tiếng, việt, pgsts, bùi, hiền, ông, tphcm, đề xuất, của, pgs, sẵn lòng, thí điểm, g...   \n",
       "..                                                                                                                                                                                                                                                                                                           ...   \n",
       "218  [[siêu, máy bay, a350, sẽ, chở, cđv, việt, nam, đi, malaysia, cổ vũ, chung kết, lượt, đi], [siêu, máy bay, a350900, vietnam, airlines, chở, cđv, việt, nam, đi, malaysia, cổ vũ, đội tuyển, quốc gia, đá, trận, chung kết, lượt, đi], [vietnam, airlines, 6, chuyến, bay, tăng cường, đi, kuala, lumpur,...   \n",
       "219  [[thưởng, 20000, usd, cho, đội tuyển, cờ vua, việt, nam, tại, olympiad, 2018], [cờ vua, việt, nam, đẳng cấp, đấu trường, quốc tế], [lễ, vinh danh, đội tuyển, cờ vua, việt, nam, 1310, nam, a, bank, thưởng, 20000, usd, ghi nhận, thành công, đội tuyển, giải, cờ vua, đồng đội, thế giới, olypiad, 201...   \n",
       "220  [[trường sơn, giành, hcv, tại, giải, cờ vua, đồng đội, thế giới, 2018], [hạng, 7, hạng, cờ vua, việt, nam, kỳ, olympiad, ngang, thành tích, 2012], [thành tích, đội, nam, 6, trận, thắng, 4, trận, hoà, thua, 1, trận, đoàn, việt, nam, thi đấu, thành công, giải, cờ vua, đồng đội, thế giới, 2018], [k...   \n",
       "221  [[chuyện, về, chàng, sinh viên, luật, kiện tướng, lê tuấn, minh], [hôm nay, liên lạc, máy, lê, tuấn, minh, mẹ, bắt, máy], [nói chuyện, lê, tuấn, minh, nguyễn thị, ngoan, mẹ, tuấn, minh, dịu dàng, đại diện, trả lời, tuấn, minh, hôm nay, trường học, cho, học, em, điện thoại, kiện tướng, sinh viên,...   \n",
       "222  [[tiền đạo, malaysia, tôi, đã, có, cách, vượt, qua, hàng, thủ, đội tuyển, việt, nam], [trận, đấu, vòng, bảng, aff, cup, 2018, norshahrul, idlan, talaha, thể hiện, kéo, sâu], [chân, sút, vô cùng, sợ, malaysia], [đầu, giải, tiền đạo, 32, ghi, 5, bàn, thắng, đtqg, talaha, tự tin, ghi bàn, lưới, đội...   \n",
       "\n",
       "                  domain  label             field  \n",
       "0           binhluan.biz      1          the_thao  \n",
       "1           www.ipick.vn      1          the_thao  \n",
       "2         tintucqpvn.net      1  chinh_tri_xa_hoi  \n",
       "3         tintucqpvn.net      1  chinh_tri_xa_hoi  \n",
       "4    www.gioitreviet.net      1  chinh_tri_xa_hoi  \n",
       "..                   ...    ...               ...  \n",
       "218        dantri.com.vn      0  chinh_tri_xa_hoi  \n",
       "219        dantri.com.vn      0          the_thao  \n",
       "220        dantri.com.vn      0          the_thao  \n",
       "221        dantri.com.vn      0          the_thao  \n",
       "222        dantri.com.vn      0          the_thao  \n",
       "\n",
       "[222 rows x 4 columns]"
      ]
     },
     "execution_count": 23,
     "metadata": {},
     "output_type": "execute_result"
    }
   ],
   "source": [
    "vnnews_df['text'] = vnnews_df['text'].apply(remove_stopwords)\n",
    "pd.set_option(\"max_colwidth\", 300)\n",
    "vnnews_df"
   ]
  },
  {
   "cell_type": "markdown",
   "id": "699c09e6",
   "metadata": {},
   "source": [
    "# 3. Ứng dụng mô hình học máy phù hợp"
   ]
  },
  {
   "cell_type": "markdown",
   "id": "3b74a38d",
   "metadata": {},
   "source": [
    "**3.1. Tiền xử lí**"
   ]
  },
  {
   "cell_type": "code",
   "execution_count": null,
   "id": "93896e43",
   "metadata": {},
   "outputs": [],
   "source": []
  },
  {
   "cell_type": "code",
   "execution_count": 24,
   "id": "1b73b304",
   "metadata": {},
   "outputs": [],
   "source": [
    "df = vnnews_df.explode(\"text\")"
   ]
  },
  {
   "cell_type": "code",
   "execution_count": 25,
   "id": "ad896290",
   "metadata": {},
   "outputs": [
    {
     "data": {
      "text/html": [
       "<div>\n",
       "<style scoped>\n",
       "    .dataframe tbody tr th:only-of-type {\n",
       "        vertical-align: middle;\n",
       "    }\n",
       "\n",
       "    .dataframe tbody tr th {\n",
       "        vertical-align: top;\n",
       "    }\n",
       "\n",
       "    .dataframe thead th {\n",
       "        text-align: right;\n",
       "    }\n",
       "</style>\n",
       "<table border=\"1\" class=\"dataframe\">\n",
       "  <thead>\n",
       "    <tr style=\"text-align: right;\">\n",
       "      <th></th>\n",
       "      <th>text</th>\n",
       "      <th>domain</th>\n",
       "      <th>label</th>\n",
       "      <th>field</th>\n",
       "    </tr>\n",
       "  </thead>\n",
       "  <tbody>\n",
       "    <tr>\n",
       "      <th>0</th>\n",
       "      <td>[thủ tướng, abe, cúi, đầu, xin lỗi, vì, hành động, phi, thể thao, của, tuyển, nhật]</td>\n",
       "      <td>binhluan.biz</td>\n",
       "      <td>1</td>\n",
       "      <td>the_thao</td>\n",
       "    </tr>\n",
       "    <tr>\n",
       "      <th>0</th>\n",
       "      <td>[sankei, sports, thủ tướng, nhật, shinzo, abe, công khai, gửi, xin lỗi, nhật, hoàng, toàn bộ, dân, tinh thần, thi đấu, phi, thể thao, đội tuyển, nhật, world, cup, 2018, tối qua, lượt, trận, vòng, bảng, world, cup, 2018, nhật, bản, chỉ số, phụ, senegal, đội, sau, thua, colombia]</td>\n",
       "      <td>binhluan.biz</td>\n",
       "      <td>1</td>\n",
       "      <td>the_thao</td>\n",
       "    </tr>\n",
       "    <tr>\n",
       "      <th>0</th>\n",
       "      <td>[nhật, vòng, chỉ số, fairplay, thẻ, phạt, thủ tướng, nhật, bản, shinzo, abe, cúi, đầu, xin lỗi, tinh thần, võ sĩ đạo, samurai, nhưng, đội tuyển, nhật, bản, những, hành động, tinh thần, thượng võ, thi đấu, world, cup, chỉ trích, bất bình, toàn, dân, hình ảnh, kiên cường, của, dân, nhật, bản, đấu ...</td>\n",
       "      <td>binhluan.biz</td>\n",
       "      <td>1</td>\n",
       "      <td>the_thao</td>\n",
       "    </tr>\n",
       "    <tr>\n",
       "      <th>0</th>\n",
       "      <td>[đứng, đầu, thành, trách nhiệm, gửi lời, xin lỗi, sâu sắc, nhân dân, abe, cúi, đầu, nhận, trách nhiệm, người, nhật, nổi tiếng, về, tinh thần, trách nhiệm, và, chất, võ sĩ đạo]</td>\n",
       "      <td>binhluan.biz</td>\n",
       "      <td>1</td>\n",
       "      <td>the_thao</td>\n",
       "    </tr>\n",
       "    <tr>\n",
       "      <th>0</th>\n",
       "      <td>[đội tuyển, áo, xanh, mệnh danh, samurai, xanh]</td>\n",
       "      <td>binhluan.biz</td>\n",
       "      <td>1</td>\n",
       "      <td>the_thao</td>\n",
       "    </tr>\n",
       "    <tr>\n",
       "      <th>...</th>\n",
       "      <td>...</td>\n",
       "      <td>...</td>\n",
       "      <td>...</td>\n",
       "      <td>...</td>\n",
       "    </tr>\n",
       "    <tr>\n",
       "      <th>222</th>\n",
       "      <td>[rút, bài học, bổ ích, trận, thua, hà, nội]</td>\n",
       "      <td>dantri.com.vn</td>\n",
       "      <td>0</td>\n",
       "      <td>the_thao</td>\n",
       "    </tr>\n",
       "    <tr>\n",
       "      <th>222</th>\n",
       "      <td>[đội, chấn chỉnh, trận, đấu, chung kết, dĩ nhiên, đội tuyển, malaysia, mong muốn, bàn, thắng, tỷ số, trận, đấu, tới, chiếm, lợi thế, tâm lý, sân, có, theo dõi, lại, trận, đấu, ở, vòng, bảng]</td>\n",
       "      <td>dantri.com.vn</td>\n",
       "      <td>0</td>\n",
       "      <td>the_thao</td>\n",
       "    </tr>\n",
       "    <tr>\n",
       "      <th>222</th>\n",
       "      <td>[thừa nhận, mắc, phải, sai lầm, sân]</td>\n",
       "      <td>dantri.com.vn</td>\n",
       "      <td>0</td>\n",
       "      <td>the_thao</td>\n",
       "    </tr>\n",
       "    <tr>\n",
       "      <th>222</th>\n",
       "      <td>[băng hình, phá, vỡ, hàng, phòng ngự, đối thủ]</td>\n",
       "      <td>dantri.com.vn</td>\n",
       "      <td>0</td>\n",
       "      <td>the_thao</td>\n",
       "    </tr>\n",
       "    <tr>\n",
       "      <th>222</th>\n",
       "      <td>[hi vọng, kịp, có mặt, trận, đấu, chung kết, trận, chung kết, lượt, đi, malaysia, việt, nam, sẽ, diễn, 19, h45, 1112, ở, sân, bukit, jalil, hlong]</td>\n",
       "      <td>dantri.com.vn</td>\n",
       "      <td>0</td>\n",
       "      <td>the_thao</td>\n",
       "    </tr>\n",
       "  </tbody>\n",
       "</table>\n",
       "<p>3534 rows × 4 columns</p>\n",
       "</div>"
      ],
      "text/plain": [
       "                                                                                                                                                                                                                                                                                                            text  \\\n",
       "0                                                                                                                                                                                                                            [thủ tướng, abe, cúi, đầu, xin lỗi, vì, hành động, phi, thể thao, của, tuyển, nhật]   \n",
       "0                         [sankei, sports, thủ tướng, nhật, shinzo, abe, công khai, gửi, xin lỗi, nhật, hoàng, toàn bộ, dân, tinh thần, thi đấu, phi, thể thao, đội tuyển, nhật, world, cup, 2018, tối qua, lượt, trận, vòng, bảng, world, cup, 2018, nhật, bản, chỉ số, phụ, senegal, đội, sau, thua, colombia]   \n",
       "0    [nhật, vòng, chỉ số, fairplay, thẻ, phạt, thủ tướng, nhật, bản, shinzo, abe, cúi, đầu, xin lỗi, tinh thần, võ sĩ đạo, samurai, nhưng, đội tuyển, nhật, bản, những, hành động, tinh thần, thượng võ, thi đấu, world, cup, chỉ trích, bất bình, toàn, dân, hình ảnh, kiên cường, của, dân, nhật, bản, đấu ...   \n",
       "0                                                                                                                                [đứng, đầu, thành, trách nhiệm, gửi lời, xin lỗi, sâu sắc, nhân dân, abe, cúi, đầu, nhận, trách nhiệm, người, nhật, nổi tiếng, về, tinh thần, trách nhiệm, và, chất, võ sĩ đạo]   \n",
       "0                                                                                                                                                                                                                                                                [đội tuyển, áo, xanh, mệnh danh, samurai, xanh]   \n",
       "..                                                                                                                                                                                                                                                                                                           ...   \n",
       "222                                                                                                                                                                                                                                                                  [rút, bài học, bổ ích, trận, thua, hà, nội]   \n",
       "222                                                                                                               [đội, chấn chỉnh, trận, đấu, chung kết, dĩ nhiên, đội tuyển, malaysia, mong muốn, bàn, thắng, tỷ số, trận, đấu, tới, chiếm, lợi thế, tâm lý, sân, có, theo dõi, lại, trận, đấu, ở, vòng, bảng]   \n",
       "222                                                                                                                                                                                                                                                                         [thừa nhận, mắc, phải, sai lầm, sân]   \n",
       "222                                                                                                                                                                                                                                                               [băng hình, phá, vỡ, hàng, phòng ngự, đối thủ]   \n",
       "222                                                                                                                                                           [hi vọng, kịp, có mặt, trận, đấu, chung kết, trận, chung kết, lượt, đi, malaysia, việt, nam, sẽ, diễn, 19, h45, 1112, ở, sân, bukit, jalil, hlong]   \n",
       "\n",
       "            domain  label     field  \n",
       "0     binhluan.biz      1  the_thao  \n",
       "0     binhluan.biz      1  the_thao  \n",
       "0     binhluan.biz      1  the_thao  \n",
       "0     binhluan.biz      1  the_thao  \n",
       "0     binhluan.biz      1  the_thao  \n",
       "..             ...    ...       ...  \n",
       "222  dantri.com.vn      0  the_thao  \n",
       "222  dantri.com.vn      0  the_thao  \n",
       "222  dantri.com.vn      0  the_thao  \n",
       "222  dantri.com.vn      0  the_thao  \n",
       "222  dantri.com.vn      0  the_thao  \n",
       "\n",
       "[3534 rows x 4 columns]"
      ]
     },
     "execution_count": 25,
     "metadata": {},
     "output_type": "execute_result"
    }
   ],
   "source": [
    "df "
   ]
  },
  {
   "cell_type": "code",
   "execution_count": 26,
   "id": "4fd8cb2a",
   "metadata": {},
   "outputs": [],
   "source": [
    "def combine(text):\n",
    "    return ' '.join(text)"
   ]
  },
  {
   "cell_type": "code",
   "execution_count": 27,
   "id": "cf960beb",
   "metadata": {},
   "outputs": [
    {
     "data": {
      "text/html": [
       "<div>\n",
       "<style scoped>\n",
       "    .dataframe tbody tr th:only-of-type {\n",
       "        vertical-align: middle;\n",
       "    }\n",
       "\n",
       "    .dataframe tbody tr th {\n",
       "        vertical-align: top;\n",
       "    }\n",
       "\n",
       "    .dataframe thead th {\n",
       "        text-align: right;\n",
       "    }\n",
       "</style>\n",
       "<table border=\"1\" class=\"dataframe\">\n",
       "  <thead>\n",
       "    <tr style=\"text-align: right;\">\n",
       "      <th></th>\n",
       "      <th>text</th>\n",
       "      <th>domain</th>\n",
       "    </tr>\n",
       "  </thead>\n",
       "  <tbody>\n",
       "    <tr>\n",
       "      <th>0</th>\n",
       "      <td>thủ tướng abe cúi đầu xin lỗi vì hành động phi thể thao của tuyển nhật</td>\n",
       "      <td>binhluan.biz</td>\n",
       "    </tr>\n",
       "    <tr>\n",
       "      <th>0</th>\n",
       "      <td>sankei sports thủ tướng nhật shinzo abe công khai gửi xin lỗi nhật hoàng toàn bộ dân tinh thần thi đấu phi thể thao đội tuyển nhật world cup 2018 tối qua lượt trận vòng bảng world cup 2018 nhật bản chỉ số phụ senegal đội sau thua colombia</td>\n",
       "      <td>binhluan.biz</td>\n",
       "    </tr>\n",
       "    <tr>\n",
       "      <th>0</th>\n",
       "      <td>nhật vòng chỉ số fairplay thẻ phạt thủ tướng nhật bản shinzo abe cúi đầu xin lỗi tinh thần võ sĩ đạo samurai nhưng đội tuyển nhật bản những hành động tinh thần thượng võ thi đấu world cup chỉ trích bất bình toàn dân hình ảnh kiên cường của dân nhật bản đấu trường quốc tế</td>\n",
       "      <td>binhluan.biz</td>\n",
       "    </tr>\n",
       "    <tr>\n",
       "      <th>0</th>\n",
       "      <td>đứng đầu thành trách nhiệm gửi lời xin lỗi sâu sắc nhân dân abe cúi đầu nhận trách nhiệm người nhật nổi tiếng về tinh thần trách nhiệm và chất võ sĩ đạo</td>\n",
       "      <td>binhluan.biz</td>\n",
       "    </tr>\n",
       "    <tr>\n",
       "      <th>0</th>\n",
       "      <td>đội tuyển áo xanh mệnh danh samurai xanh</td>\n",
       "      <td>binhluan.biz</td>\n",
       "    </tr>\n",
       "    <tr>\n",
       "      <th>...</th>\n",
       "      <td>...</td>\n",
       "      <td>...</td>\n",
       "    </tr>\n",
       "    <tr>\n",
       "      <th>222</th>\n",
       "      <td>rút bài học bổ ích trận thua hà nội</td>\n",
       "      <td>dantri.com.vn</td>\n",
       "    </tr>\n",
       "    <tr>\n",
       "      <th>222</th>\n",
       "      <td>đội chấn chỉnh trận đấu chung kết dĩ nhiên đội tuyển malaysia mong muốn bàn thắng tỷ số trận đấu tới chiếm lợi thế tâm lý sân có theo dõi lại trận đấu ở vòng bảng</td>\n",
       "      <td>dantri.com.vn</td>\n",
       "    </tr>\n",
       "    <tr>\n",
       "      <th>222</th>\n",
       "      <td>thừa nhận mắc phải sai lầm sân</td>\n",
       "      <td>dantri.com.vn</td>\n",
       "    </tr>\n",
       "    <tr>\n",
       "      <th>222</th>\n",
       "      <td>băng hình phá vỡ hàng phòng ngự đối thủ</td>\n",
       "      <td>dantri.com.vn</td>\n",
       "    </tr>\n",
       "    <tr>\n",
       "      <th>222</th>\n",
       "      <td>hi vọng kịp có mặt trận đấu chung kết trận chung kết lượt đi malaysia việt nam sẽ diễn 19 h45 1112 ở sân bukit jalil hlong</td>\n",
       "      <td>dantri.com.vn</td>\n",
       "    </tr>\n",
       "  </tbody>\n",
       "</table>\n",
       "<p>3534 rows × 2 columns</p>\n",
       "</div>"
      ],
      "text/plain": [
       "                                                                                                                                                                                                                                                                                text  \\\n",
       "0                                                                                                                                                                                                             thủ tướng abe cúi đầu xin lỗi vì hành động phi thể thao của tuyển nhật   \n",
       "0                                     sankei sports thủ tướng nhật shinzo abe công khai gửi xin lỗi nhật hoàng toàn bộ dân tinh thần thi đấu phi thể thao đội tuyển nhật world cup 2018 tối qua lượt trận vòng bảng world cup 2018 nhật bản chỉ số phụ senegal đội sau thua colombia   \n",
       "0    nhật vòng chỉ số fairplay thẻ phạt thủ tướng nhật bản shinzo abe cúi đầu xin lỗi tinh thần võ sĩ đạo samurai nhưng đội tuyển nhật bản những hành động tinh thần thượng võ thi đấu world cup chỉ trích bất bình toàn dân hình ảnh kiên cường của dân nhật bản đấu trường quốc tế   \n",
       "0                                                                                                                           đứng đầu thành trách nhiệm gửi lời xin lỗi sâu sắc nhân dân abe cúi đầu nhận trách nhiệm người nhật nổi tiếng về tinh thần trách nhiệm và chất võ sĩ đạo   \n",
       "0                                                                                                                                                                                                                                           đội tuyển áo xanh mệnh danh samurai xanh   \n",
       "..                                                                                                                                                                                                                                                                               ...   \n",
       "222                                                                                                                                                                                                                                              rút bài học bổ ích trận thua hà nội   \n",
       "222                                                                                                               đội chấn chỉnh trận đấu chung kết dĩ nhiên đội tuyển malaysia mong muốn bàn thắng tỷ số trận đấu tới chiếm lợi thế tâm lý sân có theo dõi lại trận đấu ở vòng bảng   \n",
       "222                                                                                                                                                                                                                                                   thừa nhận mắc phải sai lầm sân   \n",
       "222                                                                                                                                                                                                                                          băng hình phá vỡ hàng phòng ngự đối thủ   \n",
       "222                                                                                                                                                       hi vọng kịp có mặt trận đấu chung kết trận chung kết lượt đi malaysia việt nam sẽ diễn 19 h45 1112 ở sân bukit jalil hlong   \n",
       "\n",
       "            domain  \n",
       "0     binhluan.biz  \n",
       "0     binhluan.biz  \n",
       "0     binhluan.biz  \n",
       "0     binhluan.biz  \n",
       "0     binhluan.biz  \n",
       "..             ...  \n",
       "222  dantri.com.vn  \n",
       "222  dantri.com.vn  \n",
       "222  dantri.com.vn  \n",
       "222  dantri.com.vn  \n",
       "222  dantri.com.vn  \n",
       "\n",
       "[3534 rows x 2 columns]"
      ]
     },
     "execution_count": 27,
     "metadata": {},
     "output_type": "execute_result"
    }
   ],
   "source": [
    "X = df.loc[:,[\"text\",\"domain\"]]\n",
    "X.text = X.text.apply(combine)\n",
    "y = df.label.values.reshape(-1,1)\n",
    "X"
   ]
  },
  {
   "cell_type": "markdown",
   "id": "48d1af63",
   "metadata": {},
   "source": [
    "**3.2 Chia tập nguồn thành train_set và test_set**"
   ]
  },
  {
   "cell_type": "code",
   "execution_count": 28,
   "id": "b67346d8",
   "metadata": {},
   "outputs": [],
   "source": [
    "X_train, X_test, y_train, y_test = train_test_split(X,y, test_size =0.42)"
   ]
  },
  {
   "cell_type": "code",
   "execution_count": 29,
   "id": "960b7468",
   "metadata": {},
   "outputs": [
    {
     "data": {
      "text/html": [
       "<div>\n",
       "<style scoped>\n",
       "    .dataframe tbody tr th:only-of-type {\n",
       "        vertical-align: middle;\n",
       "    }\n",
       "\n",
       "    .dataframe tbody tr th {\n",
       "        vertical-align: top;\n",
       "    }\n",
       "\n",
       "    .dataframe thead th {\n",
       "        text-align: right;\n",
       "    }\n",
       "</style>\n",
       "<table border=\"1\" class=\"dataframe\">\n",
       "  <thead>\n",
       "    <tr style=\"text-align: right;\">\n",
       "      <th></th>\n",
       "      <th>text</th>\n",
       "      <th>domain</th>\n",
       "    </tr>\n",
       "  </thead>\n",
       "  <tbody>\n",
       "    <tr>\n",
       "      <th>199</th>\n",
       "      <td>ảnh new york times tổng thống mỹ donald trump chuyến công du châu á gọi điện thống đốc bang texas greg abbott cập nhật tình hình</td>\n",
       "      <td>vnexpress.net</td>\n",
       "    </tr>\n",
       "    <tr>\n",
       "      <th>61</th>\n",
       "      <td>suy nghĩ giúp đức vui vẻ hạnh phúc tình yêu 2 đức hạnh đám cưới 1 đám cưới hoành tráng nhì tỉnh</td>\n",
       "      <td>tinvn.info</td>\n",
       "    </tr>\n",
       "    <tr>\n",
       "      <th>132</th>\n",
       "      <td>2016 giành học bổng du học ngành khoa học máy tính đại học minnesota university of minnesota mỹ đầu 11 em tin vui công ty google microsoft facebook thông báo phỏng vấn và mời em thực tập viên kỹ sư phần mềm</td>\n",
       "      <td>vnexpress.net</td>\n",
       "    </tr>\n",
       "    <tr>\n",
       "      <th>24</th>\n",
       "      <td>đấu tranh dựa luật pháp nhà nước pháp quyền luật pháp quốc tế tôn trọng lẫn eu đồng hành đức đăng trên facebook thông cáo báo chí của ngoại giao đức đại sứ quán thụy điển</td>\n",
       "      <td>thoibao.de</td>\n",
       "    </tr>\n",
       "    <tr>\n",
       "      <th>124</th>\n",
       "      <td>gia đình thuê sống qgò vấp tphcm cuộc sống quyết định htrảng bom mưu sinh</td>\n",
       "      <td>thanhnien.vn</td>\n",
       "    </tr>\n",
       "    <tr>\n",
       "      <th>...</th>\n",
       "      <td>...</td>\n",
       "      <td>...</td>\n",
       "    </tr>\n",
       "    <tr>\n",
       "      <th>98</th>\n",
       "      <td>yêu ấn tượng nhất thời không phải thiện cảm không phải tình cảm chốc lát là rõ ràng không kết quả khăng khăng lún sâu</td>\n",
       "      <td>tinvn.info</td>\n",
       "    </tr>\n",
       "    <tr>\n",
       "      <th>158</th>\n",
       "      <td>bạo loạn nổ biểu tình đông tràn khu vực đụng độ cảnh sát chống bạo động 260 người bị thương và hơn 400 người bắt vụ bạo loạn</td>\n",
       "      <td>vnexpress.net</td>\n",
       "    </tr>\n",
       "    <tr>\n",
       "      <th>39</th>\n",
       "      <td>chính quyền địa phương chỉ đạo cán bộ thôn tổ giải thích trấn an tư tưởng người thân</td>\n",
       "      <td>tinvn.info</td>\n",
       "    </tr>\n",
       "    <tr>\n",
       "      <th>215</th>\n",
       "      <td>hùng quen nguyễn thị hoa cau 43</td>\n",
       "      <td>dantri.com.vn</td>\n",
       "    </tr>\n",
       "    <tr>\n",
       "      <th>203</th>\n",
       "      <td>chủ tịch lê khánh hải</td>\n",
       "      <td>thethao.tuoitre.vn</td>\n",
       "    </tr>\n",
       "  </tbody>\n",
       "</table>\n",
       "<p>2049 rows × 2 columns</p>\n",
       "</div>"
      ],
      "text/plain": [
       "                                                                                                                                                                                                               text  \\\n",
       "199                                                                                ảnh new york times tổng thống mỹ donald trump chuyến công du châu á gọi điện thống đốc bang texas greg abbott cập nhật tình hình   \n",
       "61                                                                                                                  suy nghĩ giúp đức vui vẻ hạnh phúc tình yêu 2 đức hạnh đám cưới 1 đám cưới hoành tráng nhì tỉnh   \n",
       "132  2016 giành học bổng du học ngành khoa học máy tính đại học minnesota university of minnesota mỹ đầu 11 em tin vui công ty google microsoft facebook thông báo phỏng vấn và mời em thực tập viên kỹ sư phần mềm   \n",
       "24                                       đấu tranh dựa luật pháp nhà nước pháp quyền luật pháp quốc tế tôn trọng lẫn eu đồng hành đức đăng trên facebook thông cáo báo chí của ngoại giao đức đại sứ quán thụy điển   \n",
       "124                                                                                                                                       gia đình thuê sống qgò vấp tphcm cuộc sống quyết định htrảng bom mưu sinh   \n",
       "..                                                                                                                                                                                                              ...   \n",
       "98                                                                                            yêu ấn tượng nhất thời không phải thiện cảm không phải tình cảm chốc lát là rõ ràng không kết quả khăng khăng lún sâu   \n",
       "158                                                                                    bạo loạn nổ biểu tình đông tràn khu vực đụng độ cảnh sát chống bạo động 260 người bị thương và hơn 400 người bắt vụ bạo loạn   \n",
       "39                                                                                                                             chính quyền địa phương chỉ đạo cán bộ thôn tổ giải thích trấn an tư tưởng người thân   \n",
       "215                                                                                                                                                                                 hùng quen nguyễn thị hoa cau 43   \n",
       "203                                                                                                                                                                                           chủ tịch lê khánh hải   \n",
       "\n",
       "                 domain  \n",
       "199       vnexpress.net  \n",
       "61           tinvn.info  \n",
       "132       vnexpress.net  \n",
       "24           thoibao.de  \n",
       "124        thanhnien.vn  \n",
       "..                  ...  \n",
       "98           tinvn.info  \n",
       "158       vnexpress.net  \n",
       "39           tinvn.info  \n",
       "215       dantri.com.vn  \n",
       "203  thethao.tuoitre.vn  \n",
       "\n",
       "[2049 rows x 2 columns]"
      ]
     },
     "execution_count": 29,
     "metadata": {},
     "output_type": "execute_result"
    }
   ],
   "source": [
    "X_train.shape\n",
    "X_train"
   ]
  },
  {
   "cell_type": "code",
   "execution_count": 30,
   "id": "6a5d286c",
   "metadata": {},
   "outputs": [
    {
     "data": {
      "text/plain": [
       "(2049, 1)"
      ]
     },
     "execution_count": 30,
     "metadata": {},
     "output_type": "execute_result"
    }
   ],
   "source": [
    "y_train.shape"
   ]
  },
  {
   "cell_type": "markdown",
   "id": "073aeced",
   "metadata": {},
   "source": [
    "**3.3 Encode các thuộc tính categorical**"
   ]
  },
  {
   "cell_type": "code",
   "execution_count": 31,
   "id": "83d554b5",
   "metadata": {},
   "outputs": [
    {
     "ename": "NameError",
     "evalue": "name 'TfidfVectorizer' is not defined",
     "output_type": "error",
     "traceback": [
      "\u001b[1;31m---------------------------------------------------------------------------\u001b[0m",
      "\u001b[1;31mNameError\u001b[0m                                 Traceback (most recent call last)",
      "\u001b[1;32mC:\\Users\\ADMINI~1\\AppData\\Local\\Temp/ipykernel_2484/2742423453.py\u001b[0m in \u001b[0;36m<module>\u001b[1;34m\u001b[0m\n\u001b[0;32m      1\u001b[0m \u001b[0menc\u001b[0m \u001b[1;33m=\u001b[0m \u001b[0mOneHotEncoder\u001b[0m\u001b[1;33m(\u001b[0m\u001b[0mhandle_unknown\u001b[0m\u001b[1;33m=\u001b[0m\u001b[1;34m'ignore'\u001b[0m\u001b[1;33m,\u001b[0m \u001b[0msparse\u001b[0m \u001b[1;33m=\u001b[0m\u001b[1;32mFalse\u001b[0m\u001b[1;33m)\u001b[0m\u001b[1;33m\u001b[0m\u001b[1;33m\u001b[0m\u001b[0m\n\u001b[1;32m----> 2\u001b[1;33m \u001b[0mvectorizer\u001b[0m \u001b[1;33m=\u001b[0m \u001b[0mTfidfVectorizer\u001b[0m\u001b[1;33m(\u001b[0m\u001b[1;33m)\u001b[0m\u001b[1;33m\u001b[0m\u001b[1;33m\u001b[0m\u001b[0m\n\u001b[0m",
      "\u001b[1;31mNameError\u001b[0m: name 'TfidfVectorizer' is not defined"
     ]
    }
   ],
   "source": [
    "enc = OneHotEncoder(handle_unknown='ignore', sparse =False)\n",
    "vectorizer = TfidfVectorizer()"
   ]
  },
  {
   "cell_type": "code",
   "execution_count": null,
   "id": "c7080564",
   "metadata": {},
   "outputs": [],
   "source": [
    "step1 = make_column_transformer((enc,[\"domain\"]))\n",
    "step2 = make_column_transformer((vectorizer,[\"text\"]))"
   ]
  },
  {
   "cell_type": "markdown",
   "id": "1bc5ad98",
   "metadata": {},
   "source": [
    "**3.4 Chọn mô hình cây quyết định (DecisionTree)**\n",
    "* Giải thích: các thuộc tính không phải nhãn đều là catgorical. Và thuật toán cây quyết định hoạt động tốt trên kiểu dữ liệu này"
   ]
  },
  {
   "cell_type": "code",
   "execution_count": null,
   "id": "0ca09b0a",
   "metadata": {},
   "outputs": [],
   "source": [
    "class ColAdderDropper(BaseEstimator, TransformerMixin):\n",
    "    def __init__(self,a=2):\n",
    "        self.a = a\n",
    "    def fit(self, X,y=None):\n",
    "        return self\n",
    "    def transform(self, X_df,y=None):\n",
    "        vectorizer = TfidfVectorizer()\n",
    "        out_df = X_df.copy()\n",
    "        X = vectorizer.fit_transform(out_df.text)\n",
    "        out_df = out_df.join(pd.DataFrame(X))\n",
    "        out_df = out_df.drop([\"text\"], axis=1)\n",
    "        return out_df"
   ]
  },
  {
   "cell_type": "code",
   "execution_count": null,
   "id": "850fe2b8",
   "metadata": {},
   "outputs": [],
   "source": [
    "tree = DecisionTreeClassifier()\n",
    "#tree.fit(x_train,y_train)"
   ]
  },
  {
   "cell_type": "code",
   "execution_count": null,
   "id": "6861d030",
   "metadata": {
    "scrolled": true
   },
   "outputs": [],
   "source": [
    "pipeline = make_pipeline(ColAdderDropper(), step1, tree)\n",
    "pipeline"
   ]
  },
  {
   "cell_type": "code",
   "execution_count": null,
   "id": "d7dba72f",
   "metadata": {},
   "outputs": [],
   "source": [
    "def combine(text):\n",
    "    return ' '.join(text)"
   ]
  },
  {
   "cell_type": "code",
   "execution_count": null,
   "id": "8364c8a3",
   "metadata": {},
   "outputs": [],
   "source": [
    "pipeline.fit(X_train, y_train)"
   ]
  },
  {
   "cell_type": "code",
   "execution_count": null,
   "id": "65a1e23e",
   "metadata": {},
   "outputs": [],
   "source": [
    "# Prediction\n",
    "pred = pipeline.predict(X_test)"
   ]
  },
  {
   "cell_type": "code",
   "execution_count": null,
   "id": "f5da68b1",
   "metadata": {},
   "outputs": [],
   "source": [
    "#Report trên kết quả\n",
    "print(classification_report(y_test,pred))"
   ]
  },
  {
   "cell_type": "markdown",
   "id": "915944ef",
   "metadata": {},
   "source": [
    "**Độ đo accuracy trên tập test**"
   ]
  },
  {
   "cell_type": "code",
   "execution_count": null,
   "id": "505f6531",
   "metadata": {},
   "outputs": [],
   "source": [
    "accuracy_score(y_test, pred)*100"
   ]
  },
  {
   "cell_type": "markdown",
   "id": "47df0a3b",
   "metadata": {},
   "source": [
    "**Visualization**"
   ]
  },
  {
   "cell_type": "code",
   "execution_count": null,
   "id": "7517ab1a",
   "metadata": {},
   "outputs": [],
   "source": [
    "from sklearn.metrics import plot_confusion_matrix\n",
    "from sklearn.metrics import confusion_matrix"
   ]
  },
  {
   "cell_type": "code",
   "execution_count": null,
   "id": "344cd216",
   "metadata": {},
   "outputs": [],
   "source": [
    "plot_confusion_matrix(pipeline, X_test,y_test)"
   ]
  },
  {
   "cell_type": "markdown",
   "id": "c8e380a5",
   "metadata": {},
   "source": [
    "## Nhận xét\n",
    "* Độ đo accuracy hoạt động tốt trên tập dữ liệu (100% trên cả train và test)\n",
    "* Đây là mô hình hoạt đông tốt trên các thuộc tính được rời rạc hoá tốt"
   ]
  },
  {
   "cell_type": "markdown",
   "id": "f4af66ca",
   "metadata": {},
   "source": [
    "## Logistic Regression"
   ]
  },
  {
   "cell_type": "code",
   "execution_count": null,
   "id": "9924a891",
   "metadata": {},
   "outputs": [],
   "source": []
  },
  {
   "cell_type": "code",
   "execution_count": null,
   "id": "dfc68abe",
   "metadata": {},
   "outputs": [],
   "source": [
    "df = vnnews_df.copy()"
   ]
  },
  {
   "cell_type": "code",
   "execution_count": null,
   "id": "73081b53",
   "metadata": {},
   "outputs": [],
   "source": [
    "def combine(text):\n",
    "    return ' '.join(text)"
   ]
  },
  {
   "cell_type": "code",
   "execution_count": null,
   "id": "3ab87014",
   "metadata": {},
   "outputs": [],
   "source": [
    "df = df.explode(\"text\")\n",
    "df[\"text\"] = df.text.apply(combine)\n",
    "df"
   ]
  },
  {
   "cell_type": "code",
   "execution_count": null,
   "id": "b25f6bad",
   "metadata": {},
   "outputs": [],
   "source": [
    "X = df.text\n",
    "y = df.label.values.reshape(-1,1)"
   ]
  },
  {
   "cell_type": "code",
   "execution_count": null,
   "id": "6fc02415",
   "metadata": {},
   "outputs": [],
   "source": [
    "X_train, X_test, y_train, y_test = train_test_split(X,y, test_size =0.42)"
   ]
  },
  {
   "cell_type": "code",
   "execution_count": null,
   "id": "ab365579",
   "metadata": {},
   "outputs": [],
   "source": [
    "X_train.shape, y_train.shape"
   ]
  },
  {
   "cell_type": "code",
   "execution_count": null,
   "id": "1027f6f0",
   "metadata": {},
   "outputs": [],
   "source": [
    "vectorizer = TfidfVectorizer()"
   ]
  },
  {
   "cell_type": "code",
   "execution_count": null,
   "id": "0387ae6a",
   "metadata": {},
   "outputs": [],
   "source": [
    "clf = LogisticRegression(random_state=0)"
   ]
  },
  {
   "cell_type": "code",
   "execution_count": null,
   "id": "ce4d07bc",
   "metadata": {},
   "outputs": [],
   "source": [
    "pipeline = make_pipeline(vectorizer, clf)"
   ]
  },
  {
   "cell_type": "code",
   "execution_count": null,
   "id": "88e2a00f",
   "metadata": {},
   "outputs": [],
   "source": [
    "pipeline"
   ]
  },
  {
   "cell_type": "code",
   "execution_count": null,
   "id": "aa756020",
   "metadata": {},
   "outputs": [],
   "source": [
    "pipeline.fit(X_train,y_train)"
   ]
  },
  {
   "cell_type": "code",
   "execution_count": null,
   "id": "22e31d2c",
   "metadata": {},
   "outputs": [],
   "source": [
    "pipeline.predict(X_test)"
   ]
  },
  {
   "cell_type": "code",
   "execution_count": null,
   "id": "38db274f",
   "metadata": {},
   "outputs": [],
   "source": [
    "from sklearn.metrics import plot_confusion_matrix\n",
    "from sklearn.metrics import confusion_matrix"
   ]
  },
  {
   "cell_type": "code",
   "execution_count": null,
   "id": "5a1361b1",
   "metadata": {},
   "outputs": [],
   "source": [
    "plot_confusion_matrix(pipeline,X_test,y_test )"
   ]
  }
 ],
 "metadata": {
  "kernelspec": {
   "display_name": "Python 3 (ipykernel)",
   "language": "python",
   "name": "python3"
  },
  "language_info": {
   "codemirror_mode": {
    "name": "ipython",
    "version": 3
   },
   "file_extension": ".py",
   "mimetype": "text/x-python",
   "name": "python",
   "nbconvert_exporter": "python",
   "pygments_lexer": "ipython3",
   "version": "3.8.8"
  }
 },
 "nbformat": 4,
 "nbformat_minor": 5
}
